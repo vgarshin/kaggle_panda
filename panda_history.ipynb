{
 "cells": [
  {
   "cell_type": "code",
   "execution_count": 4,
   "metadata": {},
   "outputs": [],
   "source": [
    "import os\n",
    "MAIN_PATH = '.'"
   ]
  },
  {
   "cell_type": "code",
   "execution_count": 5,
   "metadata": {
    "scrolled": false
   },
   "outputs": [
    {
     "name": "stdout",
     "output_type": "stream",
     "text": [
      "{'MODEL_VER': 'v10', 'TILES_DIR': './data/train_images_tiles_q1_156_64/', 'ENET_TYPE': 'efficientnet-b2', 'N_FOLDS': 4, 'TILE_SIZE': 156, 'N_TILES': 47, 'BATCH_SIZE': 10, 'N_WORKERS': 8, 'OUT_DIM': 5, 'LR': 0.0003, 'N_EPOCHS': 40, 'COMMENTS': 'with warm up'} | fold: 0 | max QWK: 0.885161\n",
      "\n",
      "{'MODEL_VER': 'v11', 'TILES_DIR': './data/train_images_tiles_q1_256_36/', 'ENET_TYPE': 'efficientnet-b1', 'N_FOLDS': 4, 'TILE_SIZE': 256, 'N_TILES': 16, 'BATCH_SIZE': 10, 'N_WORKERS': 8, 'OUT_DIM': 5, 'LR': 0.0003, 'N_EPOCHS': 40, 'COMMENTS': 'with warm up'} | fold: 0 | max QWK: 0.883909\n",
      "\n",
      "{'MODEL_VER': 'v12', 'TILES_DIR': './data/train_images_tiles_q1_156_64/', 'ENET_TYPE': 'efficientnet-b1', 'N_FOLDS': 5, 'TILE_SIZE': 156, 'N_TILES': 47, 'BATCH_SIZE': 12, 'N_WORKERS': 8, 'OUT_DIM': 5, 'LR': 0.0003, 'N_EPOCHS': 40, 'COMMENTS': 'no warm up no blur and contrast'} | fold: 0 | max QWK: 0.888467 == LB 0.85\n",
      "\n",
      "{'MODEL_VER': 'v13', 'TILES_DIR': './data/train_images_tiles_q1_256_36/', 'ENET_TYPE': 'efficientnet-b0', 'N_FOLDS': 5, 'TILE_SIZE': 256, 'N_TILES': 25, 'BATCH_SIZE': 8, 'N_WORKERS': 24, 'OUT_DIM': 5, 'LR': 0.0003, 'N_EPOCHS': 40, 'WARMUP': True, 'COMMENTS': 'seed 2020'} | fold: 0 | max QWK: 0.904173 == LB 0.86\n",
      "\n",
      "{'MODEL_VER': 'v13', 'TILES_DIR': './data/train_images_tiles_q1_256_36/', 'ENET_TYPE': 'efficientnet-b0', 'N_FOLDS': 5, 'TILE_SIZE': 256, 'N_TILES': 25, 'BATCH_SIZE': 8, 'N_WORKERS': 24, 'OUT_DIM': 5, 'LR': 0.0003, 'N_EPOCHS': 40, 'WARMUP': True, 'COMMENTS': 'seed 2020'} | fold: 1 | max QWK: 0.905766 == LB 0.86\n",
      "\n",
      "{'MODEL_VER': 'v13', 'TILES_DIR': './data/train_images_tiles_q1_256_36/', 'ENET_TYPE': 'efficientnet-b0', 'N_FOLDS': 5, 'TILE_SIZE': 256, 'N_TILES': 25, 'BATCH_SIZE': 8, 'N_WORKERS': 24, 'OUT_DIM': 5, 'LR': 0.0003, 'N_EPOCHS': 40, 'WARMUP': True, 'COMMENTS': 'seed 2020'} | fold: 2 | max QWK: 0.870269\n",
      "\n",
      "{'MODEL_VER': 'v14', 'TILES_DIR': './data/train_images_tiles_q1_256_36/', 'ENET_TYPE': 'efficientnet-b0', 'N_FOLDS': 5, 'TILE_SIZE': 256, 'N_TILES': 25, 'BATCH_SIZE': 8, 'N_WORKERS': 24, 'OUT_DIM': 5, 'LR': 0.0003, 'N_EPOCHS': 30, 'WARMUP': True, 'COMMENTS': 'seed 2020 only affine effnet_'} | fold: 0 | max QWK: 0.882796 == LB 0.86\n",
      "\n",
      "{'MODEL_VER': 'v15', 'TILES_DIR': './data/train_images_tiles_q1_256_36/', 'ENET_TYPE': 'efficientnet-b0', 'N_FOLDS': 5, 'TILE_SIZE': 256, 'N_TILES': 25, 'BATCH_SIZE': 8, 'N_WORKERS': 24, 'OUT_DIM': 5, 'LR': 0.0003, 'N_EPOCHS': 40, 'WARMUP': True, 'COMMENTS': 'seed 2020 only affine effnet_'} | fold: 0 | max QWK: 0.889503 == LB 0.86 (as 0) 0.87 (as 1, 2 TTA TTA2)\n",
      "\n",
      "{'MODEL_VER': 'v15', 'TILES_DIR': './data/train_images_tiles_q1_256_36/', 'ENET_TYPE': 'efficientnet-b0', 'N_FOLDS': 5, 'TILE_SIZE': 256, 'N_TILES': 25, 'BATCH_SIZE': 8, 'N_WORKERS': 24, 'OUT_DIM': 5, 'LR': 0.0003, 'N_EPOCHS': 40, 'WARMUP': True, 'COMMENTS': 'seed 2020 only affine effnet_'} | fold: 1 | max QWK: 0.894891 == LB 0.87 0.87 (as 1, 2 TTA TTA2)\n",
      "\n",
      "{'MODEL_VER': 'v15', 'TILES_DIR': './data/train_images_tiles_q1_256_36/', 'ENET_TYPE': 'efficientnet-b0', 'N_FOLDS': 5, 'TILE_SIZE': 256, 'N_TILES': 25, 'BATCH_SIZE': 8, 'N_WORKERS': 24, 'OUT_DIM': 5, 'LR': 0.0003, 'N_EPOCHS': 40, 'WARMUP': True, 'COMMENTS': 'seed 2020 only affine effnet_'} | fold: 2 | max QWK: 0.860678 == LB 0.86 (as 0, 1, 2, 3 TTA TTA2)\n",
      "\n",
      "{'MODEL_VER': 'v15', 'TILES_DIR': './data/train_images_tiles_q1_256_36/', 'ENET_TYPE': 'efficientnet-b0', 'N_FOLDS': 5, 'TILE_SIZE': 256, 'N_TILES': 25, 'BATCH_SIZE': 8, 'N_WORKERS': 24, 'OUT_DIM': 5, 'LR': 0.0003, 'N_EPOCHS': 40, 'WARMUP': True, 'COMMENTS': 'seed 2020 only affine effnet_'} | fold: 3 | max QWK: 0.878270 == LB 0.86 (as 0, 1, 2, 3 TTA TTA2)\n",
      "\n",
      "{'MODEL_VER': 'v15', 'TILES_DIR': './data/train_images_tiles_q1_256_36/', 'ENET_TYPE': 'efficientnet-b0', 'N_FOLDS': 5, 'TILE_SIZE': 256, 'N_TILES': 25, 'BATCH_SIZE': 8, 'N_WORKERS': 24, 'OUT_DIM': 5, 'LR': 0.0003, 'N_EPOCHS': 40, 'WARMUP': True, 'COMMENTS': 'seed 2020 only affine effnet_'} | fold: 4 | max QWK: 0.878203\n",
      "\n",
      "{'MODEL_VER': 'v16', 'TILES_DIR': './data/train_images_tiles_q1_156_64/', 'ENET_TYPE': 'efficientnet-b0', 'N_FOLDS': 5, 'TILE_SIZE': 156, 'N_TILES': 64, 'BATCH_SIZE': 8, 'N_WORKERS': 24, 'OUT_DIM': 5, 'LR': 0.0003, 'N_EPOCHS': 40, 'WARMUP': True, 'SEED': 2020, 'COMMENTS': 'only affine effnet_'} | fold: 0 | max QWK: 0.890082 == LB 0.85\n",
      "\n",
      "{'MODEL_VER': 'v17', 'TILES_DIR': './data/train_images_tiles_q1_256_36/', 'ENET_TYPE': 'efficientnet-b0', 'N_FOLDS': 5, 'TILE_SIZE': 256, 'N_TILES': 16, 'BATCH_SIZE': 12, 'N_WORKERS': 12, 'OUT_DIM': 5, 'LR': 0.0003, 'N_EPOCHS': 40, 'WARMUP': True, 'SEED': 2020, 'DROPOUT': 0.3, 'COMMENTS': 'only affine effnet_'} | fold: 0 | max QWK: 0.885597\n",
      "\n",
      "{'MODEL_VER': 'v18', 'TILES_DIR': './data/train_images_tiles_q1_256_36/', 'ENET_TYPE': 'efficientnet-b0', 'N_FOLDS': 4, 'TILE_SIZE': 256, 'N_TILES': 25, 'BATCH_SIZE': 8, 'N_WORKERS': 12, 'OUT_DIM': 5, 'LR': 0.0003, 'N_EPOCHS': 40, 'WARMUP': True, 'SEED': 2020, 'DROPOUT': 0.25, 'COMMENTS': 'only affine effnet_'} | fold: 0 | max QWK: 0.889340 == LB 0.85\n",
      "\n",
      "{'MODEL_VER': 'v19', 'TILES_DIR': './data/train_images_tiles_q1_256_36/', 'ENET_TYPE': 'efficientnet-b0', 'N_FOLDS': 5, 'TILE_SIZE': 256, 'N_TILES': 25, 'BATCH_SIZE': 8, 'N_WORKERS': 12, 'OUT_DIM': 5, 'LR': 0.0003, 'N_EPOCHS': 40, 'WARMUP': True, 'SEED': 2021, 'DROPOUT': 0.4, 'RAND': False, 'COMMENTS': 'only affine effnet_'} | fold: 0 | max QWK: 0.885698\n",
      "\n",
      "{'MODEL_VER': 'v20', 'TILES_DIR': './data/train_images_tiles_q1_156_64/', 'ENET_TYPE': 'efficientnet-b1', 'N_FOLDS': 5, 'TILE_SIZE': 156, 'N_TILES': 47, 'BATCH_SIZE': 11, 'N_WORKERS': 12, 'OUT_DIM': 5, 'LR': 0.0003, 'N_EPOCHS': 40, 'WARMUP': True, 'SEED': 2021, 'DROPOUT': 0.4, 'RAND': False, 'COMMENTS': 'only affine effnet_'} | fold: 0 | max QWK: 0.873086\n",
      "\n",
      "{'MODEL_VER': 'v21', 'TILES_DIR': './data/train_images_tiles_q1_156_64/', 'ENET_TYPE': 'efficientnet-b0', 'N_FOLDS': 5, 'TILE_SIZE': 156, 'N_TILES': 49, 'BATCH_SIZE': 9, 'N_WORKERS': 12, 'OUT_DIM': 5, 'LR': 0.0003, 'N_EPOCHS': 40, 'WARMUP': True, 'SEED': 1000, 'DROPOUT': 0.4, 'RAND': False, 'COMMENTS': 'only affine effnet_'} | fold: 0 | max QWK: 0.885646 == LB 0.864\n",
      "\n",
      "{'MODEL_VER': 'v22', 'TILES_DIR': './data/train_images_tiles_q1_156_64/', 'ENET_TYPE': 'efficientnet-b1', 'N_FOLDS': 5, 'TILE_SIZE': 156, 'N_TILES': 49, 'BATCH_SIZE': 8, 'N_WORKERS': 12, 'OUT_DIM': 5, 'LR': 0.0003, 'N_EPOCHS': 40, 'WARMUP': True, 'SEED': 1000, 'DROPOUT': 0.4, 'RAND': False, 'COMMENTS': 'only affine effnet_'} | fold: 0 | max QWK: 0.885175\n",
      "\n",
      "{'MODEL_VER': 'v23', 'TILES_DIR': './data/train_images_tiles_q1_256_36/', 'ENET_TYPE': 'efficientnet-b0', 'N_FOLDS': 5, 'TILE_SIZE': 256, 'N_TILES': 25, 'BATCH_SIZE': 8, 'N_WORKERS': 12, 'OUT_DIM': 5, 'LR': 0.0003, 'N_EPOCHS': 30, 'WARMUP': True, 'SEED': 1000, 'DROPOUT': 0.4, 'RAND': False, 'COMMENTS': 'only affine effnet_'} | fold: 0 | max QWK: 0.890695\n",
      "\n",
      "{'MODEL_VER': 'v23', 'TILES_DIR': './data/train_images_tiles_q1_256_36/', 'ENET_TYPE': 'efficientnet-b0', 'N_FOLDS': 5, 'TILE_SIZE': 256, 'N_TILES': 25, 'BATCH_SIZE': 8, 'N_WORKERS': 12, 'OUT_DIM': 5, 'LR': 0.0003, 'N_EPOCHS': 30, 'WARMUP': True, 'SEED': 1000, 'DROPOUT': 0.4, 'RAND': False, 'COMMENTS': 'only affine effnet_'} | fold: 1 | max QWK: 0.871781\n",
      "\n",
      "{'MODEL_VER': 'v4', 'TILES_DIR': './data/train_images_tiles_q1_156_64/', 'ENET_TYPE': 'efficientnet-b1', 'N_FOLDS': 4, 'TILE_SIZE': 156, 'IMAGE_SIZE': 156, 'N_TILES': 49, 'BATCH_SIZE': 8, 'N_WORKERS': 8, 'OUT_DIM': 5, 'LR': 0.0003, 'N_EPOCHS': 30} | fold: 0 | max QWK: 0.881802\n",
      "\n",
      "{'MODEL_VER': 'v5', 'TILES_DIR': './data/train_images_tiles_q1_156_64/', 'ENET_TYPE': 'efficientnet-b0', 'N_FOLDS': 4, 'TILE_SIZE': 156, 'IMAGE_SIZE': 156, 'N_TILES': 64, 'BATCH_SIZE': 10, 'N_WORKERS': 8, 'OUT_DIM': 5, 'LR': 0.0003, 'N_EPOCHS': 30} | fold: 0 | max QWK: 0.885841\n",
      "\n",
      "{'MODEL_VER': 'v6', 'TILES_DIR': './data/train_images_tiles_q1_156_64/', 'ENET_TYPE': 'efficientnet-b0', 'N_FOLDS': 4, 'TILE_SIZE': 156, 'IMAGE_SIZE': 156, 'N_TILES': 64, 'BATCH_SIZE': 10, 'N_WORKERS': 8, 'OUT_DIM': 5, 'LR': 0.0003, 'N_EPOCHS': 30} | fold: 0 | max QWK: 0.876681\n",
      "\n",
      "{'MODEL_VER': 'v7', 'TILES_DIR': './data/train_images_tiles_q1_256_36/', 'ENET_TYPE': 'efficientnet-b0', 'N_FOLDS': 4, 'TILE_SIZE': 256, 'IMAGE_SIZE': 256, 'N_TILES': 25, 'BATCH_SIZE': 8, 'N_WORKERS': 8, 'OUT_DIM': 5, 'LR': 0.0003, 'N_EPOCHS': 30} | fold: 0 | max QWK: 0.882441 == LB 0.83\n",
      "\n",
      "{'MODEL_VER': 'v8', 'TILES_DIR': './data/train_images_tiles_q1_156_64/', 'ENET_TYPE': 'efficientnet-b0', 'N_FOLDS': 4, 'TILE_SIZE': 156, 'N_TILES': 36, 'BATCH_SIZE': 16, 'N_WORKERS': 8, 'OUT_DIM': 5, 'LR': 0.0003, 'N_EPOCHS': 40, 'COMMENTS': ''} | fold: 0 | max QWK: 0.888403 == LB 0.85\n",
      "\n",
      "{'MODEL_VER': 'v8', 'TILES_DIR': './data/train_images_tiles_q1_156_64/', 'ENET_TYPE': 'efficientnet-b0', 'N_FOLDS': 4, 'TILE_SIZE': 156, 'N_TILES': 36, 'BATCH_SIZE': 16, 'N_WORKERS': 8, 'OUT_DIM': 5, 'LR': 0.0003, 'N_EPOCHS': 40, 'COMMENTS': ''} | fold: 1 | max QWK: 0.887335 == LB 0.85\n",
      "\n",
      "{'MODEL_VER': 'v9', 'TILES_DIR': './data/train_images_tiles_q1_156_64/', 'ENET_TYPE': 'efficientnet-b2', 'N_FOLDS': 4, 'TILE_SIZE': 156, 'N_TILES': 47, 'BATCH_SIZE': 10, 'N_WORKERS': 8, 'OUT_DIM': 5, 'LR': 0.0003, 'N_EPOCHS': 40, 'COMMENTS': ''} | fold: 0 | max QWK: 0.880719\n",
      "\n"
     ]
    }
   ],
   "source": [
    "all_results = []\n",
    "for path in [x for x in os.listdir(MAIN_PATH) if 'effnet_models' in x]:\n",
    "    MODELS_PATH = '{}/{}'.format(MAIN_PATH, path)\n",
    "    for file_name in [x for x in os.listdir(MODELS_PATH) if '_all' in x]:\n",
    "        with open('{}/{}/{}'.format(MAIN_PATH, path, file_name), 'r') as file:\n",
    "            s = file.readlines()\n",
    "            for si in s:\n",
    "                #print(file_name, si)\n",
    "                all_results.append(si)\n",
    "for si in sorted(all_results):\n",
    "    print(si)"
   ]
  },
  {
   "cell_type": "code",
   "execution_count": null,
   "metadata": {},
   "outputs": [],
   "source": []
  }
 ],
 "metadata": {
  "kernelspec": {
   "display_name": "Orange Python 3",
   "language": "python",
   "name": "orange"
  },
  "language_info": {
   "codemirror_mode": {
    "name": "ipython",
    "version": 3
   },
   "file_extension": ".py",
   "mimetype": "text/x-python",
   "name": "python",
   "nbconvert_exporter": "python",
   "pygments_lexer": "ipython3",
   "version": "3.7.6"
  }
 },
 "nbformat": 4,
 "nbformat_minor": 4
}
