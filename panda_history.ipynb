{
 "cells": [
  {
   "cell_type": "code",
   "execution_count": 1,
   "metadata": {},
   "outputs": [],
   "source": [
    "import os\n",
    "MAIN_PATH = '.'"
   ]
  },
  {
   "cell_type": "code",
   "execution_count": 2,
   "metadata": {},
   "outputs": [
    {
     "name": "stdout",
     "output_type": "stream",
     "text": [
      "log_efficientnet-b2_folds_all.txt {'MODEL_VER': 'v10', 'TILES_DIR': './data/train_images_tiles_q1_156_64/', 'ENET_TYPE': 'efficientnet-b2', 'N_FOLDS': 4, 'TILE_SIZE': 156, 'N_TILES': 47, 'BATCH_SIZE': 10, 'N_WORKERS': 8, 'OUT_DIM': 5, 'LR': 0.0003, 'N_EPOCHS': 40, 'COMMENTS': 'with warm up'} | fold: 0 | max QWK: 0.885161\n",
      "\n",
      "log_efficientnet-b0_folds_all.txt {'MODEL_VER': 'v8', 'TILES_DIR': './data/train_images_tiles_q1_156_64/', 'ENET_TYPE': 'efficientnet-b0', 'N_FOLDS': 4, 'TILE_SIZE': 156, 'N_TILES': 36, 'BATCH_SIZE': 16, 'N_WORKERS': 8, 'OUT_DIM': 5, 'LR': 0.0003, 'N_EPOCHS': 40, 'COMMENTS': ''} | fold: 0 | max QWK: 0.888403 == LB 0.85\n",
      "\n",
      "log_efficientnet-b0_folds_all.txt {'MODEL_VER': 'v8', 'TILES_DIR': './data/train_images_tiles_q1_156_64/', 'ENET_TYPE': 'efficientnet-b0', 'N_FOLDS': 4, 'TILE_SIZE': 156, 'N_TILES': 36, 'BATCH_SIZE': 16, 'N_WORKERS': 8, 'OUT_DIM': 5, 'LR': 0.0003, 'N_EPOCHS': 40, 'COMMENTS': ''} | fold: 1 | max QWK: 0.887335 == LB 0.85\n",
      "\n",
      "log_efficientnet-b1_folds_all.txt {'MODEL_VER': 'v11', 'TILES_DIR': './data/train_images_tiles_q1_256_36/', 'ENET_TYPE': 'efficientnet-b1', 'N_FOLDS': 4, 'TILE_SIZE': 256, 'N_TILES': 16, 'BATCH_SIZE': 10, 'N_WORKERS': 8, 'OUT_DIM': 5, 'LR': 0.0003, 'N_EPOCHS': 40, 'COMMENTS': 'with warm up'} | fold: 0 | max QWK: 0.883909\n",
      "\n",
      "log_efficientnet-b1_folds_all.txt {'MODEL_VER': 'v4', 'TILES_DIR': './data/train_images_tiles_q1_156_64/', 'ENET_TYPE': 'efficientnet-b1', 'N_FOLDS': 4, 'TILE_SIZE': 156, 'IMAGE_SIZE': 156, 'N_TILES': 49, 'BATCH_SIZE': 8, 'N_WORKERS': 8, 'OUT_DIM': 5, 'LR': 0.0003, 'N_EPOCHS': 30} | fold: 0 | max QWK: 0.881802\n",
      "\n",
      "log_efficientnet-b0_folds_all.txt {'MODEL_VER': 'v6', 'TILES_DIR': './data/train_images_tiles_q1_156_64/', 'ENET_TYPE': 'efficientnet-b0', 'N_FOLDS': 4, 'TILE_SIZE': 156, 'IMAGE_SIZE': 156, 'N_TILES': 64, 'BATCH_SIZE': 10, 'N_WORKERS': 8, 'OUT_DIM': 5, 'LR': 0.0003, 'N_EPOCHS': 30} | fold: 0 | max QWK: 0.876681\n",
      "\n",
      "log_efficientnet-b0_folds_all.txt {'MODEL_VER': 'v7', 'TILES_DIR': './data/train_images_tiles_q1_256_36/', 'ENET_TYPE': 'efficientnet-b0', 'N_FOLDS': 4, 'TILE_SIZE': 256, 'IMAGE_SIZE': 256, 'N_TILES': 25, 'BATCH_SIZE': 8, 'N_WORKERS': 8, 'OUT_DIM': 5, 'LR': 0.0003, 'N_EPOCHS': 30} | fold: 0 | max QWK: 0.882441 == LB 0.83\n",
      "\n",
      "log_efficientnet-b0_folds_all.txt {'MODEL_VER': 'v5', 'TILES_DIR': './data/train_images_tiles_q1_156_64/', 'ENET_TYPE': 'efficientnet-b0', 'N_FOLDS': 4, 'TILE_SIZE': 156, 'IMAGE_SIZE': 156, 'N_TILES': 64, 'BATCH_SIZE': 10, 'N_WORKERS': 8, 'OUT_DIM': 5, 'LR': 0.0003, 'N_EPOCHS': 30} | fold: 0 | max QWK: 0.885841\n",
      "\n",
      "log_efficientnet-b1_folds_all.txt {'MODEL_VER': 'v12', 'TILES_DIR': './data/train_images_tiles_q1_156_64/', 'ENET_TYPE': 'efficientnet-b1', 'N_FOLDS': 5, 'TILE_SIZE': 156, 'N_TILES': 47, 'BATCH_SIZE': 12, 'N_WORKERS': 8, 'OUT_DIM': 5, 'LR': 0.0003, 'N_EPOCHS': 40, 'COMMENTS': 'no warm up no blur and contrast'} | fold: 0 | max QWK: 0.888467 == LB 0.85\n",
      "\n",
      "log_efficientnet-b2_folds_all.txt {'MODEL_VER': 'v9', 'TILES_DIR': './data/train_images_tiles_q1_156_64/', 'ENET_TYPE': 'efficientnet-b2', 'N_FOLDS': 4, 'TILE_SIZE': 156, 'N_TILES': 47, 'BATCH_SIZE': 10, 'N_WORKERS': 8, 'OUT_DIM': 5, 'LR': 0.0003, 'N_EPOCHS': 40, 'COMMENTS': ''} | fold: 0 | max QWK: 0.880719\n",
      "\n"
     ]
    }
   ],
   "source": [
    "for path in [x for x in os.listdir(MAIN_PATH) if 'effnet_models' in x]:\n",
    "    MODELS_PATH = '{}/{}'.format(MAIN_PATH, path)\n",
    "    for file_name in [x for x in os.listdir(MODELS_PATH) if '_all' in x]:\n",
    "        with open('{}/{}/{}'.format(MAIN_PATH, path, file_name), 'r') as file:\n",
    "            s = file.readlines()\n",
    "            for si in s:\n",
    "                print(file_name, si)"
   ]
  },
  {
   "cell_type": "code",
   "execution_count": null,
   "metadata": {},
   "outputs": [],
   "source": []
  }
 ],
 "metadata": {
  "kernelspec": {
   "display_name": "Orange Python 3",
   "language": "python",
   "name": "orange"
  },
  "language_info": {
   "codemirror_mode": {
    "name": "ipython",
    "version": 3
   },
   "file_extension": ".py",
   "mimetype": "text/x-python",
   "name": "python",
   "nbconvert_exporter": "python",
   "pygments_lexer": "ipython3",
   "version": "3.7.6"
  }
 },
 "nbformat": 4,
 "nbformat_minor": 4
}
