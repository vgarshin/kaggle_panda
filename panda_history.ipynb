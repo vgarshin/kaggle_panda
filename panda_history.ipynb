{
 "cells": [
  {
   "cell_type": "code",
   "execution_count": null,
   "metadata": {},
   "outputs": [],
   "source": [
    "import os\n",
    "MAIN_PATH = '.'"
   ]
  },
  {
   "cell_type": "code",
   "execution_count": null,
   "metadata": {
    "scrolled": false
   },
   "outputs": [],
   "source": [
    "all_results = []\n",
    "for path in [x for x in os.listdir(MAIN_PATH) if 'effnet_models' in x]:\n",
    "    MODELS_PATH = '{}/{}'.format(MAIN_PATH, path)\n",
    "    for file_name in [x for x in os.listdir(MODELS_PATH) if '_all' in x]:\n",
    "        with open('{}/{}/{}'.format(MAIN_PATH, path, file_name), 'r') as file:\n",
    "            s = file.readlines()\n",
    "            for si in s:\n",
    "                #print(file_name, si)\n",
    "                all_results.append(si)\n",
    "for si in sorted(all_results):\n",
    "    print(si)"
   ]
  },
  {
   "cell_type": "code",
   "execution_count": null,
   "metadata": {},
   "outputs": [],
   "source": []
  }
 ],
 "metadata": {
  "kernelspec": {
   "display_name": "Orange Python 3",
   "language": "python",
   "name": "orange"
  },
  "language_info": {
   "codemirror_mode": {
    "name": "ipython",
    "version": 3
   },
   "file_extension": ".py",
   "mimetype": "text/x-python",
   "name": "python",
   "nbconvert_exporter": "python",
   "pygments_lexer": "ipython3",
   "version": "3.7.6"
  }
 },
 "nbformat": 4,
 "nbformat_minor": 4
}
