{
 "cells": [
  {
   "cell_type": "code",
   "execution_count": 1,
   "metadata": {},
   "outputs": [
    {
     "name": "stdout",
     "output_type": "stream",
     "text": [
      "0 Graphics Device\n",
      "  allocated: 0.0 GB\n",
      "  cached:    0.0 GB\n",
      "1 Graphics Device\n",
      "  allocated: 0.0 GB\n",
      "  cached:    0.0 GB\n"
     ]
    }
   ],
   "source": [
    "import os\n",
    "import gc\n",
    "import sys\n",
    "import time\n",
    "import numpy as np\n",
    "import pandas as pd\n",
    "import cv2\n",
    "import PIL.Image\n",
    "import torch\n",
    "import torch.nn as nn\n",
    "import torch.nn.functional as F\n",
    "import torch.optim as optim\n",
    "from apex import amp\n",
    "import torchvision\n",
    "from torch.optim import lr_scheduler\n",
    "from torch.utils.data import DataLoader, Dataset\n",
    "from torch.utils.data.sampler import SubsetRandomSampler, RandomSampler, SequentialSampler\n",
    "from efficientnet_pytorch import model as enet\n",
    "import albumentations\n",
    "from sklearn.model_selection import StratifiedKFold\n",
    "import matplotlib.pyplot as plt\n",
    "from sklearn.metrics import cohen_kappa_score\n",
    "from tqdm.notebook import tqdm\n",
    "DEVICE = torch.device('cuda')\n",
    "for i in range(torch.cuda.device_count()):\n",
    "    print(i, torch.cuda.get_device_name(i))\n",
    "    print('  allocated:', round(torch.cuda.memory_allocated(i) / 1024 ** 3, 1), 'GB')\n",
    "    print('  cached:   ', round(torch.cuda.memory_cached(i) / 1024 ** 3, 1), 'GB')"
   ]
  },
  {
   "cell_type": "code",
   "execution_count": 2,
   "metadata": {},
   "outputs": [
    {
     "name": "stdout",
     "output_type": "stream",
     "text": [
      "{'MODEL_VER': 'v23', 'TILES_DIR': './data/train_images_tiles_q1_256_36/', 'ENET_TYPE': 'efficientnet-b0', 'N_FOLDS': 5, 'TILE_SIZE': 256, 'N_TILES': 25, 'BATCH_SIZE': 8, 'N_WORKERS': 12, 'OUT_DIM': 5, 'LR': 0.0003, 'N_EPOCHS': 30, 'WARMUP': True, 'SEED': 1000, 'DROPOUT': 0.4, 'RAND': False, 'COMMENTS': 'only affine effnet_'}\n"
     ]
    }
   ],
   "source": [
    "MAIN_PATH = '.'\n",
    "DATA_PATH = '{}/data'.format(MAIN_PATH)\n",
    "LABELS_PATH = '{}/train.csv'.format(DATA_PATH)\n",
    "DEBUG = False\n",
    "APEX = True\n",
    "M_PARAMS = {\n",
    "    'MODEL_VER': 'v23',\n",
    "    'TILES_DIR': '{}/train_images_tiles_q1_256_36/'.format(DATA_PATH),\n",
    "    'ENET_TYPE': 'efficientnet-b0',\n",
    "    'N_FOLDS': 5,\n",
    "    'TILE_SIZE': 256,\n",
    "    'N_TILES': 25,\n",
    "    'BATCH_SIZE': 8,\n",
    "    'N_WORKERS': 12,\n",
    "    'OUT_DIM': 5,\n",
    "    'LR': 3e-4,\n",
    "    'N_EPOCHS': 10 if DEBUG else 30,\n",
    "    'WARMUP': True,\n",
    "    'SEED': 1000,\n",
    "    'DROPOUT': .4,\n",
    "    'RAND': False,\n",
    "    'COMMENTS': 'only affine effnet_'\n",
    "}\n",
    "print(M_PARAMS)\n",
    "MODELS_PATH = '{}/effnet_models_{}'.format(MAIN_PATH, M_PARAMS['MODEL_VER'])\n",
    "if not os.path.exists(MODELS_PATH):\n",
    "    os.mkdir(MODELS_PATH)\n",
    "    print('created:', MODELS_PATH)\n",
    "PRETRAINED_MODEL = {\n",
    "    'efficientnet-b0': './bbs/efficientnet-b0-355c32eb.pth',\n",
    "    'efficientnet-b1': './bbs/efficientnet-b1-f1951068.pth',\n",
    "    'efficientnet-b2': './bbs/efficientnet-b2-8bb594d6.pth',\n",
    "    'efficientnet-b3': './bbs/efficientnet-b3-5fb5a3c3.pth'\n",
    "}"
   ]
  },
  {
   "cell_type": "code",
   "execution_count": 3,
   "metadata": {},
   "outputs": [
    {
     "data": {
      "text/html": [
       "<div>\n",
       "<style scoped>\n",
       "    .dataframe tbody tr th:only-of-type {\n",
       "        vertical-align: middle;\n",
       "    }\n",
       "\n",
       "    .dataframe tbody tr th {\n",
       "        vertical-align: top;\n",
       "    }\n",
       "\n",
       "    .dataframe thead th {\n",
       "        text-align: right;\n",
       "    }\n",
       "</style>\n",
       "<table border=\"1\" class=\"dataframe\">\n",
       "  <thead>\n",
       "    <tr style=\"text-align: right;\">\n",
       "      <th></th>\n",
       "      <th>Unnamed: 0</th>\n",
       "      <th>image_id</th>\n",
       "      <th>data_provider</th>\n",
       "      <th>isup_grade</th>\n",
       "      <th>gleason_score</th>\n",
       "    </tr>\n",
       "  </thead>\n",
       "  <tbody>\n",
       "    <tr>\n",
       "      <th>0</th>\n",
       "      <td>0</td>\n",
       "      <td>0005f7aaab2800f6170c399693a96917</td>\n",
       "      <td>karolinska</td>\n",
       "      <td>0</td>\n",
       "      <td>0+0</td>\n",
       "    </tr>\n",
       "    <tr>\n",
       "      <th>1</th>\n",
       "      <td>1</td>\n",
       "      <td>000920ad0b612851f8e01bcc880d9b3d</td>\n",
       "      <td>karolinska</td>\n",
       "      <td>0</td>\n",
       "      <td>0+0</td>\n",
       "    </tr>\n",
       "    <tr>\n",
       "      <th>2</th>\n",
       "      <td>2</td>\n",
       "      <td>0018ae58b01bdadc8e347995b69f99aa</td>\n",
       "      <td>radboud</td>\n",
       "      <td>4</td>\n",
       "      <td>4+4</td>\n",
       "    </tr>\n",
       "    <tr>\n",
       "      <th>3</th>\n",
       "      <td>3</td>\n",
       "      <td>001c62abd11fa4b57bf7a6c603a11bb9</td>\n",
       "      <td>karolinska</td>\n",
       "      <td>4</td>\n",
       "      <td>4+4</td>\n",
       "    </tr>\n",
       "    <tr>\n",
       "      <th>4</th>\n",
       "      <td>4</td>\n",
       "      <td>001d865e65ef5d2579c190a0e0350d8f</td>\n",
       "      <td>karolinska</td>\n",
       "      <td>0</td>\n",
       "      <td>0+0</td>\n",
       "    </tr>\n",
       "  </tbody>\n",
       "</table>\n",
       "</div>"
      ],
      "text/plain": [
       "   Unnamed: 0                          image_id data_provider  isup_grade  \\\n",
       "0           0  0005f7aaab2800f6170c399693a96917    karolinska           0   \n",
       "1           1  000920ad0b612851f8e01bcc880d9b3d    karolinska           0   \n",
       "2           2  0018ae58b01bdadc8e347995b69f99aa       radboud           4   \n",
       "3           3  001c62abd11fa4b57bf7a6c603a11bb9    karolinska           4   \n",
       "4           4  001d865e65ef5d2579c190a0e0350d8f    karolinska           0   \n",
       "\n",
       "  gleason_score  \n",
       "0           0+0  \n",
       "1           0+0  \n",
       "2           4+4  \n",
       "3           4+4  \n",
       "4           0+0  "
      ]
     },
     "execution_count": 3,
     "metadata": {},
     "output_type": "execute_result"
    }
   ],
   "source": [
    "if DEBUG:\n",
    "    df_train = pd.read_csv(os.path.join(DATA_PATH, 'train_dsph.csv')).sample(100).reset_index(drop=True)\n",
    "else:\n",
    "    df_train = pd.read_csv(os.path.join(DATA_PATH, 'train_dsph.csv'))\n",
    "df_train.head()"
   ]
  },
  {
   "cell_type": "code",
   "execution_count": 4,
   "metadata": {},
   "outputs": [
    {
     "data": {
      "text/html": [
       "<div>\n",
       "<style scoped>\n",
       "    .dataframe tbody tr th:only-of-type {\n",
       "        vertical-align: middle;\n",
       "    }\n",
       "\n",
       "    .dataframe tbody tr th {\n",
       "        vertical-align: top;\n",
       "    }\n",
       "\n",
       "    .dataframe thead th {\n",
       "        text-align: right;\n",
       "    }\n",
       "</style>\n",
       "<table border=\"1\" class=\"dataframe\">\n",
       "  <thead>\n",
       "    <tr style=\"text-align: right;\">\n",
       "      <th></th>\n",
       "      <th>Unnamed: 0</th>\n",
       "      <th>image_id</th>\n",
       "      <th>data_provider</th>\n",
       "      <th>isup_grade</th>\n",
       "      <th>gleason_score</th>\n",
       "      <th>fold</th>\n",
       "    </tr>\n",
       "  </thead>\n",
       "  <tbody>\n",
       "    <tr>\n",
       "      <th>0</th>\n",
       "      <td>0</td>\n",
       "      <td>0005f7aaab2800f6170c399693a96917</td>\n",
       "      <td>karolinska</td>\n",
       "      <td>0</td>\n",
       "      <td>0+0</td>\n",
       "      <td>2</td>\n",
       "    </tr>\n",
       "    <tr>\n",
       "      <th>1</th>\n",
       "      <td>1</td>\n",
       "      <td>000920ad0b612851f8e01bcc880d9b3d</td>\n",
       "      <td>karolinska</td>\n",
       "      <td>0</td>\n",
       "      <td>0+0</td>\n",
       "      <td>2</td>\n",
       "    </tr>\n",
       "    <tr>\n",
       "      <th>2</th>\n",
       "      <td>2</td>\n",
       "      <td>0018ae58b01bdadc8e347995b69f99aa</td>\n",
       "      <td>radboud</td>\n",
       "      <td>4</td>\n",
       "      <td>4+4</td>\n",
       "      <td>3</td>\n",
       "    </tr>\n",
       "    <tr>\n",
       "      <th>3</th>\n",
       "      <td>3</td>\n",
       "      <td>001c62abd11fa4b57bf7a6c603a11bb9</td>\n",
       "      <td>karolinska</td>\n",
       "      <td>4</td>\n",
       "      <td>4+4</td>\n",
       "      <td>1</td>\n",
       "    </tr>\n",
       "    <tr>\n",
       "      <th>4</th>\n",
       "      <td>4</td>\n",
       "      <td>001d865e65ef5d2579c190a0e0350d8f</td>\n",
       "      <td>karolinska</td>\n",
       "      <td>0</td>\n",
       "      <td>0+0</td>\n",
       "      <td>0</td>\n",
       "    </tr>\n",
       "  </tbody>\n",
       "</table>\n",
       "</div>"
      ],
      "text/plain": [
       "   Unnamed: 0                          image_id data_provider  isup_grade  \\\n",
       "0           0  0005f7aaab2800f6170c399693a96917    karolinska           0   \n",
       "1           1  000920ad0b612851f8e01bcc880d9b3d    karolinska           0   \n",
       "2           2  0018ae58b01bdadc8e347995b69f99aa       radboud           4   \n",
       "3           3  001c62abd11fa4b57bf7a6c603a11bb9    karolinska           4   \n",
       "4           4  001d865e65ef5d2579c190a0e0350d8f    karolinska           0   \n",
       "\n",
       "  gleason_score  fold  \n",
       "0           0+0     2  \n",
       "1           0+0     2  \n",
       "2           4+4     3  \n",
       "3           4+4     1  \n",
       "4           0+0     0  "
      ]
     },
     "execution_count": 4,
     "metadata": {},
     "output_type": "execute_result"
    }
   ],
   "source": [
    "skf = StratifiedKFold(M_PARAMS['N_FOLDS'], shuffle=True, random_state=M_PARAMS['SEED'])\n",
    "df_train['fold'] = -1\n",
    "for i, (train_idx, valid_idx) in enumerate(skf.split(df_train, df_train['isup_grade'])):\n",
    "    df_train.loc[valid_idx, 'fold'] = i\n",
    "df_train.head()"
   ]
  },
  {
   "cell_type": "code",
   "execution_count": 5,
   "metadata": {},
   "outputs": [],
   "source": [
    "class EffNet(nn.Module):\n",
    "    def __init__(self, backbone, out_dim):\n",
    "        super(EffNet, self).__init__()\n",
    "        self.enet = enet.EfficientNet.from_name(backbone)\n",
    "        self.enet.load_state_dict(torch.load(PRETRAINED_MODEL[backbone]))\n",
    "        #self.enet = enet.EfficientNet.from_pretrained(backbone)\n",
    "        nc = self.enet._fc.in_features\n",
    "        self.myfc = nn.Linear(nc, out_dim)\n",
    "        self.enet._fc = nn.Identity()\n",
    "        self.enet = nn.DataParallel(self.enet)\n",
    "    def forward(self, x):\n",
    "        x = self.enet(x)\n",
    "        x = self.myfc(x)\n",
    "        return x\n",
    "class EffNet_(nn.Module):\n",
    "    def __init__(self, backbone, out_dim):\n",
    "        super(EffNet_, self).__init__()\n",
    "        self.enet = enet.EfficientNet.from_name(backbone)\n",
    "        self.enet.load_state_dict(torch.load(PRETRAINED_MODEL[backbone]))\n",
    "        nc = self.enet._fc.in_features\n",
    "        self.enet._fc = nn.Identity()\n",
    "        self.enet = nn.DataParallel(self.enet)\n",
    "        self.myfc = nn.DataParallel(\n",
    "            nn.Sequential(\n",
    "            nn.Linear(nc, int(nc / 4)),\n",
    "            nn.ELU(),\n",
    "            #nn.BatchNorm1d(int(nc / 4)), \n",
    "            nn.Dropout(M_PARAMS['DROPOUT']),\n",
    "            nn.Linear(int(nc / 4), out_dim)\n",
    "            )\n",
    "        )\n",
    "    def extract(self, x):\n",
    "        return self.enet(x)\n",
    "    def forward(self, x):\n",
    "        x = self.extract(x)\n",
    "        x = self.myfc(x)\n",
    "        return x\n",
    "class ResNext(nn.Module):\n",
    "    def __init__(self, out_dim):\n",
    "        super(ResNext, self).__init__()\n",
    "        self.rsnxt = torchvision.models.resnext50_32x4d(pretrained=True)\n",
    "        nc = self.rsnxt.fc.in_features\n",
    "        self.rsnxt.fc = nn.Sequential(\n",
    "            nn.Flatten(),\n",
    "            nn.Linear(nc, int(nc / 4)),\n",
    "            nn.ReLU(),\n",
    "            nn.BatchNorm1d(int(nc / 4)), \n",
    "            nn.Dropout(.4),\n",
    "            nn.Linear(int(nc / 4), out_dim)\n",
    "        )\n",
    "        self.rsnxt = nn.DataParallel(self.rsnxt)\n",
    "    def forward(self, x):\n",
    "        x = self.rsnxt(x)\n",
    "        return x"
   ]
  },
  {
   "cell_type": "code",
   "execution_count": 6,
   "metadata": {},
   "outputs": [],
   "source": [
    "def get_tiles(img_id, n_tiles):\n",
    "        result = []\n",
    "        seq_imgs = []\n",
    "        for i in range(n_tiles):\n",
    "            img_path = '{}/{}_{}.png'.format(M_PARAMS['TILES_DIR'], img_id, i)\n",
    "            img = cv2.imread(img_path)\n",
    "            if not np.any(img):\n",
    "                print('no img file read:', img_path)\n",
    "            img = cv2.cvtColor(img, cv2.COLOR_BGR2RGB)\n",
    "            seq_imgs.append(img)\n",
    "        for i in range(len(seq_imgs)):\n",
    "            result.append({'img':seq_imgs[i], 'idx':i})\n",
    "        return result\n",
    "class PANDADataset(Dataset):\n",
    "    def __init__(self, df, tile_size, n_tiles, tile_mode=0, rand=False,\n",
    "                 transform=None, transform_tile=None):\n",
    "        self.df = df.reset_index(drop=True)\n",
    "        self.tile_size = tile_size\n",
    "        self.n_tiles = n_tiles\n",
    "        self.tile_mode = tile_mode\n",
    "        self.rand = rand\n",
    "        self.transform = transform\n",
    "        self.transform_tile = transform_tile\n",
    "    def __len__(self):\n",
    "        return self.df.shape[0]\n",
    "    def __getitem__(self, index):\n",
    "        row = self.df.iloc[index]\n",
    "        img_id = row.image_id\n",
    "        tiles = get_tiles(img_id, self.n_tiles)\n",
    "        if self.rand:\n",
    "            idxes = np.random.choice(list(range(self.n_tiles)), self.n_tiles, replace=False)\n",
    "        else:\n",
    "            idxes = list(range(self.n_tiles))\n",
    "        n_row_tiles = int(np.sqrt(self.n_tiles))\n",
    "        images = np.zeros((self.tile_size * n_row_tiles, self.tile_size * n_row_tiles, 3))\n",
    "        for h in range(n_row_tiles):\n",
    "            for w in range(n_row_tiles):\n",
    "                i = h * n_row_tiles + w\n",
    "                if len(tiles) > idxes[i]:\n",
    "                    this_img = tiles[idxes[i]]['img']\n",
    "                else:\n",
    "                    this_img = np.ones((self.tile_size, self.tile_size, 3)).astype(np.uint8) * 255\n",
    "                this_img = (255 - this_img) / 255\n",
    "                if self.transform_tile is not None:\n",
    "                    this_img = self.transform_tile(image=this_img)['image']\n",
    "                h1 = h * self.tile_size\n",
    "                w1 = w * self.tile_size\n",
    "                images[h1 : h1 + self.tile_size, w1:w1 + self.tile_size] = this_img\n",
    "        images = images.astype(np.float32)\n",
    "        if self.transform is not None:\n",
    "            images = self.transform(image=images)['image']\n",
    "        images = images.transpose(2, 0, 1)\n",
    "        label = np.zeros(5).astype(np.float32)\n",
    "        label[:row.isup_grade] = 1.\n",
    "        return torch.tensor(images), torch.tensor(label)"
   ]
  },
  {
   "cell_type": "code",
   "execution_count": 7,
   "metadata": {},
   "outputs": [],
   "source": [
    "transforms_train = albumentations.Compose(\n",
    "    [\n",
    "        #albumentations.OneOf(\n",
    "        #    [\n",
    "        #        albumentations.RandomBrightness(limit=.1), \n",
    "        #        albumentations.RandomContrast(limit=.1), \n",
    "        #        albumentations.RandomGamma()\n",
    "        #    ], \n",
    "        #    p=.33\n",
    "        #),\n",
    "        albumentations.Transpose(p=.5),\n",
    "        albumentations.VerticalFlip(p=.5),\n",
    "        albumentations.HorizontalFlip(p=.5),\n",
    "        albumentations.Rotate(limit=15, p=.33)\n",
    "    ]\n",
    ")\n",
    "transforms_train_tile = albumentations.Compose(\n",
    "    [\n",
    "        albumentations.Transpose(p=.5),\n",
    "        albumentations.VerticalFlip(p=.5),\n",
    "        albumentations.HorizontalFlip(p=.5)\n",
    "    ]\n",
    ")"
   ]
  },
  {
   "cell_type": "code",
   "execution_count": 8,
   "metadata": {},
   "outputs": [
    {
     "data": {
      "image/png": "[encoded data removed]",
      "text/plain": [
       "<Figure size 1152x288 with 8 Axes>"
      ]
     },
     "metadata": {
      "needs_background": "light"
     },
     "output_type": "display_data"
    }
   ],
   "source": [
    "dataset_show = PANDADataset(\n",
    "    df_train,\n",
    "    M_PARAMS['TILE_SIZE'], \n",
    "    M_PARAMS['N_TILES'], \n",
    "    tile_mode=0, \n",
    "    transform=transforms_train,\n",
    "    transform_tile=transforms_train_tile,\n",
    "    rand=M_PARAMS['RAND']\n",
    ")\n",
    "from pylab import rcParams\n",
    "rcParams['figure.figsize'] = (16, 4)\n",
    "f, axarr = plt.subplots(1, M_PARAMS['BATCH_SIZE'])\n",
    "for i in range(M_PARAMS['BATCH_SIZE']):\n",
    "    img, label = dataset_show.__getitem__(i)\n",
    "    axarr[i].imshow(1. - img.transpose(0, 1).transpose(1,2).squeeze())\n",
    "    axarr[i].set_title(str(sum(label)))"
   ]
  },
  {
   "cell_type": "code",
   "execution_count": 9,
   "metadata": {},
   "outputs": [],
   "source": [
    "criterion = nn.BCEWithLogitsLoss()\n",
    "def train_epoch(loader, optimizer):\n",
    "    model.train()\n",
    "    train_loss = []\n",
    "    bar = tqdm(loader)\n",
    "    for (data, target) in bar:\n",
    "        data, target = data.to(DEVICE), target.to(DEVICE)\n",
    "        loss_func = criterion\n",
    "        optimizer.zero_grad()\n",
    "        logits = model(data)\n",
    "        loss = loss_func(logits, target)\n",
    "        with amp.scale_loss(loss, optimizer) as scaled_loss:\n",
    "            scaled_loss.backward()\n",
    "        #loss.backward()\n",
    "        optimizer.step()\n",
    "        loss_np = loss.detach().cpu().numpy()\n",
    "        train_loss.append(loss_np)\n",
    "        smooth_loss = sum(train_loss[-100:]) / min(len(train_loss), 100)\n",
    "        bar.set_description('loss: %.5f, smth: %.5f' % (loss_np, smooth_loss))\n",
    "    return train_loss\n",
    "def val_epoch(loader, get_output=False):\n",
    "    model.eval()\n",
    "    val_loss = []\n",
    "    LOGITS = []\n",
    "    PREDS = []\n",
    "    TARGETS = []\n",
    "    with torch.no_grad():\n",
    "        for (data, target) in tqdm(loader):\n",
    "            data, target = data.to(DEVICE), target.to(DEVICE)\n",
    "            logits = model(data)\n",
    "            loss = criterion(logits, target)\n",
    "            pred = logits.sigmoid().sum(1).detach().round()\n",
    "            LOGITS.append(logits)\n",
    "            PREDS.append(pred)\n",
    "            TARGETS.append(target.sum(1))\n",
    "            val_loss.append(loss.detach().cpu().numpy())\n",
    "        val_loss = np.mean(val_loss)\n",
    "    LOGITS = torch.cat(LOGITS).cpu().numpy()\n",
    "    PREDS = torch.cat(PREDS).cpu().numpy()\n",
    "    TARGETS = torch.cat(TARGETS).cpu().numpy()\n",
    "    acc = (PREDS == TARGETS).mean() * 100.\n",
    "    qwk = cohen_kappa_score(PREDS, TARGETS, weights='quadratic')\n",
    "    qwk_k = cohen_kappa_score(\n",
    "        PREDS[df_valid['data_provider'] == 'karolinska'], \n",
    "        df_valid[df_valid['data_provider'] == 'karolinska'].isup_grade.values, \n",
    "        weights='quadratic'\n",
    "    )\n",
    "    qwk_r = cohen_kappa_score(\n",
    "        PREDS[df_valid['data_provider'] == 'radboud'], \n",
    "        df_valid[df_valid['data_provider'] == 'radboud'].isup_grade.values, \n",
    "        weights='quadratic'\n",
    "    )\n",
    "    print('QWK', qwk, 'QWK_k', qwk_k, 'QWK_r', qwk_r)\n",
    "    if get_output:\n",
    "        return LOGITS\n",
    "    else:\n",
    "        return val_loss, acc, qwk"
   ]
  },
  {
   "cell_type": "code",
   "execution_count": null,
   "metadata": {
    "scrolled": true
   },
   "outputs": [
    {
     "name": "stdout",
     "output_type": "stream",
     "text": [
      "-------------------- fold: 0 --------------------\n",
      "Selected optimization level O1:  Insert automatic casts around Pytorch functions and Tensor methods.\n",
      "\n",
      "Defaults for this optimization level are:\n",
      "enabled                : True\n",
      "opt_level              : O1\n",
      "cast_model_type        : None\n",
      "patch_torch_functions  : True\n",
      "keep_batchnorm_fp32    : None\n",
      "master_weights         : None\n",
      "loss_scale             : dynamic\n",
      "Processing user overrides (additional kwargs that are not None)...\n",
      "After processing overrides, optimization options are:\n",
      "enabled                : True\n",
      "opt_level              : O1\n",
      "cast_model_type        : None\n",
      "patch_torch_functions  : True\n",
      "keep_batchnorm_fp32    : None\n",
      "master_weights         : None\n",
      "loss_scale             : dynamic\n",
      "Warning:  multi_tensor_applier fused unscale kernel is unavailable, possibly because apex was installed without --cuda_ext --cpp_ext. Using Python fallback.  Original ImportError was: ModuleNotFoundError(\"No module named 'amp_C'\")\n",
      "train len: 8412 | val len: 2104\n"
     ]
    },
    {
     "data": {
      "application/vnd.jupyter.widget-view+json": {
       "model_id": "96fcbf584c43424b964885658011425b",
       "version_major": 2,
       "version_minor": 0
      },
      "text/plain": [
       "HBox(children=(FloatProgress(value=0.0, description='epochs', max=30.0, style=ProgressStyle(description_width=…"
      ]
     },
     "metadata": {},
     "output_type": "display_data"
    },
    {
     "name": "stdout",
     "output_type": "stream",
     "text": [
      "Fri Jul 17 23:19:47 2020 epoch: 0\n"
     ]
    },
    {
     "data": {
      "application/vnd.jupyter.widget-view+json": {
       "model_id": "b6d57eec76144080b86bc826e1a1d5c8",
       "version_major": 2,
       "version_minor": 0
      },
      "text/plain": [
       "HBox(children=(FloatProgress(value=0.0, max=1052.0), HTML(value='')))"
      ]
     },
     "metadata": {},
     "output_type": "display_data"
    },
    {
     "name": "stdout",
     "output_type": "stream",
     "text": [
      "Gradient overflow.  Skipping step, loss scaler 0 reducing loss scale to 32768.0\n",
      "\n"
     ]
    },
    {
     "data": {
      "application/vnd.jupyter.widget-view+json": {
       "model_id": "4a5813563f5c472f9eac5b79dcf283cc",
       "version_major": 2,
       "version_minor": 0
      },
      "text/plain": [
       "HBox(children=(FloatProgress(value=0.0, max=263.0), HTML(value='')))"
      ]
     },
     "metadata": {},
     "output_type": "display_data"
    },
    {
     "name": "stdout",
     "output_type": "stream",
     "text": [
      "\n",
      "QWK 0.6047995389210257 QWK_k 0.5323486073245955 QWK_r 0.5038992987299777\n",
      "Fri Jul 17 23:33:50 2020 epoch 0, lr: 0.00001000, train loss: 0.5058, val loss: 0.3775, acc: 30.4, QWK: 0.6048\n",
      "QWK improved 0.000000 --> 0.604800 model saved\n",
      "Fri Jul 17 23:33:50 2020 epoch: 1\n"
     ]
    },
    {
     "data": {
      "application/vnd.jupyter.widget-view+json": {
       "model_id": "371440eb9b1247c986a552c16915d627",
       "version_major": 2,
       "version_minor": 0
      },
      "text/plain": [
       "HBox(children=(FloatProgress(value=0.0, max=1052.0), HTML(value='')))"
      ]
     },
     "metadata": {},
     "output_type": "display_data"
    },
    {
     "name": "stdout",
     "output_type": "stream",
     "text": [
      "\n"
     ]
    },
    {
     "data": {
      "application/vnd.jupyter.widget-view+json": {
       "model_id": "b742fc65772340b0b9bd3c99e79540bc",
       "version_major": 2,
       "version_minor": 0
      },
      "text/plain": [
       "HBox(children=(FloatProgress(value=0.0, max=263.0), HTML(value='')))"
      ]
     },
     "metadata": {},
     "output_type": "display_data"
    },
    {
     "name": "stdout",
     "output_type": "stream",
     "text": [
      "\n",
      "QWK 0.6977220520827722 QWK_k 0.6368291618781226 QWK_r 0.6306225637121119\n",
      "Fri Jul 17 23:47:49 2020 epoch 1, lr: 0.00030000, train loss: 0.4178, val loss: 0.3319, acc: 40.3, QWK: 0.6977\n",
      "QWK improved 0.604800 --> 0.697722 model saved\n",
      "Fri Jul 17 23:47:49 2020 epoch: 2\n"
     ]
    },
    {
     "data": {
      "application/vnd.jupyter.widget-view+json": {
       "model_id": "41dc0229895146158094b3ed854fca3b",
       "version_major": 2,
       "version_minor": 0
      },
      "text/plain": [
       "HBox(children=(FloatProgress(value=0.0, max=1052.0), HTML(value='')))"
      ]
     },
     "metadata": {},
     "output_type": "display_data"
    },
    {
     "name": "stdout",
     "output_type": "stream",
     "text": [
      "Gradient overflow.  Skipping step, loss scaler 0 reducing loss scale to 16384.0\n",
      "\n"
     ]
    },
    {
     "data": {
      "application/vnd.jupyter.widget-view+json": {
       "model_id": "edb1b369c0c84a719252d0c2ecc3ade0",
       "version_major": 2,
       "version_minor": 0
      },
      "text/plain": [
       "HBox(children=(FloatProgress(value=0.0, max=263.0), HTML(value='')))"
      ]
     },
     "metadata": {},
     "output_type": "display_data"
    },
    {
     "name": "stdout",
     "output_type": "stream",
     "text": [
      "\n",
      "QWK 0.8050458947997715 QWK_k 0.7751661690489238 QWK_r 0.7559639915097495\n",
      "Sat Jul 18 00:01:48 2020 epoch 2, lr: 0.00029906, train loss: 0.3739, val loss: 0.3018, acc: 55.3, QWK: 0.8050\n",
      "QWK improved 0.697722 --> 0.805046 model saved\n",
      "Sat Jul 18 00:01:48 2020 epoch: 3\n"
     ]
    },
    {
     "data": {
      "application/vnd.jupyter.widget-view+json": {
       "model_id": "72e33f3626214f1291bf9b539b53033f",
       "version_major": 2,
       "version_minor": 0
      },
      "text/plain": [
       "HBox(children=(FloatProgress(value=0.0, max=1052.0), HTML(value='')))"
      ]
     },
     "metadata": {},
     "output_type": "display_data"
    },
    {
     "name": "stdout",
     "output_type": "stream",
     "text": [
      "\n"
     ]
    },
    {
     "data": {
      "application/vnd.jupyter.widget-view+json": {
       "model_id": "77af94407d9640c39012c40fcce8ca61",
       "version_major": 2,
       "version_minor": 0
      },
      "text/plain": [
       "HBox(children=(FloatProgress(value=0.0, max=263.0), HTML(value='')))"
      ]
     },
     "metadata": {},
     "output_type": "display_data"
    },
    {
     "name": "stdout",
     "output_type": "stream",
     "text": [
      "\n",
      "QWK 0.7802026277137252 QWK_k 0.8055803255646269 QWK_r 0.6821815450173009\n",
      "Sat Jul 18 00:15:47 2020 epoch 3, lr: 0.00029624, train loss: 0.3097, val loss: 0.2797, acc: 50.6, QWK: 0.7802\n",
      "Sat Jul 18 00:15:47 2020 epoch: 4\n"
     ]
    },
    {
     "data": {
      "application/vnd.jupyter.widget-view+json": {
       "model_id": "e895ef0c3143413bb583ba9383055034",
       "version_major": 2,
       "version_minor": 0
      },
      "text/plain": [
       "HBox(children=(FloatProgress(value=0.0, max=1052.0), HTML(value='')))"
      ]
     },
     "metadata": {},
     "output_type": "display_data"
    },
    {
     "name": "stdout",
     "output_type": "stream",
     "text": [
      "Gradient overflow.  Skipping step, loss scaler 0 reducing loss scale to 16384.0\n",
      "\n"
     ]
    },
    {
     "data": {
      "application/vnd.jupyter.widget-view+json": {
       "model_id": "b85dad07693c4797a66a3e5da6eee398",
       "version_major": 2,
       "version_minor": 0
      },
      "text/plain": [
       "HBox(children=(FloatProgress(value=0.0, max=263.0), HTML(value='')))"
      ]
     },
     "metadata": {},
     "output_type": "display_data"
    },
    {
     "name": "stdout",
     "output_type": "stream",
     "text": [
      "\n",
      "QWK 0.8437387940366821 QWK_k 0.8637385372524036 QWK_r 0.7737960390383314\n",
      "Sat Jul 18 00:29:46 2020 epoch 4, lr: 0.00029158, train loss: 0.2796, val loss: 0.2344, acc: 60.7, QWK: 0.8437\n",
      "QWK improved 0.805046 --> 0.843739 model saved\n",
      "Sat Jul 18 00:29:46 2020 epoch: 5\n"
     ]
    },
    {
     "data": {
      "application/vnd.jupyter.widget-view+json": {
       "model_id": "27d5284b98f642138512044b6ba94b13",
       "version_major": 2,
       "version_minor": 0
      },
      "text/plain": [
       "HBox(children=(FloatProgress(value=0.0, max=1052.0), HTML(value='')))"
      ]
     },
     "metadata": {},
     "output_type": "display_data"
    },
    {
     "name": "stdout",
     "output_type": "stream",
     "text": [
      "\n"
     ]
    },
    {
     "data": {
      "application/vnd.jupyter.widget-view+json": {
       "model_id": "057adcccd7b449f088f09aba175b5957",
       "version_major": 2,
       "version_minor": 0
      },
      "text/plain": [
       "HBox(children=(FloatProgress(value=0.0, max=263.0), HTML(value='')))"
      ]
     },
     "metadata": {},
     "output_type": "display_data"
    },
    {
     "name": "stdout",
     "output_type": "stream",
     "text": [
      "\n",
      "QWK 0.8554303996198975 QWK_k 0.8806947665860296 QWK_r 0.7875036309322847\n",
      "Sat Jul 18 00:43:45 2020 epoch 5, lr: 0.00028515, train loss: 0.2664, val loss: 0.2352, acc: 59.5, QWK: 0.8554\n",
      "QWK improved 0.843739 --> 0.855430 model saved\n",
      "Sat Jul 18 00:43:45 2020 epoch: 6\n"
     ]
    },
    {
     "data": {
      "application/vnd.jupyter.widget-view+json": {
       "model_id": "59d41b209bc04a91b519190fb539cec6",
       "version_major": 2,
       "version_minor": 0
      },
      "text/plain": [
       "HBox(children=(FloatProgress(value=0.0, max=1052.0), HTML(value='')))"
      ]
     },
     "metadata": {},
     "output_type": "display_data"
    },
    {
     "name": "stdout",
     "output_type": "stream",
     "text": [
      "Gradient overflow.  Skipping step, loss scaler 0 reducing loss scale to 16384.0\n",
      "\n"
     ]
    },
    {
     "data": {
      "application/vnd.jupyter.widget-view+json": {
       "model_id": "d5b949546a9a43e7b82162e33e7dbf79",
       "version_major": 2,
       "version_minor": 0
      },
      "text/plain": [
       "HBox(children=(FloatProgress(value=0.0, max=263.0), HTML(value='')))"
      ]
     },
     "metadata": {},
     "output_type": "display_data"
    },
    {
     "name": "stdout",
     "output_type": "stream",
     "text": [
      "\n",
      "QWK 0.7821606923797657 QWK_k 0.8144875533476804 QWK_r 0.7121064496212439\n",
      "Sat Jul 18 00:57:44 2020 epoch 6, lr: 0.00027701, train loss: 0.2520, val loss: 0.3102, acc: 58.9, QWK: 0.7822\n",
      "Sat Jul 18 00:57:44 2020 epoch: 7\n"
     ]
    },
    {
     "data": {
      "application/vnd.jupyter.widget-view+json": {
       "model_id": "c4d810f6d2d64754af35a93467f45a7c",
       "version_major": 2,
       "version_minor": 0
      },
      "text/plain": [
       "HBox(children=(FloatProgress(value=0.0, max=1052.0), HTML(value='')))"
      ]
     },
     "metadata": {},
     "output_type": "display_data"
    },
    {
     "name": "stdout",
     "output_type": "stream",
     "text": [
      "\n"
     ]
    },
    {
     "data": {
      "application/vnd.jupyter.widget-view+json": {
       "model_id": "569be26a70e04066b67f6a91e5964acd",
       "version_major": 2,
       "version_minor": 0
      },
      "text/plain": [
       "HBox(children=(FloatProgress(value=0.0, max=263.0), HTML(value='')))"
      ]
     },
     "metadata": {},
     "output_type": "display_data"
    },
    {
     "name": "stdout",
     "output_type": "stream",
     "text": [
      "\n",
      "QWK 0.8615215136976179 QWK_k 0.8728856524319073 QWK_r 0.8102304163485567\n",
      "Sat Jul 18 01:11:44 2020 epoch 7, lr: 0.00026728, train loss: 0.2397, val loss: 0.2321, acc: 63.8, QWK: 0.8615\n",
      "QWK improved 0.855430 --> 0.861522 model saved\n",
      "Sat Jul 18 01:11:44 2020 epoch: 8\n"
     ]
    },
    {
     "data": {
      "application/vnd.jupyter.widget-view+json": {
       "model_id": "96a15ddce44d401082689449b608ef99",
       "version_major": 2,
       "version_minor": 0
      },
      "text/plain": [
       "HBox(children=(FloatProgress(value=0.0, max=1052.0), HTML(value='')))"
      ]
     },
     "metadata": {},
     "output_type": "display_data"
    },
    {
     "name": "stdout",
     "output_type": "stream",
     "text": [
      "Gradient overflow.  Skipping step, loss scaler 0 reducing loss scale to 16384.0\n",
      "\n"
     ]
    },
    {
     "data": {
      "application/vnd.jupyter.widget-view+json": {
       "model_id": "5127c6f0e5fa489ab8bc480dc478deeb",
       "version_major": 2,
       "version_minor": 0
      },
      "text/plain": [
       "HBox(children=(FloatProgress(value=0.0, max=263.0), HTML(value='')))"
      ]
     },
     "metadata": {},
     "output_type": "display_data"
    },
    {
     "name": "stdout",
     "output_type": "stream",
     "text": [
      "\n",
      "QWK 0.8730924420105597 QWK_k 0.8880752644431124 QWK_r 0.817032245818804\n",
      "Sat Jul 18 01:25:43 2020 epoch 8, lr: 0.00025607, train loss: 0.2305, val loss: 0.2124, acc: 62.4, QWK: 0.8731\n",
      "QWK improved 0.861522 --> 0.873092 model saved\n",
      "Sat Jul 18 01:25:43 2020 epoch: 9\n"
     ]
    },
    {
     "data": {
      "application/vnd.jupyter.widget-view+json": {
       "model_id": "20b796506e6f450b874147782d51a80d",
       "version_major": 2,
       "version_minor": 0
      },
      "text/plain": [
       "HBox(children=(FloatProgress(value=0.0, max=1052.0), HTML(value='')))"
      ]
     },
     "metadata": {},
     "output_type": "display_data"
    },
    {
     "name": "stdout",
     "output_type": "stream",
     "text": [
      "\n"
     ]
    },
    {
     "data": {
      "application/vnd.jupyter.widget-view+json": {
       "model_id": "9456eb47e8414a8fb41a052361a3a31b",
       "version_major": 2,
       "version_minor": 0
      },
      "text/plain": [
       "HBox(children=(FloatProgress(value=0.0, max=263.0), HTML(value='')))"
      ]
     },
     "metadata": {},
     "output_type": "display_data"
    },
    {
     "name": "stdout",
     "output_type": "stream",
     "text": [
      "\n",
      "QWK 0.8717924677241108 QWK_k 0.8875583063863369 QWK_r 0.8190084639120168\n",
      "Sat Jul 18 01:39:42 2020 epoch 9, lr: 0.00024353, train loss: 0.2220, val loss: 0.2104, acc: 61.2, QWK: 0.8718\n",
      "Sat Jul 18 01:39:42 2020 epoch: 10\n"
     ]
    },
    {
     "data": {
      "application/vnd.jupyter.widget-view+json": {
       "model_id": "f8a9c4571d7448f0b50a3157aa73868d",
       "version_major": 2,
       "version_minor": 0
      },
      "text/plain": [
       "HBox(children=(FloatProgress(value=0.0, max=1052.0), HTML(value='')))"
      ]
     },
     "metadata": {},
     "output_type": "display_data"
    },
    {
     "name": "stdout",
     "output_type": "stream",
     "text": [
      "Gradient overflow.  Skipping step, loss scaler 0 reducing loss scale to 16384.0\n",
      "Gradient overflow.  Skipping step, loss scaler 0 reducing loss scale to 8192.0\n",
      "\n"
     ]
    },
    {
     "data": {
      "application/vnd.jupyter.widget-view+json": {
       "model_id": "2d0b08676c25498c8f52a4908af7bf62",
       "version_major": 2,
       "version_minor": 0
      },
      "text/plain": [
       "HBox(children=(FloatProgress(value=0.0, max=263.0), HTML(value='')))"
      ]
     },
     "metadata": {},
     "output_type": "display_data"
    },
    {
     "name": "stdout",
     "output_type": "stream",
     "text": [
      "\n",
      "QWK 0.8663620791941924 QWK_k 0.8912189849762667 QWK_r 0.8087450188886514\n",
      "Sat Jul 18 01:53:42 2020 epoch 10, lr: 0.00022981, train loss: 0.2185, val loss: 0.2128, acc: 64.1, QWK: 0.8664\n",
      "Sat Jul 18 01:53:42 2020 epoch: 11\n"
     ]
    },
    {
     "data": {
      "application/vnd.jupyter.widget-view+json": {
       "model_id": "5561d813e93f443eac1b4d3b4665b102",
       "version_major": 2,
       "version_minor": 0
      },
      "text/plain": [
       "HBox(children=(FloatProgress(value=0.0, max=1052.0), HTML(value='')))"
      ]
     },
     "metadata": {},
     "output_type": "display_data"
    },
    {
     "name": "stdout",
     "output_type": "stream",
     "text": [
      "\n"
     ]
    },
    {
     "data": {
      "application/vnd.jupyter.widget-view+json": {
       "model_id": "86d37ec31e124dd4b2372d93131febb3",
       "version_major": 2,
       "version_minor": 0
      },
      "text/plain": [
       "HBox(children=(FloatProgress(value=0.0, max=263.0), HTML(value='')))"
      ]
     },
     "metadata": {},
     "output_type": "display_data"
    },
    {
     "name": "stdout",
     "output_type": "stream",
     "text": [
      "\n",
      "QWK 0.831781396104352 QWK_k 0.83154752503944 QWK_r 0.7809981739654656\n",
      "Sat Jul 18 02:07:41 2020 epoch 11, lr: 0.00021509, train loss: 0.2085, val loss: 0.2633, acc: 55.1, QWK: 0.8318\n",
      "Sat Jul 18 02:07:41 2020 epoch: 12\n"
     ]
    },
    {
     "data": {
      "application/vnd.jupyter.widget-view+json": {
       "model_id": "98f0bd49d78144f590adbd79a10c0332",
       "version_major": 2,
       "version_minor": 0
      },
      "text/plain": [
       "HBox(children=(FloatProgress(value=0.0, max=1052.0), HTML(value='')))"
      ]
     },
     "metadata": {},
     "output_type": "display_data"
    },
    {
     "name": "stdout",
     "output_type": "stream",
     "text": [
      "\n"
     ]
    },
    {
     "data": {
      "application/vnd.jupyter.widget-view+json": {
       "model_id": "727cbbd8ec514fd793f7a8222859519a",
       "version_major": 2,
       "version_minor": 0
      },
      "text/plain": [
       "HBox(children=(FloatProgress(value=0.0, max=263.0), HTML(value='')))"
      ]
     },
     "metadata": {},
     "output_type": "display_data"
    },
    {
     "name": "stdout",
     "output_type": "stream",
     "text": [
      "\n",
      "QWK 0.8648696104091986 QWK_k 0.8792889494621112 QWK_r 0.8115511736435288\n",
      "Sat Jul 18 02:21:41 2020 epoch 12, lr: 0.00019955, train loss: 0.2005, val loss: 0.2152, acc: 66.9, QWK: 0.8649\n",
      "Sat Jul 18 02:21:41 2020 epoch: 13\n"
     ]
    },
    {
     "data": {
      "application/vnd.jupyter.widget-view+json": {
       "model_id": "e7fc1eba4d914becac84a8b79389f3f2",
       "version_major": 2,
       "version_minor": 0
      },
      "text/plain": [
       "HBox(children=(FloatProgress(value=0.0, max=1052.0), HTML(value='')))"
      ]
     },
     "metadata": {},
     "output_type": "display_data"
    },
    {
     "name": "stdout",
     "output_type": "stream",
     "text": [
      "Gradient overflow.  Skipping step, loss scaler 0 reducing loss scale to 8192.0\n",
      "\n"
     ]
    },
    {
     "data": {
      "application/vnd.jupyter.widget-view+json": {
       "model_id": "4bc14cc3838549bf9ec19cf3fa105619",
       "version_major": 2,
       "version_minor": 0
      },
      "text/plain": [
       "HBox(children=(FloatProgress(value=0.0, max=263.0), HTML(value='')))"
      ]
     },
     "metadata": {},
     "output_type": "display_data"
    },
    {
     "name": "stdout",
     "output_type": "stream",
     "text": [
      "\n",
      "QWK 0.8564599247002618 QWK_k 0.848259887386333 QWK_r 0.8170643982166905\n",
      "Sat Jul 18 02:35:41 2020 epoch 13, lr: 0.00018338, train loss: 0.1927, val loss: 0.2260, acc: 67.4, QWK: 0.8565\n",
      "Sat Jul 18 02:35:41 2020 epoch: 14\n"
     ]
    },
    {
     "data": {
      "application/vnd.jupyter.widget-view+json": {
       "model_id": "a56e66ac3d1647ec807c8f57f03847d0",
       "version_major": 2,
       "version_minor": 0
      },
      "text/plain": [
       "HBox(children=(FloatProgress(value=0.0, max=1052.0), HTML(value='')))"
      ]
     },
     "metadata": {},
     "output_type": "display_data"
    },
    {
     "name": "stdout",
     "output_type": "stream",
     "text": [
      "\n"
     ]
    },
    {
     "data": {
      "application/vnd.jupyter.widget-view+json": {
       "model_id": "6f6a1dab985f4f2287c036805147cc06",
       "version_major": 2,
       "version_minor": 0
      },
      "text/plain": [
       "HBox(children=(FloatProgress(value=0.0, max=263.0), HTML(value='')))"
      ]
     },
     "metadata": {},
     "output_type": "display_data"
    },
    {
     "name": "stdout",
     "output_type": "stream",
     "text": [
      "\n",
      "QWK 0.8813659658470208 QWK_k 0.8857577026471825 QWK_r 0.8423271658539844\n",
      "Sat Jul 18 02:49:40 2020 epoch 14, lr: 0.00016680, train loss: 0.1861, val loss: 0.2102, acc: 67.6, QWK: 0.8814\n",
      "QWK improved 0.873092 --> 0.881366 model saved\n",
      "Sat Jul 18 02:49:40 2020 epoch: 15\n"
     ]
    },
    {
     "data": {
      "application/vnd.jupyter.widget-view+json": {
       "model_id": "836341de77894a909fbdf3c4ba1f7bb0",
       "version_major": 2,
       "version_minor": 0
      },
      "text/plain": [
       "HBox(children=(FloatProgress(value=0.0, max=1052.0), HTML(value='')))"
      ]
     },
     "metadata": {},
     "output_type": "display_data"
    },
    {
     "name": "stdout",
     "output_type": "stream",
     "text": [
      "Gradient overflow.  Skipping step, loss scaler 0 reducing loss scale to 8192.0\n",
      "\n"
     ]
    },
    {
     "data": {
      "application/vnd.jupyter.widget-view+json": {
       "model_id": "9337bf8edd374a279ed2554dd25e18c5",
       "version_major": 2,
       "version_minor": 0
      },
      "text/plain": [
       "HBox(children=(FloatProgress(value=0.0, max=263.0), HTML(value='')))"
      ]
     },
     "metadata": {},
     "output_type": "display_data"
    },
    {
     "name": "stdout",
     "output_type": "stream",
     "text": [
      "\n",
      "QWK 0.8360088407537246 QWK_k 0.8710392517867609 QWK_r 0.7398111264462235\n",
      "Sat Jul 18 03:03:41 2020 epoch 15, lr: 0.00015000, train loss: 0.1737, val loss: 0.2310, acc: 62.5, QWK: 0.8360\n",
      "Sat Jul 18 03:03:41 2020 epoch: 16\n"
     ]
    },
    {
     "data": {
      "application/vnd.jupyter.widget-view+json": {
       "model_id": "ca3fa034e5ba4f53a3dee654b4d87cde",
       "version_major": 2,
       "version_minor": 0
      },
      "text/plain": [
       "HBox(children=(FloatProgress(value=0.0, max=1052.0), HTML(value='')))"
      ]
     },
     "metadata": {},
     "output_type": "display_data"
    },
    {
     "name": "stdout",
     "output_type": "stream",
     "text": [
      "\n"
     ]
    },
    {
     "data": {
      "application/vnd.jupyter.widget-view+json": {
       "model_id": "04ebfd00afc54200886093629e8dab9a",
       "version_major": 2,
       "version_minor": 0
      },
      "text/plain": [
       "HBox(children=(FloatProgress(value=0.0, max=263.0), HTML(value='')))"
      ]
     },
     "metadata": {},
     "output_type": "display_data"
    },
    {
     "name": "stdout",
     "output_type": "stream",
     "text": [
      "\n",
      "QWK 0.8868230397849526 QWK_k 0.9055783750617831 QWK_r 0.8392351953413344\n",
      "Sat Jul 18 03:17:41 2020 epoch 16, lr: 0.00013321, train loss: 0.1704, val loss: 0.1948, acc: 68.9, QWK: 0.8868\n",
      "QWK improved 0.881366 --> 0.886823 model saved\n",
      "Sat Jul 18 03:17:41 2020 epoch: 17\n"
     ]
    },
    {
     "data": {
      "application/vnd.jupyter.widget-view+json": {
       "model_id": "3a33c301b08147a3b0a849c375f9629a",
       "version_major": 2,
       "version_minor": 0
      },
      "text/plain": [
       "HBox(children=(FloatProgress(value=0.0, max=1052.0), HTML(value='')))"
      ]
     },
     "metadata": {},
     "output_type": "display_data"
    },
    {
     "name": "stdout",
     "output_type": "stream",
     "text": [
      "\n"
     ]
    },
    {
     "data": {
      "application/vnd.jupyter.widget-view+json": {
       "model_id": "13ee5b69699643329d2147713d2c8ff9",
       "version_major": 2,
       "version_minor": 0
      },
      "text/plain": [
       "HBox(children=(FloatProgress(value=0.0, max=263.0), HTML(value='')))"
      ]
     },
     "metadata": {},
     "output_type": "display_data"
    },
    {
     "name": "stdout",
     "output_type": "stream",
     "text": [
      "\n",
      "QWK 0.8895218815885806 QWK_k 0.9006188281112752 QWK_r 0.8478786971053793\n",
      "Sat Jul 18 03:31:41 2020 epoch 17, lr: 0.00011663, train loss: 0.1607, val loss: 0.1984, acc: 69.1, QWK: 0.8895\n",
      "QWK improved 0.886823 --> 0.889522 model saved\n",
      "Sat Jul 18 03:31:41 2020 epoch: 18\n"
     ]
    },
    {
     "data": {
      "application/vnd.jupyter.widget-view+json": {
       "model_id": "8ab54f2fcc0742fb8925764fc5241ffb",
       "version_major": 2,
       "version_minor": 0
      },
      "text/plain": [
       "HBox(children=(FloatProgress(value=0.0, max=1052.0), HTML(value='')))"
      ]
     },
     "metadata": {},
     "output_type": "display_data"
    },
    {
     "name": "stdout",
     "output_type": "stream",
     "text": [
      "\n"
     ]
    },
    {
     "data": {
      "application/vnd.jupyter.widget-view+json": {
       "model_id": "1eb5be4c5cb143d3b0ba7d1eccd75466",
       "version_major": 2,
       "version_minor": 0
      },
      "text/plain": [
       "HBox(children=(FloatProgress(value=0.0, max=263.0), HTML(value='')))"
      ]
     },
     "metadata": {},
     "output_type": "display_data"
    },
    {
     "name": "stdout",
     "output_type": "stream",
     "text": [
      "\n",
      "QWK 0.8700242569429621 QWK_k 0.8791612118845998 QWK_r 0.8246039320055073\n",
      "Sat Jul 18 03:45:40 2020 epoch 18, lr: 0.00010046, train loss: 0.1545, val loss: 0.2127, acc: 66.2, QWK: 0.8700\n",
      "Sat Jul 18 03:45:40 2020 epoch: 19\n"
     ]
    },
    {
     "data": {
      "application/vnd.jupyter.widget-view+json": {
       "model_id": "9198d9329a354e30bcbd6a14d1620108",
       "version_major": 2,
       "version_minor": 0
      },
      "text/plain": [
       "HBox(children=(FloatProgress(value=0.0, max=1052.0), HTML(value='')))"
      ]
     },
     "metadata": {},
     "output_type": "display_data"
    },
    {
     "name": "stdout",
     "output_type": "stream",
     "text": [
      "Gradient overflow.  Skipping step, loss scaler 0 reducing loss scale to 8192.0\n",
      "\n"
     ]
    },
    {
     "data": {
      "application/vnd.jupyter.widget-view+json": {
       "model_id": "fb4eefc18bb240ce8387ad2478a02bb6",
       "version_major": 2,
       "version_minor": 0
      },
      "text/plain": [
       "HBox(children=(FloatProgress(value=0.0, max=263.0), HTML(value='')))"
      ]
     },
     "metadata": {},
     "output_type": "display_data"
    },
    {
     "name": "stdout",
     "output_type": "stream",
     "text": [
      "\n",
      "QWK 0.8815754810987105 QWK_k 0.8837805816266794 QWK_r 0.8467036146754098\n",
      "Sat Jul 18 03:59:40 2020 epoch 19, lr: 0.00008492, train loss: 0.1479, val loss: 0.2046, acc: 68.6, QWK: 0.8816\n",
      "Sat Jul 18 03:59:40 2020 epoch: 20\n"
     ]
    },
    {
     "data": {
      "application/vnd.jupyter.widget-view+json": {
       "model_id": "445a4e50556f47ad9aa23b0809251d1b",
       "version_major": 2,
       "version_minor": 0
      },
      "text/plain": [
       "HBox(children=(FloatProgress(value=0.0, max=1052.0), HTML(value='')))"
      ]
     },
     "metadata": {},
     "output_type": "display_data"
    },
    {
     "name": "stdout",
     "output_type": "stream",
     "text": [
      "\n"
     ]
    },
    {
     "data": {
      "application/vnd.jupyter.widget-view+json": {
       "model_id": "3634c3f47c964aee9f1b25b153b198d7",
       "version_major": 2,
       "version_minor": 0
      },
      "text/plain": [
       "HBox(children=(FloatProgress(value=0.0, max=263.0), HTML(value='')))"
      ]
     },
     "metadata": {},
     "output_type": "display_data"
    },
    {
     "name": "stdout",
     "output_type": "stream",
     "text": [
      "\n",
      "QWK 0.8893953722681142 QWK_k 0.897802023543999 QWK_r 0.8508317334827786\n",
      "Sat Jul 18 04:13:40 2020 epoch 20, lr: 0.00007020, train loss: 0.1387, val loss: 0.2081, acc: 70.2, QWK: 0.8894\n",
      "Sat Jul 18 04:13:40 2020 epoch: 21\n"
     ]
    },
    {
     "data": {
      "application/vnd.jupyter.widget-view+json": {
       "model_id": "e639d292776d43f399e16765d97c3257",
       "version_major": 2,
       "version_minor": 0
      },
      "text/plain": [
       "HBox(children=(FloatProgress(value=0.0, max=1052.0), HTML(value='')))"
      ]
     },
     "metadata": {},
     "output_type": "display_data"
    },
    {
     "name": "stdout",
     "output_type": "stream",
     "text": [
      "Gradient overflow.  Skipping step, loss scaler 0 reducing loss scale to 8192.0\n",
      "\n"
     ]
    },
    {
     "data": {
      "application/vnd.jupyter.widget-view+json": {
       "model_id": "ef44e0a342e349639c039ced0a22d09a",
       "version_major": 2,
       "version_minor": 0
      },
      "text/plain": [
       "HBox(children=(FloatProgress(value=0.0, max=263.0), HTML(value='')))"
      ]
     },
     "metadata": {},
     "output_type": "display_data"
    },
    {
     "name": "stdout",
     "output_type": "stream",
     "text": [
      "\n",
      "QWK 0.8858866886781049 QWK_k 0.8969838227683133 QWK_r 0.8417315215792436\n",
      "Sat Jul 18 04:27:39 2020 epoch 21, lr: 0.00005648, train loss: 0.1317, val loss: 0.2105, acc: 69.3, QWK: 0.8859\n",
      "Sat Jul 18 04:27:39 2020 epoch: 22\n"
     ]
    },
    {
     "data": {
      "application/vnd.jupyter.widget-view+json": {
       "model_id": "eb7d59adced24e339024c1411fa6fd66",
       "version_major": 2,
       "version_minor": 0
      },
      "text/plain": [
       "HBox(children=(FloatProgress(value=0.0, max=1052.0), HTML(value='')))"
      ]
     },
     "metadata": {},
     "output_type": "display_data"
    },
    {
     "name": "stdout",
     "output_type": "stream",
     "text": [
      "\n"
     ]
    },
    {
     "data": {
      "application/vnd.jupyter.widget-view+json": {
       "model_id": "a90076a1f3ed41de8a4c473e3cbe430f",
       "version_major": 2,
       "version_minor": 0
      },
      "text/plain": [
       "HBox(children=(FloatProgress(value=0.0, max=263.0), HTML(value='')))"
      ]
     },
     "metadata": {},
     "output_type": "display_data"
    },
    {
     "name": "stdout",
     "output_type": "stream",
     "text": [
      "\n",
      "QWK 0.8819120067295512 QWK_k 0.892616920489755 QWK_r 0.83940560309994\n",
      "Sat Jul 18 04:41:38 2020 epoch 22, lr: 0.00004394, train loss: 0.1276, val loss: 0.2214, acc: 69.7, QWK: 0.8819\n",
      "Sat Jul 18 04:41:38 2020 epoch: 23\n"
     ]
    },
    {
     "data": {
      "application/vnd.jupyter.widget-view+json": {
       "model_id": "2c09a5d4441f4caa83b4a4317be994df",
       "version_major": 2,
       "version_minor": 0
      },
      "text/plain": [
       "HBox(children=(FloatProgress(value=0.0, max=1052.0), HTML(value='')))"
      ]
     },
     "metadata": {},
     "output_type": "display_data"
    },
    {
     "name": "stdout",
     "output_type": "stream",
     "text": [
      "\n"
     ]
    },
    {
     "data": {
      "application/vnd.jupyter.widget-view+json": {
       "model_id": "ac05a2a836604e7ca6854110d108d031",
       "version_major": 2,
       "version_minor": 0
      },
      "text/plain": [
       "HBox(children=(FloatProgress(value=0.0, max=263.0), HTML(value='')))"
      ]
     },
     "metadata": {},
     "output_type": "display_data"
    },
    {
     "name": "stdout",
     "output_type": "stream",
     "text": [
      "\n",
      "QWK 0.8859111162200161 QWK_k 0.8946095537533577 QWK_r 0.8440093970242757\n",
      "Sat Jul 18 04:55:38 2020 epoch 23, lr: 0.00003273, train loss: 0.1228, val loss: 0.2128, acc: 69.7, QWK: 0.8859\n",
      "Sat Jul 18 04:55:38 2020 epoch: 24\n"
     ]
    },
    {
     "data": {
      "application/vnd.jupyter.widget-view+json": {
       "model_id": "409b5da77e754e20bc8150f6b3cbd826",
       "version_major": 2,
       "version_minor": 0
      },
      "text/plain": [
       "HBox(children=(FloatProgress(value=0.0, max=1052.0), HTML(value='')))"
      ]
     },
     "metadata": {},
     "output_type": "display_data"
    },
    {
     "name": "stdout",
     "output_type": "stream",
     "text": [
      "Gradient overflow.  Skipping step, loss scaler 0 reducing loss scale to 8192.0\n",
      "\n"
     ]
    },
    {
     "data": {
      "application/vnd.jupyter.widget-view+json": {
       "model_id": "708b89afeeea4888a339f2b940844ca6",
       "version_major": 2,
       "version_minor": 0
      },
      "text/plain": [
       "HBox(children=(FloatProgress(value=0.0, max=263.0), HTML(value='')))"
      ]
     },
     "metadata": {},
     "output_type": "display_data"
    },
    {
     "name": "stdout",
     "output_type": "stream",
     "text": [
      "\n",
      "QWK 0.889718031440177 QWK_k 0.8987501638550816 QWK_r 0.8506942397713714\n",
      "Sat Jul 18 05:09:37 2020 epoch 24, lr: 0.00002300, train loss: 0.1175, val loss: 0.2081, acc: 71.4, QWK: 0.8897\n",
      "QWK improved 0.889522 --> 0.889718 model saved\n",
      "Sat Jul 18 05:09:37 2020 epoch: 25\n"
     ]
    },
    {
     "data": {
      "application/vnd.jupyter.widget-view+json": {
       "model_id": "1244b802a421440684fe7eb8c5520452",
       "version_major": 2,
       "version_minor": 0
      },
      "text/plain": [
       "HBox(children=(FloatProgress(value=0.0, max=1052.0), HTML(value='')))"
      ]
     },
     "metadata": {},
     "output_type": "display_data"
    },
    {
     "name": "stdout",
     "output_type": "stream",
     "text": [
      "\n"
     ]
    },
    {
     "data": {
      "application/vnd.jupyter.widget-view+json": {
       "model_id": "0c30bd6c4b2a485884e1c29a91a2da5b",
       "version_major": 2,
       "version_minor": 0
      },
      "text/plain": [
       "HBox(children=(FloatProgress(value=0.0, max=263.0), HTML(value='')))"
      ]
     },
     "metadata": {},
     "output_type": "display_data"
    },
    {
     "name": "stdout",
     "output_type": "stream",
     "text": [
      "\n",
      "QWK 0.8869877018836031 QWK_k 0.8963327673740741 QWK_r 0.8478576213955602\n",
      "Sat Jul 18 05:23:36 2020 epoch 25, lr: 0.00001486, train loss: 0.1120, val loss: 0.2151, acc: 71.4, QWK: 0.8870\n",
      "Sat Jul 18 05:23:36 2020 epoch: 26\n"
     ]
    },
    {
     "data": {
      "application/vnd.jupyter.widget-view+json": {
       "model_id": "ab5fce6bb6b6475db9c6c5ea9eb63cde",
       "version_major": 2,
       "version_minor": 0
      },
      "text/plain": [
       "HBox(children=(FloatProgress(value=0.0, max=1052.0), HTML(value='')))"
      ]
     },
     "metadata": {},
     "output_type": "display_data"
    },
    {
     "name": "stdout",
     "output_type": "stream",
     "text": [
      "Gradient overflow.  Skipping step, loss scaler 0 reducing loss scale to 8192.0\n",
      "\n"
     ]
    },
    {
     "data": {
      "application/vnd.jupyter.widget-view+json": {
       "model_id": "96ad11444bb94a18ba3b4c19f88715c0",
       "version_major": 2,
       "version_minor": 0
      },
      "text/plain": [
       "HBox(children=(FloatProgress(value=0.0, max=263.0), HTML(value='')))"
      ]
     },
     "metadata": {},
     "output_type": "display_data"
    },
    {
     "name": "stdout",
     "output_type": "stream",
     "text": [
      "\n",
      "QWK 0.8896815977154413 QWK_k 0.8989139705560106 QWK_r 0.8503170445127167\n",
      "Sat Jul 18 05:37:35 2020 epoch 26, lr: 0.00000843, train loss: 0.1096, val loss: 0.2141, acc: 71.2, QWK: 0.8897\n",
      "Sat Jul 18 05:37:35 2020 epoch: 27\n"
     ]
    },
    {
     "data": {
      "application/vnd.jupyter.widget-view+json": {
       "model_id": "ed8f8203ee254855971e87e2583d7859",
       "version_major": 2,
       "version_minor": 0
      },
      "text/plain": [
       "HBox(children=(FloatProgress(value=0.0, max=1052.0), HTML(value='')))"
      ]
     },
     "metadata": {},
     "output_type": "display_data"
    },
    {
     "name": "stdout",
     "output_type": "stream",
     "text": [
      "\n"
     ]
    },
    {
     "data": {
      "application/vnd.jupyter.widget-view+json": {
       "model_id": "29be1edd2b4c44c0a48e8f1027df40d6",
       "version_major": 2,
       "version_minor": 0
      },
      "text/plain": [
       "HBox(children=(FloatProgress(value=0.0, max=263.0), HTML(value='')))"
      ]
     },
     "metadata": {},
     "output_type": "display_data"
    },
    {
     "name": "stdout",
     "output_type": "stream",
     "text": [
      "\n",
      "QWK 0.8899369433978063 QWK_k 0.8980554466923327 QWK_r 0.851522353096374\n",
      "Sat Jul 18 05:51:35 2020 epoch 27, lr: 0.00000377, train loss: 0.1116, val loss: 0.2102, acc: 70.8, QWK: 0.8899\n",
      "QWK improved 0.889718 --> 0.889937 model saved\n",
      "Sat Jul 18 05:51:35 2020 epoch: 28\n"
     ]
    },
    {
     "data": {
      "application/vnd.jupyter.widget-view+json": {
       "model_id": "6c64cb23d6ea4948bf9da1c83541babf",
       "version_major": 2,
       "version_minor": 0
      },
      "text/plain": [
       "HBox(children=(FloatProgress(value=0.0, max=1052.0), HTML(value='')))"
      ]
     },
     "metadata": {},
     "output_type": "display_data"
    },
    {
     "name": "stdout",
     "output_type": "stream",
     "text": [
      "Gradient overflow.  Skipping step, loss scaler 0 reducing loss scale to 8192.0\n",
      "\n"
     ]
    },
    {
     "data": {
      "application/vnd.jupyter.widget-view+json": {
       "model_id": "cf67ba5d13254bcb9d0e79cca5a182d6",
       "version_major": 2,
       "version_minor": 0
      },
      "text/plain": [
       "HBox(children=(FloatProgress(value=0.0, max=263.0), HTML(value='')))"
      ]
     },
     "metadata": {},
     "output_type": "display_data"
    },
    {
     "name": "stdout",
     "output_type": "stream",
     "text": [
      "\n",
      "QWK 0.8879719086227013 QWK_k 0.8952998055331282 QWK_r 0.8501538099480577\n",
      "Sat Jul 18 06:05:34 2020 epoch 28, lr: 0.00000095, train loss: 0.1052, val loss: 0.2110, acc: 71.4, QWK: 0.8880\n",
      "Sat Jul 18 06:05:34 2020 epoch: 29\n"
     ]
    },
    {
     "data": {
      "application/vnd.jupyter.widget-view+json": {
       "model_id": "c00eae09bcc94d40877783cc726afb45",
       "version_major": 2,
       "version_minor": 0
      },
      "text/plain": [
       "HBox(children=(FloatProgress(value=0.0, max=1052.0), HTML(value='')))"
      ]
     },
     "metadata": {},
     "output_type": "display_data"
    },
    {
     "name": "stdout",
     "output_type": "stream",
     "text": [
      "Gradient overflow.  Skipping step, loss scaler 0 reducing loss scale to 4096.0\n",
      "\n"
     ]
    },
    {
     "data": {
      "application/vnd.jupyter.widget-view+json": {
       "model_id": "749da843afd54495843c4578aee60325",
       "version_major": 2,
       "version_minor": 0
      },
      "text/plain": [
       "HBox(children=(FloatProgress(value=0.0, max=263.0), HTML(value='')))"
      ]
     },
     "metadata": {},
     "output_type": "display_data"
    },
    {
     "name": "stdout",
     "output_type": "stream",
     "text": [
      "\n",
      "QWK 0.8906947121652418 QWK_k 0.9002433810077782 QWK_r 0.8517965548501647\n",
      "Sat Jul 18 06:19:33 2020 epoch 29, lr: 0.00000001, train loss: 0.1064, val loss: 0.2104, acc: 71.1, QWK: 0.8907\n",
      "QWK improved 0.889937 --> 0.890695 model saved\n",
      "\n",
      "-------------------- fold: 1 --------------------\n",
      "Selected optimization level O1:  Insert automatic casts around Pytorch functions and Tensor methods.\n",
      "\n",
      "Defaults for this optimization level are:\n",
      "enabled                : True\n",
      "opt_level              : O1\n",
      "cast_model_type        : None\n",
      "patch_torch_functions  : True\n",
      "keep_batchnorm_fp32    : None\n",
      "master_weights         : None\n",
      "loss_scale             : dynamic\n",
      "Processing user overrides (additional kwargs that are not None)...\n",
      "After processing overrides, optimization options are:\n",
      "enabled                : True\n",
      "opt_level              : O1\n",
      "cast_model_type        : None\n",
      "patch_torch_functions  : True\n",
      "keep_batchnorm_fp32    : None\n",
      "master_weights         : None\n",
      "loss_scale             : dynamic\n",
      "train len: 8413 | val len: 2103\n"
     ]
    },
    {
     "data": {
      "application/vnd.jupyter.widget-view+json": {
       "model_id": "46b83266b99f45c69c9bed4c881dfbed",
       "version_major": 2,
       "version_minor": 0
      },
      "text/plain": [
       "HBox(children=(FloatProgress(value=0.0, description='epochs', max=30.0, style=ProgressStyle(description_width=…"
      ]
     },
     "metadata": {},
     "output_type": "display_data"
    },
    {
     "name": "stdout",
     "output_type": "stream",
     "text": [
      "Sat Jul 18 06:19:34 2020 epoch: 0\n"
     ]
    },
    {
     "data": {
      "application/vnd.jupyter.widget-view+json": {
       "model_id": "1bbb47be5b0045ebb12e019c2e0357a6",
       "version_major": 2,
       "version_minor": 0
      },
      "text/plain": [
       "HBox(children=(FloatProgress(value=0.0, max=1052.0), HTML(value='')))"
      ]
     },
     "metadata": {},
     "output_type": "display_data"
    },
    {
     "name": "stdout",
     "output_type": "stream",
     "text": [
      "Gradient overflow.  Skipping step, loss scaler 0 reducing loss scale to 32768.0\n",
      "\n"
     ]
    },
    {
     "data": {
      "application/vnd.jupyter.widget-view+json": {
       "model_id": "67bd78aa896041c49499dc9a1f3e8c06",
       "version_major": 2,
       "version_minor": 0
      },
      "text/plain": [
       "HBox(children=(FloatProgress(value=0.0, max=263.0), HTML(value='')))"
      ]
     },
     "metadata": {},
     "output_type": "display_data"
    },
    {
     "name": "stdout",
     "output_type": "stream",
     "text": [
      "\n",
      "QWK 0.5658628541507434 QWK_k 0.509144321652876 QWK_r 0.47923308935424436\n",
      "Sat Jul 18 06:33:38 2020 epoch 0, lr: 0.00001000, train loss: 0.5106, val loss: 0.4045, acc: 26.6, QWK: 0.5659\n",
      "QWK improved 0.000000 --> 0.565863 model saved\n",
      "Sat Jul 18 06:33:38 2020 epoch: 1\n"
     ]
    },
    {
     "data": {
      "application/vnd.jupyter.widget-view+json": {
       "model_id": "0d09d227eac1482ca99303d00853fd38",
       "version_major": 2,
       "version_minor": 0
      },
      "text/plain": [
       "HBox(children=(FloatProgress(value=0.0, max=1052.0), HTML(value='')))"
      ]
     },
     "metadata": {},
     "output_type": "display_data"
    },
    {
     "name": "stdout",
     "output_type": "stream",
     "text": [
      "\n"
     ]
    },
    {
     "data": {
      "application/vnd.jupyter.widget-view+json": {
       "model_id": "87cab76afdaa48a3afc3ed7ae5cf827a",
       "version_major": 2,
       "version_minor": 0
      },
      "text/plain": [
       "HBox(children=(FloatProgress(value=0.0, max=263.0), HTML(value='')))"
      ]
     },
     "metadata": {},
     "output_type": "display_data"
    },
    {
     "name": "stdout",
     "output_type": "stream",
     "text": [
      "\n",
      "QWK 0.6959393162830605 QWK_k 0.666972214738359 QWK_r 0.6440880726825956\n",
      "Sat Jul 18 06:47:43 2020 epoch 1, lr: 0.00030000, train loss: 0.4181, val loss: 0.3377, acc: 38.1, QWK: 0.6959\n",
      "QWK improved 0.565863 --> 0.695939 model saved\n",
      "Sat Jul 18 06:47:43 2020 epoch: 2\n"
     ]
    },
    {
     "data": {
      "application/vnd.jupyter.widget-view+json": {
       "model_id": "f3d3916e8482408c8ce15d40dcae3ad2",
       "version_major": 2,
       "version_minor": 0
      },
      "text/plain": [
       "HBox(children=(FloatProgress(value=0.0, max=1052.0), HTML(value='')))"
      ]
     },
     "metadata": {},
     "output_type": "display_data"
    },
    {
     "name": "stdout",
     "output_type": "stream",
     "text": [
      "Gradient overflow.  Skipping step, loss scaler 0 reducing loss scale to 16384.0\n",
      "Gradient overflow.  Skipping step, loss scaler 0 reducing loss scale to 8192.0\n",
      "\n"
     ]
    },
    {
     "data": {
      "application/vnd.jupyter.widget-view+json": {
       "model_id": "7f3f5e01853441b28b70c292242b0be2",
       "version_major": 2,
       "version_minor": 0
      },
      "text/plain": [
       "HBox(children=(FloatProgress(value=0.0, max=263.0), HTML(value='')))"
      ]
     },
     "metadata": {},
     "output_type": "display_data"
    },
    {
     "name": "stdout",
     "output_type": "stream",
     "text": [
      "\n",
      "QWK 0.8115961523593807 QWK_k 0.8047843802137686 QWK_r 0.763287456237405\n",
      "Sat Jul 18 07:01:47 2020 epoch 2, lr: 0.00029906, train loss: 0.3707, val loss: 0.2678, acc: 53.1, QWK: 0.8116\n",
      "QWK improved 0.695939 --> 0.811596 model saved\n",
      "Sat Jul 18 07:01:47 2020 epoch: 3\n"
     ]
    },
    {
     "data": {
      "application/vnd.jupyter.widget-view+json": {
       "model_id": "36e49b67ca8640adadc0cdbf7a006a1f",
       "version_major": 2,
       "version_minor": 0
      },
      "text/plain": [
       "HBox(children=(FloatProgress(value=0.0, max=1052.0), HTML(value='')))"
      ]
     },
     "metadata": {},
     "output_type": "display_data"
    },
    {
     "name": "stdout",
     "output_type": "stream",
     "text": [
      "\n"
     ]
    },
    {
     "data": {
      "application/vnd.jupyter.widget-view+json": {
       "model_id": "0c660c65d5c844d6bbd8029314f565e8",
       "version_major": 2,
       "version_minor": 0
      },
      "text/plain": [
       "HBox(children=(FloatProgress(value=0.0, max=263.0), HTML(value='')))"
      ]
     },
     "metadata": {},
     "output_type": "display_data"
    },
    {
     "name": "stdout",
     "output_type": "stream",
     "text": [
      "\n",
      "QWK 0.802353905156864 QWK_k 0.8108703334605545 QWK_r 0.7466215154286748\n",
      "Sat Jul 18 07:15:52 2020 epoch 3, lr: 0.00029624, train loss: 0.3060, val loss: 0.2627, acc: 50.2, QWK: 0.8024\n",
      "Sat Jul 18 07:15:52 2020 epoch: 4\n"
     ]
    },
    {
     "data": {
      "application/vnd.jupyter.widget-view+json": {
       "model_id": "f22e0bdd7f2141d5a03a5e9f99ed992a",
       "version_major": 2,
       "version_minor": 0
      },
      "text/plain": [
       "HBox(children=(FloatProgress(value=0.0, max=1052.0), HTML(value='')))"
      ]
     },
     "metadata": {},
     "output_type": "display_data"
    },
    {
     "name": "stdout",
     "output_type": "stream",
     "text": [
      "\n"
     ]
    },
    {
     "data": {
      "application/vnd.jupyter.widget-view+json": {
       "model_id": "2503b51633f24161b71c7420c1371aed",
       "version_major": 2,
       "version_minor": 0
      },
      "text/plain": [
       "HBox(children=(FloatProgress(value=0.0, max=263.0), HTML(value='')))"
      ]
     },
     "metadata": {},
     "output_type": "display_data"
    },
    {
     "name": "stdout",
     "output_type": "stream",
     "text": [
      "\n",
      "QWK 0.8390385034078851 QWK_k 0.8275307100044014 QWK_r 0.8066651104672717\n",
      "Sat Jul 18 07:29:56 2020 epoch 4, lr: 0.00029158, train loss: 0.2772, val loss: 0.2469, acc: 60.1, QWK: 0.8390\n",
      "QWK improved 0.811596 --> 0.839039 model saved\n",
      "Sat Jul 18 07:29:56 2020 epoch: 5\n"
     ]
    },
    {
     "data": {
      "application/vnd.jupyter.widget-view+json": {
       "model_id": "94d9d43d4c964fbab07eefaa493a78bd",
       "version_major": 2,
       "version_minor": 0
      },
      "text/plain": [
       "HBox(children=(FloatProgress(value=0.0, max=1052.0), HTML(value='')))"
      ]
     },
     "metadata": {},
     "output_type": "display_data"
    },
    {
     "name": "stdout",
     "output_type": "stream",
     "text": [
      "\n"
     ]
    },
    {
     "data": {
      "application/vnd.jupyter.widget-view+json": {
       "model_id": "c6564bcc2887409291ab49de405d3c91",
       "version_major": 2,
       "version_minor": 0
      },
      "text/plain": [
       "HBox(children=(FloatProgress(value=0.0, max=263.0), HTML(value='')))"
      ]
     },
     "metadata": {},
     "output_type": "display_data"
    },
    {
     "name": "stdout",
     "output_type": "stream",
     "text": [
      "\n",
      "QWK 0.8271828526128189 QWK_k 0.8325496982231039 QWK_r 0.7853403368828991\n",
      "Sat Jul 18 07:44:01 2020 epoch 5, lr: 0.00028515, train loss: 0.2586, val loss: 0.2662, acc: 59.5, QWK: 0.8272\n",
      "Sat Jul 18 07:44:01 2020 epoch: 6\n"
     ]
    },
    {
     "data": {
      "application/vnd.jupyter.widget-view+json": {
       "model_id": "9ecb9c5732704d4e9560d9703ef50512",
       "version_major": 2,
       "version_minor": 0
      },
      "text/plain": [
       "HBox(children=(FloatProgress(value=0.0, max=1052.0), HTML(value='')))"
      ]
     },
     "metadata": {},
     "output_type": "display_data"
    },
    {
     "name": "stdout",
     "output_type": "stream",
     "text": [
      "Gradient overflow.  Skipping step, loss scaler 0 reducing loss scale to 16384.0\n",
      "\n"
     ]
    },
    {
     "data": {
      "application/vnd.jupyter.widget-view+json": {
       "model_id": "a9298871ad424ec0ae1b6c99f33eae03",
       "version_major": 2,
       "version_minor": 0
      },
      "text/plain": [
       "HBox(children=(FloatProgress(value=0.0, max=263.0), HTML(value='')))"
      ]
     },
     "metadata": {},
     "output_type": "display_data"
    },
    {
     "name": "stdout",
     "output_type": "stream",
     "text": [
      "\n",
      "QWK 0.8290604420588483 QWK_k 0.8382248210202781 QWK_r 0.7799577704280882\n",
      "Sat Jul 18 07:58:05 2020 epoch 6, lr: 0.00027701, train loss: 0.2477, val loss: 0.2603, acc: 53.8, QWK: 0.8291\n",
      "Sat Jul 18 07:58:05 2020 epoch: 7\n"
     ]
    },
    {
     "data": {
      "application/vnd.jupyter.widget-view+json": {
       "model_id": "b8b3617efea14102acece8fcf5288815",
       "version_major": 2,
       "version_minor": 0
      },
      "text/plain": [
       "HBox(children=(FloatProgress(value=0.0, max=1052.0), HTML(value='')))"
      ]
     },
     "metadata": {},
     "output_type": "display_data"
    },
    {
     "name": "stdout",
     "output_type": "stream",
     "text": [
      "\n"
     ]
    },
    {
     "data": {
      "application/vnd.jupyter.widget-view+json": {
       "model_id": "abbad29d12694bee93b969956f629e14",
       "version_major": 2,
       "version_minor": 0
      },
      "text/plain": [
       "HBox(children=(FloatProgress(value=0.0, max=263.0), HTML(value='')))"
      ]
     },
     "metadata": {},
     "output_type": "display_data"
    },
    {
     "name": "stdout",
     "output_type": "stream",
     "text": [
      "\n",
      "QWK 0.841768614245631 QWK_k 0.8343035492214126 QWK_r 0.8087798274864844\n",
      "Sat Jul 18 08:12:10 2020 epoch 7, lr: 0.00026728, train loss: 0.2395, val loss: 0.2489, acc: 59.5, QWK: 0.8418\n",
      "QWK improved 0.839039 --> 0.841769 model saved\n",
      "Sat Jul 18 08:12:10 2020 epoch: 8\n"
     ]
    },
    {
     "data": {
      "application/vnd.jupyter.widget-view+json": {
       "model_id": "b8ec963d7bd747c7ab0ca70ade7cf5d6",
       "version_major": 2,
       "version_minor": 0
      },
      "text/plain": [
       "HBox(children=(FloatProgress(value=0.0, max=1052.0), HTML(value='')))"
      ]
     },
     "metadata": {},
     "output_type": "display_data"
    },
    {
     "name": "stdout",
     "output_type": "stream",
     "text": [
      "Gradient overflow.  Skipping step, loss scaler 0 reducing loss scale to 8192.0\n",
      "\n"
     ]
    },
    {
     "data": {
      "application/vnd.jupyter.widget-view+json": {
       "model_id": "5454b00297f24590a14034604d4c46ca",
       "version_major": 2,
       "version_minor": 0
      },
      "text/plain": [
       "HBox(children=(FloatProgress(value=0.0, max=263.0), HTML(value='')))"
      ]
     },
     "metadata": {},
     "output_type": "display_data"
    },
    {
     "name": "stdout",
     "output_type": "stream",
     "text": [
      "\n",
      "QWK 0.8549334395862311 QWK_k 0.859775791748541 QWK_r 0.8187537673535954\n",
      "Sat Jul 18 08:26:14 2020 epoch 8, lr: 0.00025607, train loss: 0.2300, val loss: 0.2321, acc: 63.6, QWK: 0.8549\n",
      "QWK improved 0.841769 --> 0.854933 model saved\n",
      "Sat Jul 18 08:26:14 2020 epoch: 9\n"
     ]
    },
    {
     "data": {
      "application/vnd.jupyter.widget-view+json": {
       "model_id": "1be026b5b7204221ae34a44b50eee4a3",
       "version_major": 2,
       "version_minor": 0
      },
      "text/plain": [
       "HBox(children=(FloatProgress(value=0.0, max=1052.0), HTML(value='')))"
      ]
     },
     "metadata": {},
     "output_type": "display_data"
    },
    {
     "name": "stdout",
     "output_type": "stream",
     "text": [
      "\n"
     ]
    },
    {
     "data": {
      "application/vnd.jupyter.widget-view+json": {
       "model_id": "c5f7e194c17d4e9daf44e53ff180acb6",
       "version_major": 2,
       "version_minor": 0
      },
      "text/plain": [
       "HBox(children=(FloatProgress(value=0.0, max=263.0), HTML(value='')))"
      ]
     },
     "metadata": {},
     "output_type": "display_data"
    },
    {
     "name": "stdout",
     "output_type": "stream",
     "text": [
      "\n",
      "QWK 0.8505925687188506 QWK_k 0.8600465346853039 QWK_r 0.8039536404975012\n",
      "Sat Jul 18 08:40:19 2020 epoch 9, lr: 0.00024353, train loss: 0.2196, val loss: 0.2436, acc: 62.2, QWK: 0.8506\n",
      "Sat Jul 18 08:40:19 2020 epoch: 10\n"
     ]
    },
    {
     "data": {
      "application/vnd.jupyter.widget-view+json": {
       "model_id": "ea5f4e45a80642489f470c5ec3117dbf",
       "version_major": 2,
       "version_minor": 0
      },
      "text/plain": [
       "HBox(children=(FloatProgress(value=0.0, max=1052.0), HTML(value='')))"
      ]
     },
     "metadata": {},
     "output_type": "display_data"
    },
    {
     "name": "stdout",
     "output_type": "stream",
     "text": [
      "\n"
     ]
    },
    {
     "data": {
      "application/vnd.jupyter.widget-view+json": {
       "model_id": "5e3f490f9c564f2bbd1c25fbae393083",
       "version_major": 2,
       "version_minor": 0
      },
      "text/plain": [
       "HBox(children=(FloatProgress(value=0.0, max=263.0), HTML(value='')))"
      ]
     },
     "metadata": {},
     "output_type": "display_data"
    },
    {
     "name": "stdout",
     "output_type": "stream",
     "text": [
      "\n",
      "QWK 0.8337629588861948 QWK_k 0.8423832836744295 QWK_r 0.7830656688808543\n",
      "Sat Jul 18 08:54:24 2020 epoch 10, lr: 0.00022981, train loss: 0.2106, val loss: 0.2577, acc: 59.0, QWK: 0.8338\n",
      "Sat Jul 18 08:54:24 2020 epoch: 11\n"
     ]
    },
    {
     "data": {
      "application/vnd.jupyter.widget-view+json": {
       "model_id": "794073973c92411b8d81f0f2467fb82e",
       "version_major": 2,
       "version_minor": 0
      },
      "text/plain": [
       "HBox(children=(FloatProgress(value=0.0, max=1052.0), HTML(value='')))"
      ]
     },
     "metadata": {},
     "output_type": "display_data"
    },
    {
     "name": "stdout",
     "output_type": "stream",
     "text": [
      "Gradient overflow.  Skipping step, loss scaler 0 reducing loss scale to 8192.0\n",
      "\n"
     ]
    },
    {
     "data": {
      "application/vnd.jupyter.widget-view+json": {
       "model_id": "18e05ea0131541d08294312c1573bef9",
       "version_major": 2,
       "version_minor": 0
      },
      "text/plain": [
       "HBox(children=(FloatProgress(value=0.0, max=263.0), HTML(value='')))"
      ]
     },
     "metadata": {},
     "output_type": "display_data"
    },
    {
     "name": "stdout",
     "output_type": "stream",
     "text": [
      "\n",
      "QWK 0.8701548562562527 QWK_k 0.8806868372939498 QWK_r 0.8339460870207938\n",
      "Sat Jul 18 09:08:29 2020 epoch 11, lr: 0.00021509, train loss: 0.1990, val loss: 0.2217, acc: 64.6, QWK: 0.8702\n",
      "QWK improved 0.854933 --> 0.870155 model saved\n",
      "Sat Jul 18 09:08:29 2020 epoch: 12\n"
     ]
    },
    {
     "data": {
      "application/vnd.jupyter.widget-view+json": {
       "model_id": "3035f1e34abd44e887fe677fabd694de",
       "version_major": 2,
       "version_minor": 0
      },
      "text/plain": [
       "HBox(children=(FloatProgress(value=0.0, max=1052.0), HTML(value='')))"
      ]
     },
     "metadata": {},
     "output_type": "display_data"
    },
    {
     "name": "stdout",
     "output_type": "stream",
     "text": [
      "\n"
     ]
    },
    {
     "data": {
      "application/vnd.jupyter.widget-view+json": {
       "model_id": "58751f3916784f87b0ba006e5beb1ed0",
       "version_major": 2,
       "version_minor": 0
      },
      "text/plain": [
       "HBox(children=(FloatProgress(value=0.0, max=263.0), HTML(value='')))"
      ]
     },
     "metadata": {},
     "output_type": "display_data"
    },
    {
     "name": "stdout",
     "output_type": "stream",
     "text": [
      "\n",
      "QWK 0.8516254635567471 QWK_k 0.8718817989254923 QWK_r 0.8073937504654154\n",
      "Sat Jul 18 09:22:33 2020 epoch 12, lr: 0.00019955, train loss: 0.1959, val loss: 0.2372, acc: 64.0, QWK: 0.8516\n",
      "Sat Jul 18 09:22:33 2020 epoch: 13\n"
     ]
    },
    {
     "data": {
      "application/vnd.jupyter.widget-view+json": {
       "model_id": "f1a7ce1c9bc34db3ac377876eb4e2fb3",
       "version_major": 2,
       "version_minor": 0
      },
      "text/plain": [
       "HBox(children=(FloatProgress(value=0.0, max=1052.0), HTML(value='')))"
      ]
     },
     "metadata": {},
     "output_type": "display_data"
    },
    {
     "name": "stdout",
     "output_type": "stream",
     "text": [
      "\n"
     ]
    },
    {
     "data": {
      "application/vnd.jupyter.widget-view+json": {
       "model_id": "2b0d939b0fa94776b0ceb2f63c43c213",
       "version_major": 2,
       "version_minor": 0
      },
      "text/plain": [
       "HBox(children=(FloatProgress(value=0.0, max=263.0), HTML(value='')))"
      ]
     },
     "metadata": {},
     "output_type": "display_data"
    },
    {
     "name": "stdout",
     "output_type": "stream",
     "text": [
      "\n",
      "QWK 0.8599729688741626 QWK_k 0.8841692194390409 QWK_r 0.8088942039858276\n",
      "Sat Jul 18 09:36:38 2020 epoch 13, lr: 0.00018338, train loss: 0.1857, val loss: 0.2447, acc: 65.2, QWK: 0.8600\n",
      "Sat Jul 18 09:36:38 2020 epoch: 14\n"
     ]
    },
    {
     "data": {
      "application/vnd.jupyter.widget-view+json": {
       "model_id": "df4ab870d622421987e71feecf9d411f",
       "version_major": 2,
       "version_minor": 0
      },
      "text/plain": [
       "HBox(children=(FloatProgress(value=0.0, max=1052.0), HTML(value='')))"
      ]
     },
     "metadata": {},
     "output_type": "display_data"
    },
    {
     "name": "stdout",
     "output_type": "stream",
     "text": [
      "Gradient overflow.  Skipping step, loss scaler 0 reducing loss scale to 16384.0\n",
      "\n"
     ]
    },
    {
     "data": {
      "application/vnd.jupyter.widget-view+json": {
       "model_id": "2d056084cc2e47dba10f2174830666d1",
       "version_major": 2,
       "version_minor": 0
      },
      "text/plain": [
       "HBox(children=(FloatProgress(value=0.0, max=263.0), HTML(value='')))"
      ]
     },
     "metadata": {},
     "output_type": "display_data"
    },
    {
     "name": "stdout",
     "output_type": "stream",
     "text": [
      "\n",
      "QWK 0.8406925504561036 QWK_k 0.8471801967219457 QWK_r 0.800413545303549\n",
      "Sat Jul 18 09:50:44 2020 epoch 14, lr: 0.00016680, train loss: 0.1780, val loss: 0.2403, acc: 62.0, QWK: 0.8407\n",
      "Sat Jul 18 09:50:44 2020 epoch: 15\n"
     ]
    },
    {
     "data": {
      "application/vnd.jupyter.widget-view+json": {
       "model_id": "5f277bad88e14066b3d01337aa89860b",
       "version_major": 2,
       "version_minor": 0
      },
      "text/plain": [
       "HBox(children=(FloatProgress(value=0.0, max=1052.0), HTML(value='')))"
      ]
     },
     "metadata": {},
     "output_type": "display_data"
    },
    {
     "name": "stdout",
     "output_type": "stream",
     "text": [
      "\n"
     ]
    },
    {
     "data": {
      "application/vnd.jupyter.widget-view+json": {
       "model_id": "7f662e39310b4b8fbd9170162fa94e14",
       "version_major": 2,
       "version_minor": 0
      },
      "text/plain": [
       "HBox(children=(FloatProgress(value=0.0, max=263.0), HTML(value='')))"
      ]
     },
     "metadata": {},
     "output_type": "display_data"
    },
    {
     "name": "stdout",
     "output_type": "stream",
     "text": [
      "\n",
      "QWK 0.8565096182693994 QWK_k 0.8751184391553805 QWK_r 0.8133582536409621\n",
      "Sat Jul 18 10:04:49 2020 epoch 15, lr: 0.00015000, train loss: 0.1729, val loss: 0.2342, acc: 65.4, QWK: 0.8565\n",
      "Sat Jul 18 10:04:49 2020 epoch: 16\n"
     ]
    },
    {
     "data": {
      "application/vnd.jupyter.widget-view+json": {
       "model_id": "3519061688284c6898042c82e1c5becf",
       "version_major": 2,
       "version_minor": 0
      },
      "text/plain": [
       "HBox(children=(FloatProgress(value=0.0, max=1052.0), HTML(value='')))"
      ]
     },
     "metadata": {},
     "output_type": "display_data"
    },
    {
     "name": "stdout",
     "output_type": "stream",
     "text": [
      "Gradient overflow.  Skipping step, loss scaler 0 reducing loss scale to 16384.0\n",
      "\n"
     ]
    },
    {
     "data": {
      "application/vnd.jupyter.widget-view+json": {
       "model_id": "26e9e3047c094a1ba36ecf5f2cd202cc",
       "version_major": 2,
       "version_minor": 0
      },
      "text/plain": [
       "HBox(children=(FloatProgress(value=0.0, max=263.0), HTML(value='')))"
      ]
     },
     "metadata": {},
     "output_type": "display_data"
    },
    {
     "name": "stdout",
     "output_type": "stream",
     "text": [
      "\n",
      "QWK 0.8591086430411311 QWK_k 0.8729987310440578 QWK_r 0.8194395819224921\n",
      "Sat Jul 18 10:18:53 2020 epoch 16, lr: 0.00013321, train loss: 0.1649, val loss: 0.2435, acc: 66.2, QWK: 0.8591\n",
      "Sat Jul 18 10:18:53 2020 epoch: 17\n"
     ]
    },
    {
     "data": {
      "application/vnd.jupyter.widget-view+json": {
       "model_id": "4fd6ce10078544e8af2b76e40a33eacf",
       "version_major": 2,
       "version_minor": 0
      },
      "text/plain": [
       "HBox(children=(FloatProgress(value=0.0, max=1052.0), HTML(value='')))"
      ]
     },
     "metadata": {},
     "output_type": "display_data"
    },
    {
     "name": "stdout",
     "output_type": "stream",
     "text": [
      "Gradient overflow.  Skipping step, loss scaler 0 reducing loss scale to 8192.0\n",
      "\n"
     ]
    },
    {
     "data": {
      "application/vnd.jupyter.widget-view+json": {
       "model_id": "09a987b0cb4b491fb66fd2177ae403b0",
       "version_major": 2,
       "version_minor": 0
      },
      "text/plain": [
       "HBox(children=(FloatProgress(value=0.0, max=263.0), HTML(value='')))"
      ]
     },
     "metadata": {},
     "output_type": "display_data"
    },
    {
     "name": "stdout",
     "output_type": "stream",
     "text": [
      "\n",
      "QWK 0.8591224492129242 QWK_k 0.8751115996714105 QWK_r 0.8131531547541225\n",
      "Sat Jul 18 10:32:58 2020 epoch 17, lr: 0.00011663, train loss: 0.1563, val loss: 0.2373, acc: 65.2, QWK: 0.8591\n",
      "Sat Jul 18 10:32:58 2020 epoch: 18\n"
     ]
    },
    {
     "data": {
      "application/vnd.jupyter.widget-view+json": {
       "model_id": "090634e427f844faa829a8c174904f31",
       "version_major": 2,
       "version_minor": 0
      },
      "text/plain": [
       "HBox(children=(FloatProgress(value=0.0, max=1052.0), HTML(value='')))"
      ]
     },
     "metadata": {},
     "output_type": "display_data"
    },
    {
     "name": "stdout",
     "output_type": "stream",
     "text": [
      "\n"
     ]
    },
    {
     "data": {
      "application/vnd.jupyter.widget-view+json": {
       "model_id": "1617ddf5bc434c56a0c9de235195b7ab",
       "version_major": 2,
       "version_minor": 0
      },
      "text/plain": [
       "HBox(children=(FloatProgress(value=0.0, max=263.0), HTML(value='')))"
      ]
     },
     "metadata": {},
     "output_type": "display_data"
    },
    {
     "name": "stdout",
     "output_type": "stream",
     "text": [
      "\n",
      "QWK 0.860164231823023 QWK_k 0.8837313580700397 QWK_r 0.815623919594915\n",
      "Sat Jul 18 10:47:03 2020 epoch 18, lr: 0.00010046, train loss: 0.1472, val loss: 0.2470, acc: 68.0, QWK: 0.8602\n",
      "Sat Jul 18 10:47:03 2020 epoch: 19\n"
     ]
    },
    {
     "data": {
      "application/vnd.jupyter.widget-view+json": {
       "model_id": "5a3d5d200a8a484cb1aabcafa681eaa2",
       "version_major": 2,
       "version_minor": 0
      },
      "text/plain": [
       "HBox(children=(FloatProgress(value=0.0, max=1052.0), HTML(value='')))"
      ]
     },
     "metadata": {},
     "output_type": "display_data"
    },
    {
     "name": "stdout",
     "output_type": "stream",
     "text": [
      "\n"
     ]
    },
    {
     "data": {
      "application/vnd.jupyter.widget-view+json": {
       "model_id": "2b2feee60be04d678663e426679e5428",
       "version_major": 2,
       "version_minor": 0
      },
      "text/plain": [
       "HBox(children=(FloatProgress(value=0.0, max=263.0), HTML(value='')))"
      ]
     },
     "metadata": {},
     "output_type": "display_data"
    },
    {
     "name": "stdout",
     "output_type": "stream",
     "text": [
      "\n",
      "QWK 0.85797433987722 QWK_k 0.8776389523778638 QWK_r 0.813559943507611\n",
      "Sat Jul 18 11:01:08 2020 epoch 19, lr: 0.00008492, train loss: 0.1451, val loss: 0.2388, acc: 65.2, QWK: 0.8580\n",
      "Sat Jul 18 11:01:08 2020 epoch: 20\n"
     ]
    },
    {
     "data": {
      "application/vnd.jupyter.widget-view+json": {
       "model_id": "c48343cb3aa8470595cfd7a3f6da62e6",
       "version_major": 2,
       "version_minor": 0
      },
      "text/plain": [
       "HBox(children=(FloatProgress(value=0.0, max=1052.0), HTML(value='')))"
      ]
     },
     "metadata": {},
     "output_type": "display_data"
    },
    {
     "name": "stdout",
     "output_type": "stream",
     "text": [
      "\n"
     ]
    },
    {
     "data": {
      "application/vnd.jupyter.widget-view+json": {
       "model_id": "2622e4528f5e4fb48146f83e663bff11",
       "version_major": 2,
       "version_minor": 0
      },
      "text/plain": [
       "HBox(children=(FloatProgress(value=0.0, max=263.0), HTML(value='')))"
      ]
     },
     "metadata": {},
     "output_type": "display_data"
    },
    {
     "name": "stdout",
     "output_type": "stream",
     "text": [
      "\n",
      "QWK 0.857422324590004 QWK_k 0.8779106159238858 QWK_r 0.8107659091740769\n",
      "Sat Jul 18 11:15:14 2020 epoch 20, lr: 0.00007020, train loss: 0.1385, val loss: 0.2451, acc: 64.4, QWK: 0.8574\n",
      "Sat Jul 18 11:15:14 2020 epoch: 21\n"
     ]
    },
    {
     "data": {
      "application/vnd.jupyter.widget-view+json": {
       "model_id": "66375a5b515e4f5cb75138e13547e08a",
       "version_major": 2,
       "version_minor": 0
      },
      "text/plain": [
       "HBox(children=(FloatProgress(value=0.0, max=1052.0), HTML(value='')))"
      ]
     },
     "metadata": {},
     "output_type": "display_data"
    },
    {
     "name": "stdout",
     "output_type": "stream",
     "text": [
      "Gradient overflow.  Skipping step, loss scaler 0 reducing loss scale to 16384.0\n",
      "\n"
     ]
    },
    {
     "data": {
      "application/vnd.jupyter.widget-view+json": {
       "model_id": "5c2b71de410849429b22cd14b861224d",
       "version_major": 2,
       "version_minor": 0
      },
      "text/plain": [
       "HBox(children=(FloatProgress(value=0.0, max=263.0), HTML(value='')))"
      ]
     },
     "metadata": {},
     "output_type": "display_data"
    },
    {
     "name": "stdout",
     "output_type": "stream",
     "text": [
      "\n",
      "QWK 0.863733079510024 QWK_k 0.8818159061154607 QWK_r 0.8256101498476142\n",
      "Sat Jul 18 11:29:17 2020 epoch 21, lr: 0.00005648, train loss: 0.1272, val loss: 0.2406, acc: 68.0, QWK: 0.8637\n",
      "Sat Jul 18 11:29:17 2020 epoch: 22\n"
     ]
    },
    {
     "data": {
      "application/vnd.jupyter.widget-view+json": {
       "model_id": "21e1e5ac6c7e478082db3dfe336d2716",
       "version_major": 2,
       "version_minor": 0
      },
      "text/plain": [
       "HBox(children=(FloatProgress(value=0.0, max=1052.0), HTML(value='')))"
      ]
     },
     "metadata": {},
     "output_type": "display_data"
    },
    {
     "name": "stdout",
     "output_type": "stream",
     "text": [
      "\n"
     ]
    },
    {
     "data": {
      "application/vnd.jupyter.widget-view+json": {
       "model_id": "d00df92357d248c1be13bd0c40fb6bc9",
       "version_major": 2,
       "version_minor": 0
      },
      "text/plain": [
       "HBox(children=(FloatProgress(value=0.0, max=263.0), HTML(value='')))"
      ]
     },
     "metadata": {},
     "output_type": "display_data"
    },
    {
     "name": "stdout",
     "output_type": "stream",
     "text": [
      "\n",
      "QWK 0.8683705248556363 QWK_k 0.8825450753074544 QWK_r 0.8317589919941013\n",
      "Sat Jul 18 11:43:21 2020 epoch 22, lr: 0.00004394, train loss: 0.1216, val loss: 0.2386, acc: 68.2, QWK: 0.8684\n",
      "Sat Jul 18 11:43:21 2020 epoch: 23\n"
     ]
    },
    {
     "data": {
      "application/vnd.jupyter.widget-view+json": {
       "model_id": "f2a4f74d82a8411f9ec0127c62a6d968",
       "version_major": 2,
       "version_minor": 0
      },
      "text/plain": [
       "HBox(children=(FloatProgress(value=0.0, max=1052.0), HTML(value='')))"
      ]
     },
     "metadata": {},
     "output_type": "display_data"
    },
    {
     "name": "stdout",
     "output_type": "stream",
     "text": [
      "Gradient overflow.  Skipping step, loss scaler 0 reducing loss scale to 8192.0\n",
      "\n"
     ]
    },
    {
     "data": {
      "application/vnd.jupyter.widget-view+json": {
       "model_id": "051371e48a3744d0941324d7fcab83f5",
       "version_major": 2,
       "version_minor": 0
      },
      "text/plain": [
       "HBox(children=(FloatProgress(value=0.0, max=263.0), HTML(value='')))"
      ]
     },
     "metadata": {},
     "output_type": "display_data"
    },
    {
     "name": "stdout",
     "output_type": "stream",
     "text": [
      "\n",
      "QWK 0.8714609674340803 QWK_k 0.8867959901673274 QWK_r 0.8345170257542044\n",
      "Sat Jul 18 11:57:24 2020 epoch 23, lr: 0.00003273, train loss: 0.1188, val loss: 0.2531, acc: 68.6, QWK: 0.8715\n",
      "QWK improved 0.870155 --> 0.871461 model saved\n",
      "Sat Jul 18 11:57:24 2020 epoch: 24\n"
     ]
    },
    {
     "data": {
      "application/vnd.jupyter.widget-view+json": {
       "model_id": "f904b660e7b2455b8b6ba92d88d3872d",
       "version_major": 2,
       "version_minor": 0
      },
      "text/plain": [
       "HBox(children=(FloatProgress(value=0.0, max=1052.0), HTML(value='')))"
      ]
     },
     "metadata": {},
     "output_type": "display_data"
    },
    {
     "name": "stdout",
     "output_type": "stream",
     "text": [
      "\n"
     ]
    },
    {
     "data": {
      "application/vnd.jupyter.widget-view+json": {
       "model_id": "94c829c92e2d41a28464ad19f6e86a56",
       "version_major": 2,
       "version_minor": 0
      },
      "text/plain": [
       "HBox(children=(FloatProgress(value=0.0, max=263.0), HTML(value='')))"
      ]
     },
     "metadata": {},
     "output_type": "display_data"
    },
    {
     "name": "stdout",
     "output_type": "stream",
     "text": [
      "\n",
      "QWK 0.8702725533925411 QWK_k 0.8798080096638766 QWK_r 0.8372232955137768\n",
      "Sat Jul 18 12:11:27 2020 epoch 24, lr: 0.00002300, train loss: 0.1119, val loss: 0.2462, acc: 69.3, QWK: 0.8703\n",
      "Sat Jul 18 12:11:27 2020 epoch: 25\n"
     ]
    },
    {
     "data": {
      "application/vnd.jupyter.widget-view+json": {
       "model_id": "683d8b07d1fb452d93e712f0acea5052",
       "version_major": 2,
       "version_minor": 0
      },
      "text/plain": [
       "HBox(children=(FloatProgress(value=0.0, max=1052.0), HTML(value='')))"
      ]
     },
     "metadata": {},
     "output_type": "display_data"
    },
    {
     "name": "stdout",
     "output_type": "stream",
     "text": [
      "\n"
     ]
    },
    {
     "data": {
      "application/vnd.jupyter.widget-view+json": {
       "model_id": "8405bbf9310448cfb634f1ee55b09bd9",
       "version_major": 2,
       "version_minor": 0
      },
      "text/plain": [
       "HBox(children=(FloatProgress(value=0.0, max=263.0), HTML(value='')))"
      ]
     },
     "metadata": {},
     "output_type": "display_data"
    },
    {
     "name": "stdout",
     "output_type": "stream",
     "text": [
      "\n",
      "QWK 0.8680997730099529 QWK_k 0.8810774299089442 QWK_r 0.8327051179957782\n",
      "Sat Jul 18 12:25:31 2020 epoch 25, lr: 0.00001486, train loss: 0.1096, val loss: 0.2475, acc: 68.1, QWK: 0.8681\n",
      "Sat Jul 18 12:25:31 2020 epoch: 26\n"
     ]
    },
    {
     "data": {
      "application/vnd.jupyter.widget-view+json": {
       "model_id": "1bba2e2b2b37438ea953b8f83f6a581a",
       "version_major": 2,
       "version_minor": 0
      },
      "text/plain": [
       "HBox(children=(FloatProgress(value=0.0, max=1052.0), HTML(value='')))"
      ]
     },
     "metadata": {},
     "output_type": "display_data"
    },
    {
     "name": "stdout",
     "output_type": "stream",
     "text": [
      "\n"
     ]
    },
    {
     "data": {
      "application/vnd.jupyter.widget-view+json": {
       "model_id": "be49a5f7e46e4f79bcdf418dafc74ec3",
       "version_major": 2,
       "version_minor": 0
      },
      "text/plain": [
       "HBox(children=(FloatProgress(value=0.0, max=263.0), HTML(value='')))"
      ]
     },
     "metadata": {},
     "output_type": "display_data"
    },
    {
     "name": "stdout",
     "output_type": "stream",
     "text": [
      "\n",
      "QWK 0.8717813972949497 QWK_k 0.8835205781325101 QWK_r 0.8380096558111048\n",
      "Sat Jul 18 12:39:34 2020 epoch 26, lr: 0.00000843, train loss: 0.1085, val loss: 0.2483, acc: 69.7, QWK: 0.8718\n",
      "QWK improved 0.871461 --> 0.871781 model saved\n",
      "Sat Jul 18 12:39:34 2020 epoch: 27\n"
     ]
    },
    {
     "data": {
      "application/vnd.jupyter.widget-view+json": {
       "model_id": "27f4e0bbce3948d5a8c6ae7ef74cee55",
       "version_major": 2,
       "version_minor": 0
      },
      "text/plain": [
       "HBox(children=(FloatProgress(value=0.0, max=1052.0), HTML(value='')))"
      ]
     },
     "metadata": {},
     "output_type": "display_data"
    },
    {
     "name": "stdout",
     "output_type": "stream",
     "text": [
      "Gradient overflow.  Skipping step, loss scaler 0 reducing loss scale to 16384.0\n",
      "\n"
     ]
    },
    {
     "data": {
      "application/vnd.jupyter.widget-view+json": {
       "model_id": "affc883f27e941648ee53b274286e4a2",
       "version_major": 2,
       "version_minor": 0
      },
      "text/plain": [
       "HBox(children=(FloatProgress(value=0.0, max=263.0), HTML(value='')))"
      ]
     },
     "metadata": {},
     "output_type": "display_data"
    },
    {
     "name": "stdout",
     "output_type": "stream",
     "text": [
      "\n",
      "QWK 0.8703353818628496 QWK_k 0.8821428534557074 QWK_r 0.8360396810006747\n",
      "Sat Jul 18 12:53:37 2020 epoch 27, lr: 0.00000377, train loss: 0.1048, val loss: 0.2523, acc: 69.3, QWK: 0.8703\n",
      "Sat Jul 18 12:53:37 2020 epoch: 28\n"
     ]
    },
    {
     "data": {
      "application/vnd.jupyter.widget-view+json": {
       "model_id": "f8692dd84c8649368b5dfd5121b84942",
       "version_major": 2,
       "version_minor": 0
      },
      "text/plain": [
       "HBox(children=(FloatProgress(value=0.0, max=1052.0), HTML(value='')))"
      ]
     },
     "metadata": {},
     "output_type": "display_data"
    },
    {
     "name": "stdout",
     "output_type": "stream",
     "text": [
      "\n"
     ]
    },
    {
     "data": {
      "application/vnd.jupyter.widget-view+json": {
       "model_id": "e228f806dc8c44e2bcb583296a605574",
       "version_major": 2,
       "version_minor": 0
      },
      "text/plain": [
       "HBox(children=(FloatProgress(value=0.0, max=263.0), HTML(value='')))"
      ]
     },
     "metadata": {},
     "output_type": "display_data"
    },
    {
     "name": "stdout",
     "output_type": "stream",
     "text": [
      "\n",
      "QWK 0.8687085617250808 QWK_k 0.8803633314977428 QWK_r 0.8340908670876328\n",
      "Sat Jul 18 13:07:40 2020 epoch 28, lr: 0.00000095, train loss: 0.1047, val loss: 0.2513, acc: 69.6, QWK: 0.8687\n",
      "Sat Jul 18 13:07:40 2020 epoch: 29\n"
     ]
    },
    {
     "data": {
      "application/vnd.jupyter.widget-view+json": {
       "model_id": "74b41c8ec39d4884bba2615018be82dd",
       "version_major": 2,
       "version_minor": 0
      },
      "text/plain": [
       "HBox(children=(FloatProgress(value=0.0, max=1052.0), HTML(value='')))"
      ]
     },
     "metadata": {},
     "output_type": "display_data"
    },
    {
     "name": "stdout",
     "output_type": "stream",
     "text": [
      "Gradient overflow.  Skipping step, loss scaler 0 reducing loss scale to 16384.0\n",
      "\n"
     ]
    },
    {
     "data": {
      "application/vnd.jupyter.widget-view+json": {
       "model_id": "eecc0c4d1d564ec4abe32a1161ac527f",
       "version_major": 2,
       "version_minor": 0
      },
      "text/plain": [
       "HBox(children=(FloatProgress(value=0.0, max=263.0), HTML(value='')))"
      ]
     },
     "metadata": {},
     "output_type": "display_data"
    },
    {
     "name": "stdout",
     "output_type": "stream",
     "text": [
      "\n",
      "QWK 0.8687503700381909 QWK_k 0.8811020263313292 QWK_r 0.8336262563459853\n",
      "Sat Jul 18 13:21:44 2020 epoch 29, lr: 0.00000001, train loss: 0.1024, val loss: 0.2495, acc: 69.1, QWK: 0.8688\n",
      "\n",
      "-------------------- fold: 2 --------------------\n",
      "Selected optimization level O1:  Insert automatic casts around Pytorch functions and Tensor methods.\n",
      "\n",
      "Defaults for this optimization level are:\n",
      "enabled                : True\n",
      "opt_level              : O1\n",
      "cast_model_type        : None\n",
      "patch_torch_functions  : True\n",
      "keep_batchnorm_fp32    : None\n",
      "master_weights         : None\n",
      "loss_scale             : dynamic\n",
      "Processing user overrides (additional kwargs that are not None)...\n",
      "After processing overrides, optimization options are:\n",
      "enabled                : True\n",
      "opt_level              : O1\n",
      "cast_model_type        : None\n",
      "patch_torch_functions  : True\n",
      "keep_batchnorm_fp32    : None\n",
      "master_weights         : None\n",
      "loss_scale             : dynamic\n",
      "train len: 8413 | val len: 2103\n"
     ]
    },
    {
     "data": {
      "application/vnd.jupyter.widget-view+json": {
       "model_id": "60ef13d8f4464e9fa63fcc3df37ae5d6",
       "version_major": 2,
       "version_minor": 0
      },
      "text/plain": [
       "HBox(children=(FloatProgress(value=0.0, description='epochs', max=30.0, style=ProgressStyle(description_width=…"
      ]
     },
     "metadata": {},
     "output_type": "display_data"
    },
    {
     "name": "stdout",
     "output_type": "stream",
     "text": [
      "Sat Jul 18 13:21:44 2020 epoch: 0\n"
     ]
    },
    {
     "data": {
      "application/vnd.jupyter.widget-view+json": {
       "model_id": "629575af09b94f75a17891dfba392432",
       "version_major": 2,
       "version_minor": 0
      },
      "text/plain": [
       "HBox(children=(FloatProgress(value=0.0, max=1052.0), HTML(value='')))"
      ]
     },
     "metadata": {},
     "output_type": "display_data"
    },
    {
     "name": "stdout",
     "output_type": "stream",
     "text": [
      "Gradient overflow.  Skipping step, loss scaler 0 reducing loss scale to 32768.0\n",
      "\n"
     ]
    },
    {
     "data": {
      "application/vnd.jupyter.widget-view+json": {
       "model_id": "f81ead82c56a469eb0a0b52f159b363e",
       "version_major": 2,
       "version_minor": 0
      },
      "text/plain": [
       "HBox(children=(FloatProgress(value=0.0, max=263.0), HTML(value='')))"
      ]
     },
     "metadata": {},
     "output_type": "display_data"
    },
    {
     "name": "stdout",
     "output_type": "stream",
     "text": [
      "\n",
      "QWK 0.5686173245037511 QWK_k 0.4921307597947654 QWK_r 0.49686715947976734\n",
      "Sat Jul 18 13:35:51 2020 epoch 0, lr: 0.00001000, train loss: 0.5029, val loss: 0.3997, acc: 25.7, QWK: 0.5686\n",
      "QWK improved 0.000000 --> 0.568617 model saved\n",
      "Sat Jul 18 13:35:51 2020 epoch: 1\n"
     ]
    },
    {
     "data": {
      "application/vnd.jupyter.widget-view+json": {
       "model_id": "d5f92c903b504dd0bbb144dde8b2e8c1",
       "version_major": 2,
       "version_minor": 0
      },
      "text/plain": [
       "HBox(children=(FloatProgress(value=0.0, max=1052.0), HTML(value='')))"
      ]
     },
     "metadata": {},
     "output_type": "display_data"
    },
    {
     "name": "stdout",
     "output_type": "stream",
     "text": [
      "\n"
     ]
    },
    {
     "data": {
      "application/vnd.jupyter.widget-view+json": {
       "model_id": "dc9b519123c54b86b840b5e1ae507972",
       "version_major": 2,
       "version_minor": 0
      },
      "text/plain": [
       "HBox(children=(FloatProgress(value=0.0, max=263.0), HTML(value='')))"
      ]
     },
     "metadata": {},
     "output_type": "display_data"
    },
    {
     "name": "stdout",
     "output_type": "stream",
     "text": [
      "\n",
      "QWK 0.6857798466334744 QWK_k 0.6423404072948022 QWK_r 0.6124548104754477\n",
      "Sat Jul 18 13:49:57 2020 epoch 1, lr: 0.00030000, train loss: 0.4228, val loss: 0.3498, acc: 38.9, QWK: 0.6858\n",
      "QWK improved 0.568617 --> 0.685780 model saved\n",
      "Sat Jul 18 13:49:57 2020 epoch: 2\n"
     ]
    },
    {
     "data": {
      "application/vnd.jupyter.widget-view+json": {
       "model_id": "ebc0de36367c41129162fb0fc0586907",
       "version_major": 2,
       "version_minor": 0
      },
      "text/plain": [
       "HBox(children=(FloatProgress(value=0.0, max=1052.0), HTML(value='')))"
      ]
     },
     "metadata": {},
     "output_type": "display_data"
    },
    {
     "name": "stdout",
     "output_type": "stream",
     "text": [
      "Gradient overflow.  Skipping step, loss scaler 0 reducing loss scale to 32768.0\n",
      "Gradient overflow.  Skipping step, loss scaler 0 reducing loss scale to 16384.0\n",
      "\n"
     ]
    },
    {
     "data": {
      "application/vnd.jupyter.widget-view+json": {
       "model_id": "3b9abd3c2fda4f8ea9b3cd19a6082881",
       "version_major": 2,
       "version_minor": 0
      },
      "text/plain": [
       "HBox(children=(FloatProgress(value=0.0, max=263.0), HTML(value='')))"
      ]
     },
     "metadata": {},
     "output_type": "display_data"
    },
    {
     "name": "stdout",
     "output_type": "stream",
     "text": [
      "\n",
      "QWK 0.7785390881385236 QWK_k 0.7878910451250877 QWK_r 0.724462521362097\n",
      "Sat Jul 18 14:04:04 2020 epoch 2, lr: 0.00029906, train loss: 0.3680, val loss: 0.2924, acc: 54.2, QWK: 0.7785\n",
      "QWK improved 0.685780 --> 0.778539 model saved\n",
      "Sat Jul 18 14:04:04 2020 epoch: 3\n"
     ]
    },
    {
     "data": {
      "application/vnd.jupyter.widget-view+json": {
       "model_id": "4b3327568adb4999ba8e1c760bb79635",
       "version_major": 2,
       "version_minor": 0
      },
      "text/plain": [
       "HBox(children=(FloatProgress(value=0.0, max=1052.0), HTML(value='')))"
      ]
     },
     "metadata": {},
     "output_type": "display_data"
    },
    {
     "name": "stdout",
     "output_type": "stream",
     "text": [
      "\n"
     ]
    },
    {
     "data": {
      "application/vnd.jupyter.widget-view+json": {
       "model_id": "7046e5ad3af54221a89d17b8841f311e",
       "version_major": 2,
       "version_minor": 0
      },
      "text/plain": [
       "HBox(children=(FloatProgress(value=0.0, max=263.0), HTML(value='')))"
      ]
     },
     "metadata": {},
     "output_type": "display_data"
    },
    {
     "name": "stdout",
     "output_type": "stream",
     "text": [
      "\n",
      "QWK 0.8079514031048076 QWK_k 0.8164473258589975 QWK_r 0.7529129498798514\n",
      "Sat Jul 18 14:18:10 2020 epoch 3, lr: 0.00029624, train loss: 0.3001, val loss: 0.2636, acc: 58.0, QWK: 0.8080\n",
      "QWK improved 0.778539 --> 0.807951 model saved\n",
      "Sat Jul 18 14:18:10 2020 epoch: 4\n"
     ]
    },
    {
     "data": {
      "application/vnd.jupyter.widget-view+json": {
       "model_id": "2146af512e024a3aa98dd727382b357c",
       "version_major": 2,
       "version_minor": 0
      },
      "text/plain": [
       "HBox(children=(FloatProgress(value=0.0, max=1052.0), HTML(value='')))"
      ]
     },
     "metadata": {},
     "output_type": "display_data"
    },
    {
     "name": "stdout",
     "output_type": "stream",
     "text": [
      "Gradient overflow.  Skipping step, loss scaler 0 reducing loss scale to 16384.0\n",
      "\n"
     ]
    },
    {
     "data": {
      "application/vnd.jupyter.widget-view+json": {
       "model_id": "11ce154de2d14a81bd1c18c47d9c396d",
       "version_major": 2,
       "version_minor": 0
      },
      "text/plain": [
       "HBox(children=(FloatProgress(value=0.0, max=263.0), HTML(value='')))"
      ]
     },
     "metadata": {},
     "output_type": "display_data"
    },
    {
     "name": "stdout",
     "output_type": "stream",
     "text": [
      "\n",
      "QWK 0.8246489731062813 QWK_k 0.8237449102916112 QWK_r 0.7739262186015031\n",
      "Sat Jul 18 14:32:17 2020 epoch 4, lr: 0.00029158, train loss: 0.2742, val loss: 0.2686, acc: 61.2, QWK: 0.8246\n",
      "QWK improved 0.807951 --> 0.824649 model saved\n",
      "Sat Jul 18 14:32:17 2020 epoch: 5\n"
     ]
    },
    {
     "data": {
      "application/vnd.jupyter.widget-view+json": {
       "model_id": "6d02685b0eda41c1aca3ddb872475216",
       "version_major": 2,
       "version_minor": 0
      },
      "text/plain": [
       "HBox(children=(FloatProgress(value=0.0, max=1052.0), HTML(value='')))"
      ]
     },
     "metadata": {},
     "output_type": "display_data"
    },
    {
     "name": "stdout",
     "output_type": "stream",
     "text": [
      "\n"
     ]
    },
    {
     "data": {
      "application/vnd.jupyter.widget-view+json": {
       "model_id": "7e8229c7c3684fd79fa3c2d9ff8ca54e",
       "version_major": 2,
       "version_minor": 0
      },
      "text/plain": [
       "HBox(children=(FloatProgress(value=0.0, max=263.0), HTML(value='')))"
      ]
     },
     "metadata": {},
     "output_type": "display_data"
    },
    {
     "name": "stdout",
     "output_type": "stream",
     "text": [
      "\n",
      "QWK 0.8371216395365623 QWK_k 0.8478302177054002 QWK_r 0.7873173620860756\n",
      "Sat Jul 18 14:46:24 2020 epoch 5, lr: 0.00028515, train loss: 0.2615, val loss: 0.2762, acc: 58.3, QWK: 0.8371\n",
      "QWK improved 0.824649 --> 0.837122 model saved\n",
      "Sat Jul 18 14:46:24 2020 epoch: 6\n"
     ]
    },
    {
     "data": {
      "application/vnd.jupyter.widget-view+json": {
       "model_id": "0f330c9a61cd4e4caf29b385763bc815",
       "version_major": 2,
       "version_minor": 0
      },
      "text/plain": [
       "HBox(children=(FloatProgress(value=0.0, max=1052.0), HTML(value='')))"
      ]
     },
     "metadata": {},
     "output_type": "display_data"
    },
    {
     "name": "stdout",
     "output_type": "stream",
     "text": [
      "Gradient overflow.  Skipping step, loss scaler 0 reducing loss scale to 16384.0\n",
      "\n"
     ]
    },
    {
     "data": {
      "application/vnd.jupyter.widget-view+json": {
       "model_id": "1f133e4c070d4e1281c48cfed6c04f87",
       "version_major": 2,
       "version_minor": 0
      },
      "text/plain": [
       "HBox(children=(FloatProgress(value=0.0, max=263.0), HTML(value='')))"
      ]
     },
     "metadata": {},
     "output_type": "display_data"
    },
    {
     "name": "stdout",
     "output_type": "stream",
     "text": [
      "\n",
      "QWK 0.8523957270336716 QWK_k 0.8512726181187258 QWK_r 0.8090063881442026\n",
      "Sat Jul 18 15:00:31 2020 epoch 6, lr: 0.00027701, train loss: 0.2465, val loss: 0.2260, acc: 61.2, QWK: 0.8524\n",
      "QWK improved 0.837122 --> 0.852396 model saved\n",
      "Sat Jul 18 15:00:31 2020 epoch: 7\n"
     ]
    },
    {
     "data": {
      "application/vnd.jupyter.widget-view+json": {
       "model_id": "f4fd73dbf6c642e2acef1ad4895ec45e",
       "version_major": 2,
       "version_minor": 0
      },
      "text/plain": [
       "HBox(children=(FloatProgress(value=0.0, max=1052.0), HTML(value='')))"
      ]
     },
     "metadata": {},
     "output_type": "display_data"
    },
    {
     "name": "stdout",
     "output_type": "stream",
     "text": [
      "Gradient overflow.  Skipping step, loss scaler 0 reducing loss scale to 8192.0\n",
      "\n"
     ]
    },
    {
     "data": {
      "application/vnd.jupyter.widget-view+json": {
       "model_id": "8009c9b07e264a4c95e1a440892d297c",
       "version_major": 2,
       "version_minor": 0
      },
      "text/plain": [
       "HBox(children=(FloatProgress(value=0.0, max=263.0), HTML(value='')))"
      ]
     },
     "metadata": {},
     "output_type": "display_data"
    },
    {
     "name": "stdout",
     "output_type": "stream",
     "text": [
      "\n",
      "QWK 0.8386956651237525 QWK_k 0.8413245239436152 QWK_r 0.7935647497469833\n",
      "Sat Jul 18 15:14:38 2020 epoch 7, lr: 0.00026728, train loss: 0.2330, val loss: 0.2334, acc: 62.7, QWK: 0.8387\n",
      "Sat Jul 18 15:14:38 2020 epoch: 8\n"
     ]
    },
    {
     "data": {
      "application/vnd.jupyter.widget-view+json": {
       "model_id": "7e3f12baebda407c87327217760ed7c4",
       "version_major": 2,
       "version_minor": 0
      },
      "text/plain": [
       "HBox(children=(FloatProgress(value=0.0, max=1052.0), HTML(value='')))"
      ]
     },
     "metadata": {},
     "output_type": "display_data"
    },
    {
     "name": "stdout",
     "output_type": "stream",
     "text": [
      "\n"
     ]
    },
    {
     "data": {
      "application/vnd.jupyter.widget-view+json": {
       "model_id": "78e76a1fbb2d42cab31df76a5d818f2f",
       "version_major": 2,
       "version_minor": 0
      },
      "text/plain": [
       "HBox(children=(FloatProgress(value=0.0, max=263.0), HTML(value='')))"
      ]
     },
     "metadata": {},
     "output_type": "display_data"
    },
    {
     "name": "stdout",
     "output_type": "stream",
     "text": [
      "\n",
      "QWK 0.8479237884714009 QWK_k 0.8590012500091853 QWK_r 0.8029835436289552\n",
      "Sat Jul 18 15:28:44 2020 epoch 8, lr: 0.00025607, train loss: 0.2265, val loss: 0.2371, acc: 63.0, QWK: 0.8479\n",
      "Sat Jul 18 15:28:44 2020 epoch: 9\n"
     ]
    },
    {
     "data": {
      "application/vnd.jupyter.widget-view+json": {
       "model_id": "2afbaeabaaf14586b555f263586a7788",
       "version_major": 2,
       "version_minor": 0
      },
      "text/plain": [
       "HBox(children=(FloatProgress(value=0.0, max=1052.0), HTML(value='')))"
      ]
     },
     "metadata": {},
     "output_type": "display_data"
    },
    {
     "name": "stdout",
     "output_type": "stream",
     "text": [
      "\n"
     ]
    },
    {
     "data": {
      "application/vnd.jupyter.widget-view+json": {
       "model_id": "f7015ce9b4d740558042fa1f620a327e",
       "version_major": 2,
       "version_minor": 0
      },
      "text/plain": [
       "HBox(children=(FloatProgress(value=0.0, max=263.0), HTML(value='')))"
      ]
     },
     "metadata": {},
     "output_type": "display_data"
    },
    {
     "name": "stdout",
     "output_type": "stream",
     "text": [
      "\n",
      "QWK 0.8538324730222997 QWK_k 0.8673262330723902 QWK_r 0.8042010041199452\n",
      "Sat Jul 18 15:42:52 2020 epoch 9, lr: 0.00024353, train loss: 0.2181, val loss: 0.2216, acc: 61.3, QWK: 0.8538\n",
      "QWK improved 0.852396 --> 0.853832 model saved\n",
      "Sat Jul 18 15:42:52 2020 epoch: 10\n"
     ]
    },
    {
     "data": {
      "application/vnd.jupyter.widget-view+json": {
       "model_id": "bc6f0013d8694954be48e4316265bc26",
       "version_major": 2,
       "version_minor": 0
      },
      "text/plain": [
       "HBox(children=(FloatProgress(value=0.0, max=1052.0), HTML(value='')))"
      ]
     },
     "metadata": {},
     "output_type": "display_data"
    },
    {
     "name": "stdout",
     "output_type": "stream",
     "text": [
      "Gradient overflow.  Skipping step, loss scaler 0 reducing loss scale to 8192.0\n",
      "\n"
     ]
    },
    {
     "data": {
      "application/vnd.jupyter.widget-view+json": {
       "model_id": "27e9c41dae1b417885bac55c5e6c2edb",
       "version_major": 2,
       "version_minor": 0
      },
      "text/plain": [
       "HBox(children=(FloatProgress(value=0.0, max=263.0), HTML(value='')))"
      ]
     },
     "metadata": {},
     "output_type": "display_data"
    },
    {
     "name": "stdout",
     "output_type": "stream",
     "text": [
      "\n",
      "QWK 0.8242871597116076 QWK_k 0.8260445849457677 QWK_r 0.7791291848724244\n",
      "Sat Jul 18 15:56:58 2020 epoch 10, lr: 0.00022981, train loss: 0.2100, val loss: 0.2679, acc: 63.5, QWK: 0.8243\n",
      "Sat Jul 18 15:56:58 2020 epoch: 11\n"
     ]
    },
    {
     "data": {
      "application/vnd.jupyter.widget-view+json": {
       "model_id": "0d9ce97f8d314fe58cb3a359b12ee023",
       "version_major": 2,
       "version_minor": 0
      },
      "text/plain": [
       "HBox(children=(FloatProgress(value=0.0, max=1052.0), HTML(value='')))"
      ]
     },
     "metadata": {},
     "output_type": "display_data"
    },
    {
     "name": "stdout",
     "output_type": "stream",
     "text": [
      "\n"
     ]
    },
    {
     "data": {
      "application/vnd.jupyter.widget-view+json": {
       "model_id": "179be8243c754aa6a013f88bc6315747",
       "version_major": 2,
       "version_minor": 0
      },
      "text/plain": [
       "HBox(children=(FloatProgress(value=0.0, max=263.0), HTML(value='')))"
      ]
     },
     "metadata": {},
     "output_type": "display_data"
    },
    {
     "name": "stdout",
     "output_type": "stream",
     "text": [
      "\n",
      "QWK 0.8562454410707286 QWK_k 0.8652453961547929 QWK_r 0.8122919585509866\n",
      "Sat Jul 18 16:11:04 2020 epoch 11, lr: 0.00021509, train loss: 0.2039, val loss: 0.2347, acc: 65.7, QWK: 0.8562\n",
      "QWK improved 0.853832 --> 0.856245 model saved\n",
      "Sat Jul 18 16:11:04 2020 epoch: 12\n"
     ]
    },
    {
     "data": {
      "application/vnd.jupyter.widget-view+json": {
       "model_id": "9842bd6a1e3d4322a38ab7fabc136ac2",
       "version_major": 2,
       "version_minor": 0
      },
      "text/plain": [
       "HBox(children=(FloatProgress(value=0.0, max=1052.0), HTML(value='')))"
      ]
     },
     "metadata": {},
     "output_type": "display_data"
    },
    {
     "name": "stdout",
     "output_type": "stream",
     "text": [
      "\n"
     ]
    },
    {
     "data": {
      "application/vnd.jupyter.widget-view+json": {
       "model_id": "652f9e81d2eb433992b121c401557b7a",
       "version_major": 2,
       "version_minor": 0
      },
      "text/plain": [
       "HBox(children=(FloatProgress(value=0.0, max=263.0), HTML(value='')))"
      ]
     },
     "metadata": {},
     "output_type": "display_data"
    },
    {
     "name": "stdout",
     "output_type": "stream",
     "text": [
      "\n",
      "QWK 0.8480572090297616 QWK_k 0.8490394044445673 QWK_r 0.8088205083809448\n",
      "Sat Jul 18 16:25:11 2020 epoch 12, lr: 0.00019955, train loss: 0.1965, val loss: 0.2292, acc: 65.7, QWK: 0.8481\n",
      "Sat Jul 18 16:25:11 2020 epoch: 13\n"
     ]
    },
    {
     "data": {
      "application/vnd.jupyter.widget-view+json": {
       "model_id": "a7176f62793f40ebbfb1142f10b62dbb",
       "version_major": 2,
       "version_minor": 0
      },
      "text/plain": [
       "HBox(children=(FloatProgress(value=0.0, max=1052.0), HTML(value='')))"
      ]
     },
     "metadata": {},
     "output_type": "display_data"
    },
    {
     "name": "stdout",
     "output_type": "stream",
     "text": [
      "Gradient overflow.  Skipping step, loss scaler 0 reducing loss scale to 8192.0\n",
      "\n"
     ]
    },
    {
     "data": {
      "application/vnd.jupyter.widget-view+json": {
       "model_id": "06f06992a4294b4abfc306342e280989",
       "version_major": 2,
       "version_minor": 0
      },
      "text/plain": [
       "HBox(children=(FloatProgress(value=0.0, max=263.0), HTML(value='')))"
      ]
     },
     "metadata": {},
     "output_type": "display_data"
    },
    {
     "name": "stdout",
     "output_type": "stream",
     "text": [
      "\n",
      "QWK 0.8533862574485885 QWK_k 0.8767853379332008 QWK_r 0.8048548480779483\n",
      "Sat Jul 18 16:39:18 2020 epoch 13, lr: 0.00018338, train loss: 0.1857, val loss: 0.2409, acc: 66.0, QWK: 0.8534\n",
      "Sat Jul 18 16:39:18 2020 epoch: 14\n"
     ]
    },
    {
     "data": {
      "application/vnd.jupyter.widget-view+json": {
       "model_id": "8ca36f188c75476fbcd9fb47169378dc",
       "version_major": 2,
       "version_minor": 0
      },
      "text/plain": [
       "HBox(children=(FloatProgress(value=0.0, max=1052.0), HTML(value='')))"
      ]
     },
     "metadata": {},
     "output_type": "display_data"
    }
   ],
   "source": [
    "pred, target = [], []\n",
    "if DEBUG:\n",
    "    n_folds_train = 2\n",
    "else:\n",
    "    n_folds_train = M_PARAMS['N_FOLDS']\n",
    "start_folds_train = 0\n",
    "for fold_num in range(start_folds_train, n_folds_train):\n",
    "    print('-' * 20, 'fold:', fold_num, '-' * 20)\n",
    "    train_idx = np.where((df_train['fold'] != fold_num))[0]\n",
    "    valid_idx = np.where((df_train['fold'] == fold_num))[0]\n",
    "    df_this  = df_train.loc[train_idx]\n",
    "    df_valid = df_train.loc[valid_idx]\n",
    "    dataset_train = PANDADataset(\n",
    "        df_this, \n",
    "        M_PARAMS['TILE_SIZE'], \n",
    "        M_PARAMS['N_TILES'], \n",
    "        transform=transforms_train,\n",
    "        transform_tile=transforms_train_tile,\n",
    "        rand=M_PARAMS['RAND']\n",
    "    )\n",
    "    dataset_valid = PANDADataset(\n",
    "        df_valid, \n",
    "        M_PARAMS['TILE_SIZE'], \n",
    "        M_PARAMS['N_TILES']\n",
    "    )\n",
    "    train_loader = torch.utils.data.DataLoader(\n",
    "        dataset_train, \n",
    "        batch_size=M_PARAMS['BATCH_SIZE'], \n",
    "        sampler=RandomSampler(dataset_train), \n",
    "        num_workers=M_PARAMS['N_WORKERS']\n",
    "    )\n",
    "    valid_loader = torch.utils.data.DataLoader(\n",
    "        dataset_valid, \n",
    "        batch_size=M_PARAMS['BATCH_SIZE'], \n",
    "        sampler=SequentialSampler(dataset_valid), \n",
    "        num_workers=M_PARAMS['N_WORKERS']\n",
    "    )\n",
    "    model = EffNet_(M_PARAMS['ENET_TYPE'], out_dim=M_PARAMS['OUT_DIM']) \n",
    "    #model = ResNext(out_dim=M_PARAMS['OUT_DIM'])\n",
    "    model = model.to(DEVICE)\n",
    "    optimizer = optim.Adam(model.parameters(), lr=M_PARAMS['LR'])\n",
    "    model, optimizer = amp.initialize(model, optimizer, opt_level='O1')\n",
    "    if M_PARAMS['WARMUP']:\n",
    "        scheduler = torch.optim.lr_scheduler.OneCycleLR(\n",
    "            optimizer, \n",
    "            max_lr=M_PARAMS['LR'], \n",
    "            total_steps=M_PARAMS['N_EPOCHS'],\n",
    "            div_factor=(M_PARAMS['LR'] / 1e-5), \n",
    "            final_div_factor=1000,\n",
    "            pct_start=(2 / M_PARAMS['N_EPOCHS']),\n",
    "        )\n",
    "    else:\n",
    "        scheduler = torch.optim.lr_scheduler.CosineAnnealingLR(optimizer, M_PARAMS['N_EPOCHS'])\n",
    "    print('train len:', len(dataset_train),'| val len:', len(dataset_valid))\n",
    "    qwk_max = 0\n",
    "    best_file = '{}/{}_best_fold{}.pth'.format(MODELS_PATH, M_PARAMS['ENET_TYPE'], fold_num)\n",
    "    for epoch in tqdm(range(M_PARAMS['N_EPOCHS']), desc='epochs'):\n",
    "        print(time.ctime(), 'epoch:', epoch)\n",
    "        train_loss = train_epoch(train_loader, optimizer)\n",
    "        val_loss, acc, qwk = val_epoch(valid_loader)\n",
    "        scheduler.step(epoch)\n",
    "        content = '{} epoch {}, lr: {:.8f}, train loss: {:.4f}, val loss: {:.4f}, acc: {:.1f}, QWK: {:.4f}'.format(\n",
    "                time.ctime(),\n",
    "                epoch, \n",
    "                optimizer.param_groups[0]['lr'], \n",
    "                np.mean(train_loss),\n",
    "                np.mean(val_loss),\n",
    "                acc,\n",
    "                qwk\n",
    "            )\n",
    "        print(content)\n",
    "        with open('{}/log_{}_fold{}.txt'.format(MODELS_PATH, M_PARAMS['ENET_TYPE'], fold_num), 'a') as appender:\n",
    "            appender.write(content + '\\n')\n",
    "        if qwk > qwk_max:\n",
    "            torch.save(model.state_dict(), best_file)\n",
    "            print('QWK improved {:.6f} --> {:.6f} model saved'.format(qwk_max, qwk))\n",
    "            qwk_max = qwk\n",
    "    with open('{}/log_{}_folds_all.txt'.format(MODELS_PATH, M_PARAMS['ENET_TYPE']), 'a') as appender:\n",
    "        appender.write('{} | fold: {} | max QWK: {:.6f}\\n'.format(M_PARAMS, fold_num, qwk_max))\n",
    "    torch.save(\n",
    "        model.state_dict(), \n",
    "        os.path.join('{}/{}_final_fold{}.pth'.format(MODELS_PATH, M_PARAMS['ENET_TYPE'], fold_num))\n",
    "    )\n",
    "    del model, dataset_train, dataset_valid, train_loader, valid_loader\n",
    "    torch.cuda.empty_cache()\n",
    "    gc.collect()"
   ]
  },
  {
   "cell_type": "code",
   "execution_count": null,
   "metadata": {},
   "outputs": [],
   "source": []
  },
  {
   "cell_type": "code",
   "execution_count": null,
   "metadata": {},
   "outputs": [],
   "source": []
  }
 ],
 "metadata": {
  "kernelspec": {
   "display_name": "Orange Python 3 (2 GPUs)",
   "language": "python",
   "name": "orange2gpu"
  },
  "language_info": {
   "codemirror_mode": {
    "name": "ipython",
    "version": 3
   },
   "file_extension": ".py",
   "mimetype": "text/x-python",
   "name": "python",
   "nbconvert_exporter": "python",
   "pygments_lexer": "ipython3",
   "version": "3.7.6"
  }
 },
 "nbformat": 4,
 "nbformat_minor": 4
}
