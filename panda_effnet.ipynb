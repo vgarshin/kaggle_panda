{
 "cells": [
  {
   "cell_type": "code",
   "execution_count": 1,
   "metadata": {},
   "outputs": [
    {
     "name": "stdout",
     "output_type": "stream",
     "text": [
      "0 Graphics Device\n",
      "  allocated: 0.0 GB\n",
      "  cached:    0.0 GB\n",
      "1 Graphics Device\n",
      "  allocated: 0.0 GB\n",
      "  cached:    0.0 GB\n"
     ]
    }
   ],
   "source": [
    "import os\n",
    "import gc\n",
    "import sys\n",
    "import time\n",
    "import numpy as np\n",
    "import pandas as pd\n",
    "import cv2\n",
    "import PIL.Image\n",
    "import torch\n",
    "import torch.nn as nn\n",
    "import torch.nn.functional as F\n",
    "import torch.optim as optim\n",
    "from apex import amp\n",
    "import torchvision\n",
    "from torch.optim import lr_scheduler\n",
    "from torch.utils.data import DataLoader, Dataset\n",
    "from torch.utils.data.sampler import SubsetRandomSampler, RandomSampler, SequentialSampler\n",
    "from warmup_scheduler import GradualWarmupScheduler\n",
    "from efficientnet_pytorch import model as enet\n",
    "import albumentations\n",
    "from sklearn.model_selection import StratifiedKFold\n",
    "import matplotlib.pyplot as plt\n",
    "from sklearn.metrics import cohen_kappa_score\n",
    "from tqdm.notebook import tqdm\n",
    "DEVICE = torch.device('cuda')\n",
    "for i in range(torch.cuda.device_count()):\n",
    "    print(i, torch.cuda.get_device_name(i))\n",
    "    print('  allocated:', round(torch.cuda.memory_allocated(i) / 1024 ** 3, 1), 'GB')\n",
    "    print('  cached:   ', round(torch.cuda.memory_cached(i) / 1024 ** 3, 1), 'GB')"
   ]
  },
  {
   "cell_type": "code",
   "execution_count": 2,
   "metadata": {},
   "outputs": [
    {
     "name": "stdout",
     "output_type": "stream",
     "text": [
      "{'MODEL_VER': 'v3', 'TILES_DIR': './data/train_images_tiles_q1_256_36/', 'ENET_TYPE': 'efficientnet-b0', 'N_FOLDS': 4, 'TILE_SIZE': 256, 'IMAGE_SIZE': 256, 'N_TILES': 36, 'BATCH_SIZE': 6, 'N_WORKERS': 8, 'OUT_DIM': 5, 'LR': 0.0003, 'N_EPOCHS': 30}\n"
     ]
    }
   ],
   "source": [
    "MAIN_PATH = '.'\n",
    "DATA_PATH = '{}/data'.format(MAIN_PATH)\n",
    "LABELS_PATH = '{}/train.csv'.format(DATA_PATH)\n",
    "DEBUG = False\n",
    "APEX = True\n",
    "M_PARAMS = {\n",
    "    'MODEL_VER': 'v3',\n",
    "    'TILES_DIR': '{}/train_images_tiles_q1_256_36/'.format(DATA_PATH),\n",
    "    'ENET_TYPE': 'efficientnet-b0',\n",
    "    'N_FOLDS': 4,\n",
    "    'TILE_SIZE': 256,\n",
    "    'IMAGE_SIZE': 256,\n",
    "    'N_TILES': 36,\n",
    "    'BATCH_SIZE': 6,\n",
    "    'N_WORKERS': 8,\n",
    "    'OUT_DIM': 5,\n",
    "    'LR': 3e-4,\n",
    "    'N_EPOCHS': 5 if DEBUG else 30\n",
    "}\n",
    "print(M_PARAMS)\n",
    "MODELS_PATH = '{}/effnet_models_{}'.format(MAIN_PATH, M_PARAMS['MODEL_VER'])\n",
    "if not os.path.exists(MODELS_PATH):\n",
    "    os.mkdir(MODELS_PATH)\n",
    "    print('created:', MODELS_PATH)\n",
    "PRETRAINED_MODEL = {\n",
    "    'efficientnet-b0': './bbs/efficientnet-b0-355c32eb.pth',\n",
    "    'efficientnet-b1': './bbs/efficientnet-b1-f1951068.pth',\n",
    "    'efficientnet-b2': './bbs/efficientnet-b2-8bb594d6.pth',\n",
    "}\n",
    "# v0: q1_256_36 folds 4 n_tiles 25 bs 6 no fmap effnet_b1 --> .86 LB"
   ]
  },
  {
   "cell_type": "code",
   "execution_count": 3,
   "metadata": {},
   "outputs": [
    {
     "data": {
      "text/html": [
       "<div>\n",
       "<style scoped>\n",
       "    .dataframe tbody tr th:only-of-type {\n",
       "        vertical-align: middle;\n",
       "    }\n",
       "\n",
       "    .dataframe tbody tr th {\n",
       "        vertical-align: top;\n",
       "    }\n",
       "\n",
       "    .dataframe thead th {\n",
       "        text-align: right;\n",
       "    }\n",
       "</style>\n",
       "<table border=\"1\" class=\"dataframe\">\n",
       "  <thead>\n",
       "    <tr style=\"text-align: right;\">\n",
       "      <th></th>\n",
       "      <th>Unnamed: 0</th>\n",
       "      <th>image_id</th>\n",
       "      <th>data_provider</th>\n",
       "      <th>isup_grade</th>\n",
       "      <th>gleason_score</th>\n",
       "    </tr>\n",
       "  </thead>\n",
       "  <tbody>\n",
       "    <tr>\n",
       "      <th>0</th>\n",
       "      <td>0</td>\n",
       "      <td>0005f7aaab2800f6170c399693a96917</td>\n",
       "      <td>karolinska</td>\n",
       "      <td>0</td>\n",
       "      <td>0+0</td>\n",
       "    </tr>\n",
       "    <tr>\n",
       "      <th>1</th>\n",
       "      <td>1</td>\n",
       "      <td>000920ad0b612851f8e01bcc880d9b3d</td>\n",
       "      <td>karolinska</td>\n",
       "      <td>0</td>\n",
       "      <td>0+0</td>\n",
       "    </tr>\n",
       "    <tr>\n",
       "      <th>2</th>\n",
       "      <td>2</td>\n",
       "      <td>0018ae58b01bdadc8e347995b69f99aa</td>\n",
       "      <td>radboud</td>\n",
       "      <td>4</td>\n",
       "      <td>4+4</td>\n",
       "    </tr>\n",
       "    <tr>\n",
       "      <th>3</th>\n",
       "      <td>3</td>\n",
       "      <td>001c62abd11fa4b57bf7a6c603a11bb9</td>\n",
       "      <td>karolinska</td>\n",
       "      <td>4</td>\n",
       "      <td>4+4</td>\n",
       "    </tr>\n",
       "    <tr>\n",
       "      <th>4</th>\n",
       "      <td>4</td>\n",
       "      <td>001d865e65ef5d2579c190a0e0350d8f</td>\n",
       "      <td>karolinska</td>\n",
       "      <td>0</td>\n",
       "      <td>0+0</td>\n",
       "    </tr>\n",
       "  </tbody>\n",
       "</table>\n",
       "</div>"
      ],
      "text/plain": [
       "   Unnamed: 0                          image_id data_provider  isup_grade  \\\n",
       "0           0  0005f7aaab2800f6170c399693a96917    karolinska           0   \n",
       "1           1  000920ad0b612851f8e01bcc880d9b3d    karolinska           0   \n",
       "2           2  0018ae58b01bdadc8e347995b69f99aa       radboud           4   \n",
       "3           3  001c62abd11fa4b57bf7a6c603a11bb9    karolinska           4   \n",
       "4           4  001d865e65ef5d2579c190a0e0350d8f    karolinska           0   \n",
       "\n",
       "  gleason_score  \n",
       "0           0+0  \n",
       "1           0+0  \n",
       "2           4+4  \n",
       "3           4+4  \n",
       "4           0+0  "
      ]
     },
     "execution_count": 3,
     "metadata": {},
     "output_type": "execute_result"
    }
   ],
   "source": [
    "if DEBUG:\n",
    "    df_train = pd.read_csv(os.path.join(DATA_PATH, 'train_dsph.csv')).sample(100).reset_index(drop=True)\n",
    "else:\n",
    "    df_train = pd.read_csv(os.path.join(DATA_PATH, 'train_dsph.csv'))\n",
    "df_train.head()"
   ]
  },
  {
   "cell_type": "code",
   "execution_count": 4,
   "metadata": {},
   "outputs": [
    {
     "data": {
      "text/html": [
       "<div>\n",
       "<style scoped>\n",
       "    .dataframe tbody tr th:only-of-type {\n",
       "        vertical-align: middle;\n",
       "    }\n",
       "\n",
       "    .dataframe tbody tr th {\n",
       "        vertical-align: top;\n",
       "    }\n",
       "\n",
       "    .dataframe thead th {\n",
       "        text-align: right;\n",
       "    }\n",
       "</style>\n",
       "<table border=\"1\" class=\"dataframe\">\n",
       "  <thead>\n",
       "    <tr style=\"text-align: right;\">\n",
       "      <th></th>\n",
       "      <th>Unnamed: 0</th>\n",
       "      <th>image_id</th>\n",
       "      <th>data_provider</th>\n",
       "      <th>isup_grade</th>\n",
       "      <th>gleason_score</th>\n",
       "      <th>fold</th>\n",
       "    </tr>\n",
       "  </thead>\n",
       "  <tbody>\n",
       "    <tr>\n",
       "      <th>0</th>\n",
       "      <td>0</td>\n",
       "      <td>0005f7aaab2800f6170c399693a96917</td>\n",
       "      <td>karolinska</td>\n",
       "      <td>0</td>\n",
       "      <td>0+0</td>\n",
       "      <td>1</td>\n",
       "    </tr>\n",
       "    <tr>\n",
       "      <th>1</th>\n",
       "      <td>1</td>\n",
       "      <td>000920ad0b612851f8e01bcc880d9b3d</td>\n",
       "      <td>karolinska</td>\n",
       "      <td>0</td>\n",
       "      <td>0+0</td>\n",
       "      <td>2</td>\n",
       "    </tr>\n",
       "    <tr>\n",
       "      <th>2</th>\n",
       "      <td>2</td>\n",
       "      <td>0018ae58b01bdadc8e347995b69f99aa</td>\n",
       "      <td>radboud</td>\n",
       "      <td>4</td>\n",
       "      <td>4+4</td>\n",
       "      <td>0</td>\n",
       "    </tr>\n",
       "    <tr>\n",
       "      <th>3</th>\n",
       "      <td>3</td>\n",
       "      <td>001c62abd11fa4b57bf7a6c603a11bb9</td>\n",
       "      <td>karolinska</td>\n",
       "      <td>4</td>\n",
       "      <td>4+4</td>\n",
       "      <td>3</td>\n",
       "    </tr>\n",
       "    <tr>\n",
       "      <th>4</th>\n",
       "      <td>4</td>\n",
       "      <td>001d865e65ef5d2579c190a0e0350d8f</td>\n",
       "      <td>karolinska</td>\n",
       "      <td>0</td>\n",
       "      <td>0+0</td>\n",
       "      <td>2</td>\n",
       "    </tr>\n",
       "  </tbody>\n",
       "</table>\n",
       "</div>"
      ],
      "text/plain": [
       "   Unnamed: 0                          image_id data_provider  isup_grade  \\\n",
       "0           0  0005f7aaab2800f6170c399693a96917    karolinska           0   \n",
       "1           1  000920ad0b612851f8e01bcc880d9b3d    karolinska           0   \n",
       "2           2  0018ae58b01bdadc8e347995b69f99aa       radboud           4   \n",
       "3           3  001c62abd11fa4b57bf7a6c603a11bb9    karolinska           4   \n",
       "4           4  001d865e65ef5d2579c190a0e0350d8f    karolinska           0   \n",
       "\n",
       "  gleason_score  fold  \n",
       "0           0+0     1  \n",
       "1           0+0     2  \n",
       "2           4+4     0  \n",
       "3           4+4     3  \n",
       "4           0+0     2  "
      ]
     },
     "execution_count": 4,
     "metadata": {},
     "output_type": "execute_result"
    }
   ],
   "source": [
    "skf = StratifiedKFold(M_PARAMS['N_FOLDS'], shuffle=True, random_state=80)\n",
    "df_train['fold'] = -1\n",
    "for i, (train_idx, valid_idx) in enumerate(skf.split(df_train, df_train['isup_grade'])):\n",
    "    df_train.loc[valid_idx, 'fold'] = i\n",
    "df_train.head()"
   ]
  },
  {
   "cell_type": "code",
   "execution_count": 5,
   "metadata": {},
   "outputs": [],
   "source": [
    "class EffNet(nn.Module):\n",
    "    def __init__(self, backbone, out_dim):\n",
    "        super(EffNet, self).__init__()\n",
    "        self.enet = enet.EfficientNet.from_name(backbone)\n",
    "        self.enet.load_state_dict(torch.load(PRETRAINED_MODEL[backbone]))\n",
    "        #self.enet = enet.EfficientNet.from_pretrained(backbone)\n",
    "        nc = self.enet._fc.in_features\n",
    "        self.myfc = nn.Linear(nc, out_dim)\n",
    "        self.enet._fc = nn.Identity()\n",
    "        self.enet = nn.DataParallel(self.enet)\n",
    "    def forward(self, x):\n",
    "        x = self.enet(x)\n",
    "        x = self.myfc(x)\n",
    "        return x\n",
    "class EffNet_(nn.Module):\n",
    "    def __init__(self, backbone, out_dim):\n",
    "        super(EffNet_, self).__init__()\n",
    "        self.enet = enet.EfficientNet.from_name(backbone)\n",
    "        self.enet.load_state_dict(torch.load(PRETRAINED_MODEL[backbone]))\n",
    "        nc = self.enet._fc.in_features\n",
    "        self.enet._fc = nn.Identity()\n",
    "        self.enet = nn.DataParallel(self.enet)\n",
    "        self.myfc = nn.DataParallel(nn.Sequential(\n",
    "            nn.Linear(nc, int(nc / 4)),\n",
    "            nn.ReLU(),\n",
    "            #nn.BatchNorm1d(int(nc / 2)), \n",
    "            nn.Dropout(.2),\n",
    "            nn.Linear(int(nc / 4), out_dim)\n",
    "        ))\n",
    "    def extract(self, x):\n",
    "        return self.enet(x)\n",
    "    def forward(self, x):\n",
    "        x = self.extract(x)\n",
    "        x = self.myfc(x)\n",
    "        return x\n",
    "class ResNext(nn.Module):\n",
    "    def __init__(self, out_dim):\n",
    "        super(ResNext, self).__init__()\n",
    "        self.rsnxt = torchvision.models.resnext50_32x4d(pretrained=True)\n",
    "        nc = self.rsnxt.fc.in_features\n",
    "        self.rsnxt.fc = nn.Sequential(\n",
    "            Flatten(),\n",
    "            nn.Linear(nc, int(nc / 2)),\n",
    "            nn.ReLU(),\n",
    "            nn.BatchNorm1d(int(nc / 2)), \n",
    "            nn.Dropout(.4),\n",
    "            nn.Linear(int(nc / 2), out_dim)\n",
    "        )\n",
    "        self.rsnxt = nn.DataParallel(self.rsnxt)\n",
    "    def forward(self, x):\n",
    "        x = self.rsnxt(x)\n",
    "        return x"
   ]
  },
  {
   "cell_type": "code",
   "execution_count": 6,
   "metadata": {},
   "outputs": [
    {
     "data": {
      "text/plain": [
       "<bound method Module.children of EffNet_(\n",
       "  (enet): DataParallel(\n",
       "    (module): EfficientNet(\n",
       "      (_conv_stem): Conv2dStaticSamePadding(\n",
       "        3, 32, kernel_size=(3, 3), stride=(2, 2), bias=False\n",
       "        (static_padding): ZeroPad2d(padding=(0, 1, 0, 1), value=0.0)\n",
       "      )\n",
       "      (_bn0): BatchNorm2d(32, eps=0.001, momentum=0.010000000000000009, affine=True, track_running_stats=True)\n",
       "      (_blocks): ModuleList(\n",
       "        (0): MBConvBlock(\n",
       "          (_depthwise_conv): Conv2dStaticSamePadding(\n",
       "            32, 32, kernel_size=(3, 3), stride=[1, 1], groups=32, bias=False\n",
       "            (static_padding): ZeroPad2d(padding=(1, 1, 1, 1), value=0.0)\n",
       "          )\n",
       "          (_bn1): BatchNorm2d(32, eps=0.001, momentum=0.010000000000000009, affine=True, track_running_stats=True)\n",
       "          (_se_reduce): Conv2dStaticSamePadding(\n",
       "            32, 8, kernel_size=(1, 1), stride=(1, 1)\n",
       "            (static_padding): Identity()\n",
       "          )\n",
       "          (_se_expand): Conv2dStaticSamePadding(\n",
       "            8, 32, kernel_size=(1, 1), stride=(1, 1)\n",
       "            (static_padding): Identity()\n",
       "          )\n",
       "          (_project_conv): Conv2dStaticSamePadding(\n",
       "            32, 16, kernel_size=(1, 1), stride=(1, 1), bias=False\n",
       "            (static_padding): Identity()\n",
       "          )\n",
       "          (_bn2): BatchNorm2d(16, eps=0.001, momentum=0.010000000000000009, affine=True, track_running_stats=True)\n",
       "          (_swish): MemoryEfficientSwish()\n",
       "        )\n",
       "        (1): MBConvBlock(\n",
       "          (_expand_conv): Conv2dStaticSamePadding(\n",
       "            16, 96, kernel_size=(1, 1), stride=(1, 1), bias=False\n",
       "            (static_padding): Identity()\n",
       "          )\n",
       "          (_bn0): BatchNorm2d(96, eps=0.001, momentum=0.010000000000000009, affine=True, track_running_stats=True)\n",
       "          (_depthwise_conv): Conv2dStaticSamePadding(\n",
       "            96, 96, kernel_size=(3, 3), stride=[2, 2], groups=96, bias=False\n",
       "            (static_padding): ZeroPad2d(padding=(0, 1, 0, 1), value=0.0)\n",
       "          )\n",
       "          (_bn1): BatchNorm2d(96, eps=0.001, momentum=0.010000000000000009, affine=True, track_running_stats=True)\n",
       "          (_se_reduce): Conv2dStaticSamePadding(\n",
       "            96, 4, kernel_size=(1, 1), stride=(1, 1)\n",
       "            (static_padding): Identity()\n",
       "          )\n",
       "          (_se_expand): Conv2dStaticSamePadding(\n",
       "            4, 96, kernel_size=(1, 1), stride=(1, 1)\n",
       "            (static_padding): Identity()\n",
       "          )\n",
       "          (_project_conv): Conv2dStaticSamePadding(\n",
       "            96, 24, kernel_size=(1, 1), stride=(1, 1), bias=False\n",
       "            (static_padding): Identity()\n",
       "          )\n",
       "          (_bn2): BatchNorm2d(24, eps=0.001, momentum=0.010000000000000009, affine=True, track_running_stats=True)\n",
       "          (_swish): MemoryEfficientSwish()\n",
       "        )\n",
       "        (2): MBConvBlock(\n",
       "          (_expand_conv): Conv2dStaticSamePadding(\n",
       "            24, 144, kernel_size=(1, 1), stride=(1, 1), bias=False\n",
       "            (static_padding): Identity()\n",
       "          )\n",
       "          (_bn0): BatchNorm2d(144, eps=0.001, momentum=0.010000000000000009, affine=True, track_running_stats=True)\n",
       "          (_depthwise_conv): Conv2dStaticSamePadding(\n",
       "            144, 144, kernel_size=(3, 3), stride=(1, 1), groups=144, bias=False\n",
       "            (static_padding): ZeroPad2d(padding=(1, 1, 1, 1), value=0.0)\n",
       "          )\n",
       "          (_bn1): BatchNorm2d(144, eps=0.001, momentum=0.010000000000000009, affine=True, track_running_stats=True)\n",
       "          (_se_reduce): Conv2dStaticSamePadding(\n",
       "            144, 6, kernel_size=(1, 1), stride=(1, 1)\n",
       "            (static_padding): Identity()\n",
       "          )\n",
       "          (_se_expand): Conv2dStaticSamePadding(\n",
       "            6, 144, kernel_size=(1, 1), stride=(1, 1)\n",
       "            (static_padding): Identity()\n",
       "          )\n",
       "          (_project_conv): Conv2dStaticSamePadding(\n",
       "            144, 24, kernel_size=(1, 1), stride=(1, 1), bias=False\n",
       "            (static_padding): Identity()\n",
       "          )\n",
       "          (_bn2): BatchNorm2d(24, eps=0.001, momentum=0.010000000000000009, affine=True, track_running_stats=True)\n",
       "          (_swish): MemoryEfficientSwish()\n",
       "        )\n",
       "        (3): MBConvBlock(\n",
       "          (_expand_conv): Conv2dStaticSamePadding(\n",
       "            24, 144, kernel_size=(1, 1), stride=(1, 1), bias=False\n",
       "            (static_padding): Identity()\n",
       "          )\n",
       "          (_bn0): BatchNorm2d(144, eps=0.001, momentum=0.010000000000000009, affine=True, track_running_stats=True)\n",
       "          (_depthwise_conv): Conv2dStaticSamePadding(\n",
       "            144, 144, kernel_size=(5, 5), stride=[2, 2], groups=144, bias=False\n",
       "            (static_padding): ZeroPad2d(padding=(1, 2, 1, 2), value=0.0)\n",
       "          )\n",
       "          (_bn1): BatchNorm2d(144, eps=0.001, momentum=0.010000000000000009, affine=True, track_running_stats=True)\n",
       "          (_se_reduce): Conv2dStaticSamePadding(\n",
       "            144, 6, kernel_size=(1, 1), stride=(1, 1)\n",
       "            (static_padding): Identity()\n",
       "          )\n",
       "          (_se_expand): Conv2dStaticSamePadding(\n",
       "            6, 144, kernel_size=(1, 1), stride=(1, 1)\n",
       "            (static_padding): Identity()\n",
       "          )\n",
       "          (_project_conv): Conv2dStaticSamePadding(\n",
       "            144, 40, kernel_size=(1, 1), stride=(1, 1), bias=False\n",
       "            (static_padding): Identity()\n",
       "          )\n",
       "          (_bn2): BatchNorm2d(40, eps=0.001, momentum=0.010000000000000009, affine=True, track_running_stats=True)\n",
       "          (_swish): MemoryEfficientSwish()\n",
       "        )\n",
       "        (4): MBConvBlock(\n",
       "          (_expand_conv): Conv2dStaticSamePadding(\n",
       "            40, 240, kernel_size=(1, 1), stride=(1, 1), bias=False\n",
       "            (static_padding): Identity()\n",
       "          )\n",
       "          (_bn0): BatchNorm2d(240, eps=0.001, momentum=0.010000000000000009, affine=True, track_running_stats=True)\n",
       "          (_depthwise_conv): Conv2dStaticSamePadding(\n",
       "            240, 240, kernel_size=(5, 5), stride=(1, 1), groups=240, bias=False\n",
       "            (static_padding): ZeroPad2d(padding=(2, 2, 2, 2), value=0.0)\n",
       "          )\n",
       "          (_bn1): BatchNorm2d(240, eps=0.001, momentum=0.010000000000000009, affine=True, track_running_stats=True)\n",
       "          (_se_reduce): Conv2dStaticSamePadding(\n",
       "            240, 10, kernel_size=(1, 1), stride=(1, 1)\n",
       "            (static_padding): Identity()\n",
       "          )\n",
       "          (_se_expand): Conv2dStaticSamePadding(\n",
       "            10, 240, kernel_size=(1, 1), stride=(1, 1)\n",
       "            (static_padding): Identity()\n",
       "          )\n",
       "          (_project_conv): Conv2dStaticSamePadding(\n",
       "            240, 40, kernel_size=(1, 1), stride=(1, 1), bias=False\n",
       "            (static_padding): Identity()\n",
       "          )\n",
       "          (_bn2): BatchNorm2d(40, eps=0.001, momentum=0.010000000000000009, affine=True, track_running_stats=True)\n",
       "          (_swish): MemoryEfficientSwish()\n",
       "        )\n",
       "        (5): MBConvBlock(\n",
       "          (_expand_conv): Conv2dStaticSamePadding(\n",
       "            40, 240, kernel_size=(1, 1), stride=(1, 1), bias=False\n",
       "            (static_padding): Identity()\n",
       "          )\n",
       "          (_bn0): BatchNorm2d(240, eps=0.001, momentum=0.010000000000000009, affine=True, track_running_stats=True)\n",
       "          (_depthwise_conv): Conv2dStaticSamePadding(\n",
       "            240, 240, kernel_size=(3, 3), stride=[2, 2], groups=240, bias=False\n",
       "            (static_padding): ZeroPad2d(padding=(0, 1, 0, 1), value=0.0)\n",
       "          )\n",
       "          (_bn1): BatchNorm2d(240, eps=0.001, momentum=0.010000000000000009, affine=True, track_running_stats=True)\n",
       "          (_se_reduce): Conv2dStaticSamePadding(\n",
       "            240, 10, kernel_size=(1, 1), stride=(1, 1)\n",
       "            (static_padding): Identity()\n",
       "          )\n",
       "          (_se_expand): Conv2dStaticSamePadding(\n",
       "            10, 240, kernel_size=(1, 1), stride=(1, 1)\n",
       "            (static_padding): Identity()\n",
       "          )\n",
       "          (_project_conv): Conv2dStaticSamePadding(\n",
       "            240, 80, kernel_size=(1, 1), stride=(1, 1), bias=False\n",
       "            (static_padding): Identity()\n",
       "          )\n",
       "          (_bn2): BatchNorm2d(80, eps=0.001, momentum=0.010000000000000009, affine=True, track_running_stats=True)\n",
       "          (_swish): MemoryEfficientSwish()\n",
       "        )\n",
       "        (6): MBConvBlock(\n",
       "          (_expand_conv): Conv2dStaticSamePadding(\n",
       "            80, 480, kernel_size=(1, 1), stride=(1, 1), bias=False\n",
       "            (static_padding): Identity()\n",
       "          )\n",
       "          (_bn0): BatchNorm2d(480, eps=0.001, momentum=0.010000000000000009, affine=True, track_running_stats=True)\n",
       "          (_depthwise_conv): Conv2dStaticSamePadding(\n",
       "            480, 480, kernel_size=(3, 3), stride=(1, 1), groups=480, bias=False\n",
       "            (static_padding): ZeroPad2d(padding=(1, 1, 1, 1), value=0.0)\n",
       "          )\n",
       "          (_bn1): BatchNorm2d(480, eps=0.001, momentum=0.010000000000000009, affine=True, track_running_stats=True)\n",
       "          (_se_reduce): Conv2dStaticSamePadding(\n",
       "            480, 20, kernel_size=(1, 1), stride=(1, 1)\n",
       "            (static_padding): Identity()\n",
       "          )\n",
       "          (_se_expand): Conv2dStaticSamePadding(\n",
       "            20, 480, kernel_size=(1, 1), stride=(1, 1)\n",
       "            (static_padding): Identity()\n",
       "          )\n",
       "          (_project_conv): Conv2dStaticSamePadding(\n",
       "            480, 80, kernel_size=(1, 1), stride=(1, 1), bias=False\n",
       "            (static_padding): Identity()\n",
       "          )\n",
       "          (_bn2): BatchNorm2d(80, eps=0.001, momentum=0.010000000000000009, affine=True, track_running_stats=True)\n",
       "          (_swish): MemoryEfficientSwish()\n",
       "        )\n",
       "        (7): MBConvBlock(\n",
       "          (_expand_conv): Conv2dStaticSamePadding(\n",
       "            80, 480, kernel_size=(1, 1), stride=(1, 1), bias=False\n",
       "            (static_padding): Identity()\n",
       "          )\n",
       "          (_bn0): BatchNorm2d(480, eps=0.001, momentum=0.010000000000000009, affine=True, track_running_stats=True)\n",
       "          (_depthwise_conv): Conv2dStaticSamePadding(\n",
       "            480, 480, kernel_size=(3, 3), stride=(1, 1), groups=480, bias=False\n",
       "            (static_padding): ZeroPad2d(padding=(1, 1, 1, 1), value=0.0)\n",
       "          )\n",
       "          (_bn1): BatchNorm2d(480, eps=0.001, momentum=0.010000000000000009, affine=True, track_running_stats=True)\n",
       "          (_se_reduce): Conv2dStaticSamePadding(\n",
       "            480, 20, kernel_size=(1, 1), stride=(1, 1)\n",
       "            (static_padding): Identity()\n",
       "          )\n",
       "          (_se_expand): Conv2dStaticSamePadding(\n",
       "            20, 480, kernel_size=(1, 1), stride=(1, 1)\n",
       "            (static_padding): Identity()\n",
       "          )\n",
       "          (_project_conv): Conv2dStaticSamePadding(\n",
       "            480, 80, kernel_size=(1, 1), stride=(1, 1), bias=False\n",
       "            (static_padding): Identity()\n",
       "          )\n",
       "          (_bn2): BatchNorm2d(80, eps=0.001, momentum=0.010000000000000009, affine=True, track_running_stats=True)\n",
       "          (_swish): MemoryEfficientSwish()\n",
       "        )\n",
       "        (8): MBConvBlock(\n",
       "          (_expand_conv): Conv2dStaticSamePadding(\n",
       "            80, 480, kernel_size=(1, 1), stride=(1, 1), bias=False\n",
       "            (static_padding): Identity()\n",
       "          )\n",
       "          (_bn0): BatchNorm2d(480, eps=0.001, momentum=0.010000000000000009, affine=True, track_running_stats=True)\n",
       "          (_depthwise_conv): Conv2dStaticSamePadding(\n",
       "            480, 480, kernel_size=(5, 5), stride=[1, 1], groups=480, bias=False\n",
       "            (static_padding): ZeroPad2d(padding=(2, 2, 2, 2), value=0.0)\n",
       "          )\n",
       "          (_bn1): BatchNorm2d(480, eps=0.001, momentum=0.010000000000000009, affine=True, track_running_stats=True)\n",
       "          (_se_reduce): Conv2dStaticSamePadding(\n",
       "            480, 20, kernel_size=(1, 1), stride=(1, 1)\n",
       "            (static_padding): Identity()\n",
       "          )\n",
       "          (_se_expand): Conv2dStaticSamePadding(\n",
       "            20, 480, kernel_size=(1, 1), stride=(1, 1)\n",
       "            (static_padding): Identity()\n",
       "          )\n",
       "          (_project_conv): Conv2dStaticSamePadding(\n",
       "            480, 112, kernel_size=(1, 1), stride=(1, 1), bias=False\n",
       "            (static_padding): Identity()\n",
       "          )\n",
       "          (_bn2): BatchNorm2d(112, eps=0.001, momentum=0.010000000000000009, affine=True, track_running_stats=True)\n",
       "          (_swish): MemoryEfficientSwish()\n",
       "        )\n",
       "        (9): MBConvBlock(\n",
       "          (_expand_conv): Conv2dStaticSamePadding(\n",
       "            112, 672, kernel_size=(1, 1), stride=(1, 1), bias=False\n",
       "            (static_padding): Identity()\n",
       "          )\n",
       "          (_bn0): BatchNorm2d(672, eps=0.001, momentum=0.010000000000000009, affine=True, track_running_stats=True)\n",
       "          (_depthwise_conv): Conv2dStaticSamePadding(\n",
       "            672, 672, kernel_size=(5, 5), stride=(1, 1), groups=672, bias=False\n",
       "            (static_padding): ZeroPad2d(padding=(2, 2, 2, 2), value=0.0)\n",
       "          )\n",
       "          (_bn1): BatchNorm2d(672, eps=0.001, momentum=0.010000000000000009, affine=True, track_running_stats=True)\n",
       "          (_se_reduce): Conv2dStaticSamePadding(\n",
       "            672, 28, kernel_size=(1, 1), stride=(1, 1)\n",
       "            (static_padding): Identity()\n",
       "          )\n",
       "          (_se_expand): Conv2dStaticSamePadding(\n",
       "            28, 672, kernel_size=(1, 1), stride=(1, 1)\n",
       "            (static_padding): Identity()\n",
       "          )\n",
       "          (_project_conv): Conv2dStaticSamePadding(\n",
       "            672, 112, kernel_size=(1, 1), stride=(1, 1), bias=False\n",
       "            (static_padding): Identity()\n",
       "          )\n",
       "          (_bn2): BatchNorm2d(112, eps=0.001, momentum=0.010000000000000009, affine=True, track_running_stats=True)\n",
       "          (_swish): MemoryEfficientSwish()\n",
       "        )\n",
       "        (10): MBConvBlock(\n",
       "          (_expand_conv): Conv2dStaticSamePadding(\n",
       "            112, 672, kernel_size=(1, 1), stride=(1, 1), bias=False\n",
       "            (static_padding): Identity()\n",
       "          )\n",
       "          (_bn0): BatchNorm2d(672, eps=0.001, momentum=0.010000000000000009, affine=True, track_running_stats=True)\n",
       "          (_depthwise_conv): Conv2dStaticSamePadding(\n",
       "            672, 672, kernel_size=(5, 5), stride=(1, 1), groups=672, bias=False\n",
       "            (static_padding): ZeroPad2d(padding=(2, 2, 2, 2), value=0.0)\n",
       "          )\n",
       "          (_bn1): BatchNorm2d(672, eps=0.001, momentum=0.010000000000000009, affine=True, track_running_stats=True)\n",
       "          (_se_reduce): Conv2dStaticSamePadding(\n",
       "            672, 28, kernel_size=(1, 1), stride=(1, 1)\n",
       "            (static_padding): Identity()\n",
       "          )\n",
       "          (_se_expand): Conv2dStaticSamePadding(\n",
       "            28, 672, kernel_size=(1, 1), stride=(1, 1)\n",
       "            (static_padding): Identity()\n",
       "          )\n",
       "          (_project_conv): Conv2dStaticSamePadding(\n",
       "            672, 112, kernel_size=(1, 1), stride=(1, 1), bias=False\n",
       "            (static_padding): Identity()\n",
       "          )\n",
       "          (_bn2): BatchNorm2d(112, eps=0.001, momentum=0.010000000000000009, affine=True, track_running_stats=True)\n",
       "          (_swish): MemoryEfficientSwish()\n",
       "        )\n",
       "        (11): MBConvBlock(\n",
       "          (_expand_conv): Conv2dStaticSamePadding(\n",
       "            112, 672, kernel_size=(1, 1), stride=(1, 1), bias=False\n",
       "            (static_padding): Identity()\n",
       "          )\n",
       "          (_bn0): BatchNorm2d(672, eps=0.001, momentum=0.010000000000000009, affine=True, track_running_stats=True)\n",
       "          (_depthwise_conv): Conv2dStaticSamePadding(\n",
       "            672, 672, kernel_size=(5, 5), stride=[2, 2], groups=672, bias=False\n",
       "            (static_padding): ZeroPad2d(padding=(1, 2, 1, 2), value=0.0)\n",
       "          )\n",
       "          (_bn1): BatchNorm2d(672, eps=0.001, momentum=0.010000000000000009, affine=True, track_running_stats=True)\n",
       "          (_se_reduce): Conv2dStaticSamePadding(\n",
       "            672, 28, kernel_size=(1, 1), stride=(1, 1)\n",
       "            (static_padding): Identity()\n",
       "          )\n",
       "          (_se_expand): Conv2dStaticSamePadding(\n",
       "            28, 672, kernel_size=(1, 1), stride=(1, 1)\n",
       "            (static_padding): Identity()\n",
       "          )\n",
       "          (_project_conv): Conv2dStaticSamePadding(\n",
       "            672, 192, kernel_size=(1, 1), stride=(1, 1), bias=False\n",
       "            (static_padding): Identity()\n",
       "          )\n",
       "          (_bn2): BatchNorm2d(192, eps=0.001, momentum=0.010000000000000009, affine=True, track_running_stats=True)\n",
       "          (_swish): MemoryEfficientSwish()\n",
       "        )\n",
       "        (12): MBConvBlock(\n",
       "          (_expand_conv): Conv2dStaticSamePadding(\n",
       "            192, 1152, kernel_size=(1, 1), stride=(1, 1), bias=False\n",
       "            (static_padding): Identity()\n",
       "          )\n",
       "          (_bn0): BatchNorm2d(1152, eps=0.001, momentum=0.010000000000000009, affine=True, track_running_stats=True)\n",
       "          (_depthwise_conv): Conv2dStaticSamePadding(\n",
       "            1152, 1152, kernel_size=(5, 5), stride=(1, 1), groups=1152, bias=False\n",
       "            (static_padding): ZeroPad2d(padding=(2, 2, 2, 2), value=0.0)\n",
       "          )\n",
       "          (_bn1): BatchNorm2d(1152, eps=0.001, momentum=0.010000000000000009, affine=True, track_running_stats=True)\n",
       "          (_se_reduce): Conv2dStaticSamePadding(\n",
       "            1152, 48, kernel_size=(1, 1), stride=(1, 1)\n",
       "            (static_padding): Identity()\n",
       "          )\n",
       "          (_se_expand): Conv2dStaticSamePadding(\n",
       "            48, 1152, kernel_size=(1, 1), stride=(1, 1)\n",
       "            (static_padding): Identity()\n",
       "          )\n",
       "          (_project_conv): Conv2dStaticSamePadding(\n",
       "            1152, 192, kernel_size=(1, 1), stride=(1, 1), bias=False\n",
       "            (static_padding): Identity()\n",
       "          )\n",
       "          (_bn2): BatchNorm2d(192, eps=0.001, momentum=0.010000000000000009, affine=True, track_running_stats=True)\n",
       "          (_swish): MemoryEfficientSwish()\n",
       "        )\n",
       "        (13): MBConvBlock(\n",
       "          (_expand_conv): Conv2dStaticSamePadding(\n",
       "            192, 1152, kernel_size=(1, 1), stride=(1, 1), bias=False\n",
       "            (static_padding): Identity()\n",
       "          )\n",
       "          (_bn0): BatchNorm2d(1152, eps=0.001, momentum=0.010000000000000009, affine=True, track_running_stats=True)\n",
       "          (_depthwise_conv): Conv2dStaticSamePadding(\n",
       "            1152, 1152, kernel_size=(5, 5), stride=(1, 1), groups=1152, bias=False\n",
       "            (static_padding): ZeroPad2d(padding=(2, 2, 2, 2), value=0.0)\n",
       "          )\n",
       "          (_bn1): BatchNorm2d(1152, eps=0.001, momentum=0.010000000000000009, affine=True, track_running_stats=True)\n",
       "          (_se_reduce): Conv2dStaticSamePadding(\n",
       "            1152, 48, kernel_size=(1, 1), stride=(1, 1)\n",
       "            (static_padding): Identity()\n",
       "          )\n",
       "          (_se_expand): Conv2dStaticSamePadding(\n",
       "            48, 1152, kernel_size=(1, 1), stride=(1, 1)\n",
       "            (static_padding): Identity()\n",
       "          )\n",
       "          (_project_conv): Conv2dStaticSamePadding(\n",
       "            1152, 192, kernel_size=(1, 1), stride=(1, 1), bias=False\n",
       "            (static_padding): Identity()\n",
       "          )\n",
       "          (_bn2): BatchNorm2d(192, eps=0.001, momentum=0.010000000000000009, affine=True, track_running_stats=True)\n",
       "          (_swish): MemoryEfficientSwish()\n",
       "        )\n",
       "        (14): MBConvBlock(\n",
       "          (_expand_conv): Conv2dStaticSamePadding(\n",
       "            192, 1152, kernel_size=(1, 1), stride=(1, 1), bias=False\n",
       "            (static_padding): Identity()\n",
       "          )\n",
       "          (_bn0): BatchNorm2d(1152, eps=0.001, momentum=0.010000000000000009, affine=True, track_running_stats=True)\n",
       "          (_depthwise_conv): Conv2dStaticSamePadding(\n",
       "            1152, 1152, kernel_size=(5, 5), stride=(1, 1), groups=1152, bias=False\n",
       "            (static_padding): ZeroPad2d(padding=(2, 2, 2, 2), value=0.0)\n",
       "          )\n",
       "          (_bn1): BatchNorm2d(1152, eps=0.001, momentum=0.010000000000000009, affine=True, track_running_stats=True)\n",
       "          (_se_reduce): Conv2dStaticSamePadding(\n",
       "            1152, 48, kernel_size=(1, 1), stride=(1, 1)\n",
       "            (static_padding): Identity()\n",
       "          )\n",
       "          (_se_expand): Conv2dStaticSamePadding(\n",
       "            48, 1152, kernel_size=(1, 1), stride=(1, 1)\n",
       "            (static_padding): Identity()\n",
       "          )\n",
       "          (_project_conv): Conv2dStaticSamePadding(\n",
       "            1152, 192, kernel_size=(1, 1), stride=(1, 1), bias=False\n",
       "            (static_padding): Identity()\n",
       "          )\n",
       "          (_bn2): BatchNorm2d(192, eps=0.001, momentum=0.010000000000000009, affine=True, track_running_stats=True)\n",
       "          (_swish): MemoryEfficientSwish()\n",
       "        )\n",
       "        (15): MBConvBlock(\n",
       "          (_expand_conv): Conv2dStaticSamePadding(\n",
       "            192, 1152, kernel_size=(1, 1), stride=(1, 1), bias=False\n",
       "            (static_padding): Identity()\n",
       "          )\n",
       "          (_bn0): BatchNorm2d(1152, eps=0.001, momentum=0.010000000000000009, affine=True, track_running_stats=True)\n",
       "          (_depthwise_conv): Conv2dStaticSamePadding(\n",
       "            1152, 1152, kernel_size=(3, 3), stride=[1, 1], groups=1152, bias=False\n",
       "            (static_padding): ZeroPad2d(padding=(1, 1, 1, 1), value=0.0)\n",
       "          )\n",
       "          (_bn1): BatchNorm2d(1152, eps=0.001, momentum=0.010000000000000009, affine=True, track_running_stats=True)\n",
       "          (_se_reduce): Conv2dStaticSamePadding(\n",
       "            1152, 48, kernel_size=(1, 1), stride=(1, 1)\n",
       "            (static_padding): Identity()\n",
       "          )\n",
       "          (_se_expand): Conv2dStaticSamePadding(\n",
       "            48, 1152, kernel_size=(1, 1), stride=(1, 1)\n",
       "            (static_padding): Identity()\n",
       "          )\n",
       "          (_project_conv): Conv2dStaticSamePadding(\n",
       "            1152, 320, kernel_size=(1, 1), stride=(1, 1), bias=False\n",
       "            (static_padding): Identity()\n",
       "          )\n",
       "          (_bn2): BatchNorm2d(320, eps=0.001, momentum=0.010000000000000009, affine=True, track_running_stats=True)\n",
       "          (_swish): MemoryEfficientSwish()\n",
       "        )\n",
       "      )\n",
       "      (_conv_head): Conv2dStaticSamePadding(\n",
       "        320, 1280, kernel_size=(1, 1), stride=(1, 1), bias=False\n",
       "        (static_padding): Identity()\n",
       "      )\n",
       "      (_bn1): BatchNorm2d(1280, eps=0.001, momentum=0.010000000000000009, affine=True, track_running_stats=True)\n",
       "      (_avg_pooling): AdaptiveAvgPool2d(output_size=1)\n",
       "      (_dropout): Dropout(p=0.2, inplace=False)\n",
       "      (_fc): Identity()\n",
       "      (_swish): MemoryEfficientSwish()\n",
       "    )\n",
       "  )\n",
       "  (myfc): DataParallel(\n",
       "    (module): Sequential(\n",
       "      (0): Linear(in_features=1280, out_features=320, bias=True)\n",
       "      (1): ReLU()\n",
       "      (2): Dropout(p=0.2, inplace=False)\n",
       "      (3): Linear(in_features=320, out_features=5, bias=True)\n",
       "    )\n",
       "  )\n",
       ")>"
      ]
     },
     "execution_count": 6,
     "metadata": {},
     "output_type": "execute_result"
    }
   ],
   "source": [
    "model = EffNet_(M_PARAMS['ENET_TYPE'], M_PARAMS['OUT_DIM'])\n",
    "model.children"
   ]
  },
  {
   "cell_type": "code",
   "execution_count": 7,
   "metadata": {},
   "outputs": [],
   "source": [
    "def get_tiles(img_id, n_tiles):\n",
    "        result = []\n",
    "        seq_imgs = []\n",
    "        for i in range(n_tiles):\n",
    "            img_path = '{}/{}_{}.png'.format(M_PARAMS['TILES_DIR'], img_id, i)\n",
    "            img = cv2.imread(img_path)\n",
    "            if not np.any(img):\n",
    "                print('no img file read:', img_path)\n",
    "            img = cv2.cvtColor(img, cv2.COLOR_BGR2RGB)\n",
    "            seq_imgs.append(img)\n",
    "        for i in range(len(seq_imgs)):\n",
    "            result.append({'img':seq_imgs[i], 'idx':i})\n",
    "        return result\n",
    "class PANDADataset(Dataset):\n",
    "    def __init__(self, df, image_size, n_tiles, tile_mode=0, rand=False,\n",
    "                 transform=None, transform_tile=None):\n",
    "        self.df = df.reset_index(drop=True)\n",
    "        self.image_size = image_size\n",
    "        self.n_tiles = n_tiles\n",
    "        self.tile_mode = tile_mode\n",
    "        self.rand = rand\n",
    "        self.transform = transform\n",
    "        self.transform_tile = transform_tile\n",
    "    def __len__(self):\n",
    "        return self.df.shape[0]\n",
    "    def __getitem__(self, index):\n",
    "        row = self.df.iloc[index]\n",
    "        img_id = row.image_id\n",
    "        tiles = get_tiles(img_id, self.n_tiles)\n",
    "        if self.rand:\n",
    "            idxes = np.random.choice(list(range(self.n_tiles)), self.n_tiles, replace=False)\n",
    "        else:\n",
    "            idxes = list(range(self.n_tiles))\n",
    "        n_row_tiles = int(np.sqrt(self.n_tiles))\n",
    "        images = np.zeros((self.image_size * n_row_tiles, self.image_size * n_row_tiles, 3))\n",
    "        for h in range(n_row_tiles):\n",
    "            for w in range(n_row_tiles):\n",
    "                i = h * n_row_tiles + w\n",
    "                if len(tiles) > idxes[i]:\n",
    "                    this_img = tiles[idxes[i]]['img']\n",
    "                else:\n",
    "                    this_img = np.ones((self.image_size, self.image_size, 3)).astype(np.uint8) * 255\n",
    "                this_img = (255 - this_img) / 255\n",
    "                if self.transform_tile is not None:\n",
    "                    this_img = self.transform_tile(image=this_img)['image']\n",
    "                h1 = h * self.image_size\n",
    "                w1 = w * self.image_size\n",
    "                images[h1:h1+self.image_size, w1:w1+self.image_size] = this_img\n",
    "        images = images.astype(np.float32)\n",
    "        if self.transform is not None:\n",
    "            images = self.transform(image=images)['image']\n",
    "        #images /= 255\n",
    "        images = images.transpose(2, 0, 1)\n",
    "        label = np.zeros(5).astype(np.float32)\n",
    "        label[:row.isup_grade] = 1.\n",
    "        return torch.tensor(images), torch.tensor(label)"
   ]
  },
  {
   "cell_type": "code",
   "execution_count": 8,
   "metadata": {},
   "outputs": [],
   "source": [
    "transforms_train = albumentations.Compose(\n",
    "    [\n",
    "        albumentations.OneOf(\n",
    "            [\n",
    "                albumentations.RandomBrightness(limit=.15), \n",
    "                albumentations.RandomContrast(limit=.3), \n",
    "                albumentations.RandomGamma()\n",
    "            ], \n",
    "            p=.33\n",
    "        ),\n",
    "        albumentations.Transpose(p=.5),\n",
    "        albumentations.VerticalFlip(p=.5),\n",
    "        albumentations.HorizontalFlip(p=.5),\n",
    "        albumentations.ShiftScaleRotate(shift_limit=.1, scale_limit=.1, rotate_limit=15, p=.33)\n",
    "    ]\n",
    ")\n",
    "transforms_train_tile = albumentations.Compose(\n",
    "    [\n",
    "        albumentations.Transpose(p=.5),\n",
    "        albumentations.VerticalFlip(p=.5),\n",
    "        albumentations.HorizontalFlip(p=.5)\n",
    "    ]\n",
    ")"
   ]
  },
  {
   "cell_type": "code",
   "execution_count": 9,
   "metadata": {},
   "outputs": [
    {
     "data": {
      "image/png": "[encoded data removed]",
      "text/plain": [
       "<Figure size 1152x288 with 6 Axes>"
      ]
     },
     "metadata": {
      "needs_background": "light"
     },
     "output_type": "display_data"
    }
   ],
   "source": [
    "dataset_show = PANDADataset(\n",
    "    df_train,\n",
    "    M_PARAMS['IMAGE_SIZE'], \n",
    "    M_PARAMS['N_TILES'], \n",
    "    0, \n",
    "    transform=transforms_train,\n",
    "    transform_tile=transforms_train_tile\n",
    ")\n",
    "from pylab import rcParams\n",
    "rcParams['figure.figsize'] = (16, 4)\n",
    "f, axarr = plt.subplots(1, M_PARAMS['BATCH_SIZE'])\n",
    "for i in range(M_PARAMS['BATCH_SIZE']):\n",
    "    img, label = dataset_show.__getitem__(i)\n",
    "    axarr[i].imshow(1. - img.transpose(0, 1).transpose(1,2).squeeze())\n",
    "    axarr[i].set_title(str(sum(label)))"
   ]
  },
  {
   "cell_type": "code",
   "execution_count": 10,
   "metadata": {},
   "outputs": [],
   "source": [
    "criterion = nn.BCEWithLogitsLoss()\n",
    "def train_epoch(loader, optimizer):\n",
    "    model.train()\n",
    "    train_loss = []\n",
    "    bar = tqdm(loader)\n",
    "    for (data, target) in bar:\n",
    "        data, target = data.to(DEVICE), target.to(DEVICE)\n",
    "        loss_func = criterion\n",
    "        optimizer.zero_grad()\n",
    "        logits = model(data)\n",
    "        loss = loss_func(logits, target)\n",
    "        with amp.scale_loss(loss, optimizer) as scaled_loss:\n",
    "            scaled_loss.backward()\n",
    "        #loss.backward()\n",
    "        optimizer.step()\n",
    "        loss_np = loss.detach().cpu().numpy()\n",
    "        train_loss.append(loss_np)\n",
    "        smooth_loss = sum(train_loss[-100:]) / min(len(train_loss), 100)\n",
    "        bar.set_description('loss: %.5f, smth: %.5f' % (loss_np, smooth_loss))\n",
    "    return train_loss\n",
    "def val_epoch(loader, get_output=False):\n",
    "    model.eval()\n",
    "    val_loss = []\n",
    "    LOGITS = []\n",
    "    PREDS = []\n",
    "    TARGETS = []\n",
    "    with torch.no_grad():\n",
    "        for (data, target) in tqdm(loader):\n",
    "            data, target = data.to(DEVICE), target.to(DEVICE)\n",
    "            logits = model(data)\n",
    "            loss = criterion(logits, target)\n",
    "            pred = logits.sigmoid().sum(1).detach().round()\n",
    "            LOGITS.append(logits)\n",
    "            PREDS.append(pred)\n",
    "            TARGETS.append(target.sum(1))\n",
    "            val_loss.append(loss.detach().cpu().numpy())\n",
    "        val_loss = np.mean(val_loss)\n",
    "    LOGITS = torch.cat(LOGITS).cpu().numpy()\n",
    "    PREDS = torch.cat(PREDS).cpu().numpy()\n",
    "    TARGETS = torch.cat(TARGETS).cpu().numpy()\n",
    "    acc = (PREDS == TARGETS).mean() * 100.\n",
    "    qwk = cohen_kappa_score(PREDS, TARGETS, weights='quadratic')\n",
    "    qwk_k = cohen_kappa_score(\n",
    "        PREDS[df_valid['data_provider'] == 'karolinska'], \n",
    "        df_valid[df_valid['data_provider'] == 'karolinska'].isup_grade.values, \n",
    "        weights='quadratic'\n",
    "    )\n",
    "    qwk_r = cohen_kappa_score(\n",
    "        PREDS[df_valid['data_provider'] == 'radboud'], \n",
    "        df_valid[df_valid['data_provider'] == 'radboud'].isup_grade.values, \n",
    "        weights='quadratic'\n",
    "    )\n",
    "    print('qwk', qwk, 'qwk_k', qwk_k, 'qwk_r', qwk_r)\n",
    "    if get_output:\n",
    "        return LOGITS\n",
    "    else:\n",
    "        return val_loss, acc, qwk"
   ]
  },
  {
   "cell_type": "code",
   "execution_count": null,
   "metadata": {
    "scrolled": true
   },
   "outputs": [
    {
     "name": "stdout",
     "output_type": "stream",
     "text": [
      "-------------------- fold: 0 --------------------\n",
      "Selected optimization level O1:  Insert automatic casts around Pytorch functions and Tensor methods.\n",
      "\n",
      "Defaults for this optimization level are:\n",
      "enabled                : True\n",
      "opt_level              : O1\n",
      "cast_model_type        : None\n",
      "patch_torch_functions  : True\n",
      "keep_batchnorm_fp32    : None\n",
      "master_weights         : None\n",
      "loss_scale             : dynamic\n",
      "Processing user overrides (additional kwargs that are not None)...\n",
      "After processing overrides, optimization options are:\n",
      "enabled                : True\n",
      "opt_level              : O1\n",
      "cast_model_type        : None\n",
      "patch_torch_functions  : True\n",
      "keep_batchnorm_fp32    : None\n",
      "master_weights         : None\n",
      "loss_scale             : dynamic\n",
      "Warning:  multi_tensor_applier fused unscale kernel is unavailable, possibly because apex was installed without --cuda_ext --cpp_ext. Using Python fallback.  Original ImportError was: ModuleNotFoundError(\"No module named 'amp_C'\")\n",
      "train len: 7887 | val len: 2629\n"
     ]
    },
    {
     "data": {
      "application/vnd.jupyter.widget-view+json": {
       "model_id": "7a09b5efac56488887fbc3d174207478",
       "version_major": 2,
       "version_minor": 0
      },
      "text/plain": [
       "HBox(children=(FloatProgress(value=0.0, description='epochs', max=30.0, style=ProgressStyle(description_width=…"
      ]
     },
     "metadata": {},
     "output_type": "display_data"
    },
    {
     "name": "stdout",
     "output_type": "stream",
     "text": [
      "Sun Jul  5 17:55:22 2020 epoch: 0\n"
     ]
    },
    {
     "data": {
      "application/vnd.jupyter.widget-view+json": {
       "model_id": "d4585daeae454cf08c722b12d2ffa9f8",
       "version_major": 2,
       "version_minor": 0
      },
      "text/plain": [
       "HBox(children=(FloatProgress(value=0.0, max=1315.0), HTML(value='')))"
      ]
     },
     "metadata": {},
     "output_type": "display_data"
    },
    {
     "name": "stdout",
     "output_type": "stream",
     "text": [
      "Gradient overflow.  Skipping step, loss scaler 0 reducing loss scale to 32768.0\n",
      "Gradient overflow.  Skipping step, loss scaler 0 reducing loss scale to 16384.0\n",
      "\n"
     ]
    },
    {
     "data": {
      "application/vnd.jupyter.widget-view+json": {
       "model_id": "382e4ce1a15746f0b1c0ba6ac967b972",
       "version_major": 2,
       "version_minor": 0
      },
      "text/plain": [
       "HBox(children=(FloatProgress(value=0.0, max=439.0), HTML(value='')))"
      ]
     },
     "metadata": {},
     "output_type": "display_data"
    },
    {
     "name": "stdout",
     "output_type": "stream",
     "text": [
      "\n",
      "qwk 0.5833398325784909 qwk_k 0.5102224993805113 qwk_r 0.4987692735804905\n",
      "Sun Jul  5 18:16:50 2020 epoch 0, lr: 0.0000100, train loss: 0.52802, val loss: 0.39919, acc: 28.03347, QWK: 0.58334\n",
      "QWK improved 0.000000 --> 0.583340 model saved\n",
      "Sun Jul  5 18:16:50 2020 epoch: 1\n"
     ]
    },
    {
     "data": {
      "application/vnd.jupyter.widget-view+json": {
       "model_id": "d7adedd6c84b454389a62b97ec0c1f37",
       "version_major": 2,
       "version_minor": 0
      },
      "text/plain": [
       "HBox(children=(FloatProgress(value=0.0, max=1315.0), HTML(value='')))"
      ]
     },
     "metadata": {},
     "output_type": "display_data"
    },
    {
     "name": "stdout",
     "output_type": "stream",
     "text": [
      "\n"
     ]
    },
    {
     "data": {
      "application/vnd.jupyter.widget-view+json": {
       "model_id": "581037cce68242d0a3b502c4d003779a",
       "version_major": 2,
       "version_minor": 0
      },
      "text/plain": [
       "HBox(children=(FloatProgress(value=0.0, max=439.0), HTML(value='')))"
      ]
     },
     "metadata": {},
     "output_type": "display_data"
    },
    {
     "name": "stdout",
     "output_type": "stream",
     "text": [
      "\n",
      "qwk 0.6804453685470269 qwk_k 0.6394212522859971 qwk_r 0.6093599771624322\n",
      "Sun Jul  5 18:37:56 2020 epoch 1, lr: 0.0000100, train loss: 0.44021, val loss: 0.35296, acc: 35.52682, QWK: 0.68045\n",
      "QWK improved 0.583340 --> 0.680445 model saved\n",
      "Sun Jul  5 18:37:56 2020 epoch: 2\n"
     ]
    },
    {
     "data": {
      "application/vnd.jupyter.widget-view+json": {
       "model_id": "663b0efa9a0845e5ab7f8ad8480d1aa1",
       "version_major": 2,
       "version_minor": 0
      },
      "text/plain": [
       "HBox(children=(FloatProgress(value=0.0, max=1315.0), HTML(value='')))"
      ]
     },
     "metadata": {},
     "output_type": "display_data"
    },
    {
     "name": "stdout",
     "output_type": "stream",
     "text": [
      "Gradient overflow.  Skipping step, loss scaler 0 reducing loss scale to 16384.0\n",
      "\n"
     ]
    },
    {
     "data": {
      "application/vnd.jupyter.widget-view+json": {
       "model_id": "295066b288e7444eab2f85e645d38038",
       "version_major": 2,
       "version_minor": 0
      },
      "text/plain": [
       "HBox(children=(FloatProgress(value=0.0, max=439.0), HTML(value='')))"
      ]
     },
     "metadata": {},
     "output_type": "display_data"
    },
    {
     "name": "stdout",
     "output_type": "stream",
     "text": [
      "\n",
      "qwk 0.7974531758437444 qwk_k 0.8097260292689148 qwk_r 0.7236504038497025\n",
      "Sun Jul  5 18:55:34 2020 epoch 2, lr: 0.0003000, train loss: 0.38296, val loss: 0.29791, acc: 44.35146, QWK: 0.79745\n",
      "QWK improved 0.680445 --> 0.797453 model saved\n",
      "Sun Jul  5 18:55:34 2020 epoch: 3\n"
     ]
    },
    {
     "data": {
      "application/vnd.jupyter.widget-view+json": {
       "model_id": "4b45e66c8e0f4902a34d213e82f731bc",
       "version_major": 2,
       "version_minor": 0
      },
      "text/plain": [
       "HBox(children=(FloatProgress(value=0.0, max=1315.0), HTML(value='')))"
      ]
     },
     "metadata": {},
     "output_type": "display_data"
    },
    {
     "name": "stdout",
     "output_type": "stream",
     "text": [
      "\n"
     ]
    },
    {
     "data": {
      "application/vnd.jupyter.widget-view+json": {
       "model_id": "cce0941806ef4e16ba6bf7c9a9fbf393",
       "version_major": 2,
       "version_minor": 0
      },
      "text/plain": [
       "HBox(children=(FloatProgress(value=0.0, max=439.0), HTML(value='')))"
      ]
     },
     "metadata": {},
     "output_type": "display_data"
    },
    {
     "name": "stdout",
     "output_type": "stream",
     "text": [
      "\n",
      "qwk 0.7719595992657933 qwk_k 0.7562658013475752 qwk_r 0.7298916702032693\n",
      "Sun Jul  5 19:13:13 2020 epoch 3, lr: 0.0002991, train loss: 0.31566, val loss: 0.30390, acc: 55.99087, QWK: 0.77196\n",
      "Sun Jul  5 19:13:13 2020 epoch: 4\n"
     ]
    },
    {
     "data": {
      "application/vnd.jupyter.widget-view+json": {
       "model_id": "1461f33a9d6141d3a5633dc131559f8d",
       "version_major": 2,
       "version_minor": 0
      },
      "text/plain": [
       "HBox(children=(FloatProgress(value=0.0, max=1315.0), HTML(value='')))"
      ]
     },
     "metadata": {},
     "output_type": "display_data"
    },
    {
     "name": "stdout",
     "output_type": "stream",
     "text": [
      "Gradient overflow.  Skipping step, loss scaler 0 reducing loss scale to 16384.0\n",
      "\n"
     ]
    },
    {
     "data": {
      "application/vnd.jupyter.widget-view+json": {
       "model_id": "84636831836545339c976d4dbf801d33",
       "version_major": 2,
       "version_minor": 0
      },
      "text/plain": [
       "HBox(children=(FloatProgress(value=0.0, max=439.0), HTML(value='')))"
      ]
     },
     "metadata": {},
     "output_type": "display_data"
    },
    {
     "name": "stdout",
     "output_type": "stream",
     "text": [
      "\n",
      "qwk 0.8117653327364078 qwk_k 0.7837129757336018 qwk_r 0.7805138820755819\n",
      "Sun Jul  5 19:30:52 2020 epoch 4, lr: 0.0002962, train loss: 0.28298, val loss: 0.26528, acc: 60.44123, QWK: 0.81177\n",
      "QWK improved 0.797453 --> 0.811765 model saved\n",
      "Sun Jul  5 19:30:52 2020 epoch: 5\n"
     ]
    },
    {
     "data": {
      "application/vnd.jupyter.widget-view+json": {
       "model_id": "7a84131eec3a4fa1bc5e888e092a7005",
       "version_major": 2,
       "version_minor": 0
      },
      "text/plain": [
       "HBox(children=(FloatProgress(value=0.0, max=1315.0), HTML(value='')))"
      ]
     },
     "metadata": {},
     "output_type": "display_data"
    },
    {
     "name": "stdout",
     "output_type": "stream",
     "text": [
      "\n"
     ]
    },
    {
     "data": {
      "application/vnd.jupyter.widget-view+json": {
       "model_id": "8051e69ebaab482c84256b3849fe40d2",
       "version_major": 2,
       "version_minor": 0
      },
      "text/plain": [
       "HBox(children=(FloatProgress(value=0.0, max=439.0), HTML(value='')))"
      ]
     },
     "metadata": {},
     "output_type": "display_data"
    },
    {
     "name": "stdout",
     "output_type": "stream",
     "text": [
      "\n",
      "qwk 0.8416321929810006 qwk_k 0.8550935656823793 qwk_r 0.7911340055263785\n",
      "Sun Jul  5 19:48:30 2020 epoch 5, lr: 0.0002916, train loss: 0.26717, val loss: 0.23848, acc: 57.28414, QWK: 0.84163\n",
      "QWK improved 0.811765 --> 0.841632 model saved\n",
      "Sun Jul  5 19:48:30 2020 epoch: 6\n"
     ]
    },
    {
     "data": {
      "application/vnd.jupyter.widget-view+json": {
       "model_id": "a640b0fcfd9645ca8cddff3160e04870",
       "version_major": 2,
       "version_minor": 0
      },
      "text/plain": [
       "HBox(children=(FloatProgress(value=0.0, max=1315.0), HTML(value='')))"
      ]
     },
     "metadata": {},
     "output_type": "display_data"
    },
    {
     "name": "stdout",
     "output_type": "stream",
     "text": [
      "Gradient overflow.  Skipping step, loss scaler 0 reducing loss scale to 16384.0\n",
      "\n"
     ]
    },
    {
     "data": {
      "application/vnd.jupyter.widget-view+json": {
       "model_id": "7a396c0cc77f43e996d99439c21634d0",
       "version_major": 2,
       "version_minor": 0
      },
      "text/plain": [
       "HBox(children=(FloatProgress(value=0.0, max=439.0), HTML(value='')))"
      ]
     },
     "metadata": {},
     "output_type": "display_data"
    },
    {
     "name": "stdout",
     "output_type": "stream",
     "text": [
      "\n",
      "qwk 0.8410196372386558 qwk_k 0.8693168247755093 qwk_r 0.780235819946515\n",
      "Sun Jul  5 20:06:08 2020 epoch 6, lr: 0.0002851, train loss: 0.25931, val loss: 0.23813, acc: 59.60441, QWK: 0.84102\n",
      "Sun Jul  5 20:06:08 2020 epoch: 7\n"
     ]
    },
    {
     "data": {
      "application/vnd.jupyter.widget-view+json": {
       "model_id": "12aee64876a34ceeb53d51f2cbef43c3",
       "version_major": 2,
       "version_minor": 0
      },
      "text/plain": [
       "HBox(children=(FloatProgress(value=0.0, max=1315.0), HTML(value='')))"
      ]
     },
     "metadata": {},
     "output_type": "display_data"
    },
    {
     "name": "stdout",
     "output_type": "stream",
     "text": [
      "Gradient overflow.  Skipping step, loss scaler 0 reducing loss scale to 16384.0\n",
      "\n"
     ]
    },
    {
     "data": {
      "application/vnd.jupyter.widget-view+json": {
       "model_id": "975c6dbce6f149ae827ef40d5952b903",
       "version_major": 2,
       "version_minor": 0
      },
      "text/plain": [
       "HBox(children=(FloatProgress(value=0.0, max=439.0), HTML(value='')))"
      ]
     },
     "metadata": {},
     "output_type": "display_data"
    },
    {
     "name": "stdout",
     "output_type": "stream",
     "text": [
      "\n",
      "qwk 0.8292656503389255 qwk_k 0.8428259204170283 qwk_r 0.7778072170811147\n",
      "Sun Jul  5 20:23:47 2020 epoch 7, lr: 0.0002770, train loss: 0.24731, val loss: 0.24794, acc: 55.64854, QWK: 0.82927\n",
      "Sun Jul  5 20:23:47 2020 epoch: 8\n"
     ]
    },
    {
     "data": {
      "application/vnd.jupyter.widget-view+json": {
       "model_id": "d2c3249d7a6d4847ac79e0ea0667e987",
       "version_major": 2,
       "version_minor": 0
      },
      "text/plain": [
       "HBox(children=(FloatProgress(value=0.0, max=1315.0), HTML(value='')))"
      ]
     },
     "metadata": {},
     "output_type": "display_data"
    },
    {
     "name": "stdout",
     "output_type": "stream",
     "text": [
      "\n"
     ]
    },
    {
     "data": {
      "application/vnd.jupyter.widget-view+json": {
       "model_id": "d2ad83465784464e9ba11cfe26eefd7a",
       "version_major": 2,
       "version_minor": 0
      },
      "text/plain": [
       "HBox(children=(FloatProgress(value=0.0, max=439.0), HTML(value='')))"
      ]
     },
     "metadata": {},
     "output_type": "display_data"
    },
    {
     "name": "stdout",
     "output_type": "stream",
     "text": [
      "\n",
      "qwk 0.8482963197903948 qwk_k 0.8556163847952465 qwk_r 0.8079263032601327\n",
      "Sun Jul  5 20:41:25 2020 epoch 8, lr: 0.0002673, train loss: 0.23716, val loss: 0.23327, acc: 63.29403, QWK: 0.84830\n",
      "QWK improved 0.841632 --> 0.848296 model saved\n",
      "Sun Jul  5 20:41:25 2020 epoch: 9\n"
     ]
    },
    {
     "data": {
      "application/vnd.jupyter.widget-view+json": {
       "model_id": "c703a2f983184bd3bc135539399af414",
       "version_major": 2,
       "version_minor": 0
      },
      "text/plain": [
       "HBox(children=(FloatProgress(value=0.0, max=1315.0), HTML(value='')))"
      ]
     },
     "metadata": {},
     "output_type": "display_data"
    },
    {
     "name": "stdout",
     "output_type": "stream",
     "text": [
      "Gradient overflow.  Skipping step, loss scaler 0 reducing loss scale to 16384.0\n",
      "\n"
     ]
    },
    {
     "data": {
      "application/vnd.jupyter.widget-view+json": {
       "model_id": "a794f107c0bf4b859064cac92780ce6d",
       "version_major": 2,
       "version_minor": 0
      },
      "text/plain": [
       "HBox(children=(FloatProgress(value=0.0, max=439.0), HTML(value='')))"
      ]
     },
     "metadata": {},
     "output_type": "display_data"
    },
    {
     "name": "stdout",
     "output_type": "stream",
     "text": [
      "\n",
      "qwk 0.8647884929370624 qwk_k 0.8766461713588947 qwk_r 0.824104488396222\n",
      "Sun Jul  5 20:59:03 2020 epoch 9, lr: 0.0002561, train loss: 0.22960, val loss: 0.24007, acc: 59.87067, QWK: 0.86479\n",
      "QWK improved 0.848296 --> 0.864788 model saved\n",
      "Sun Jul  5 20:59:03 2020 epoch: 10\n"
     ]
    },
    {
     "data": {
      "application/vnd.jupyter.widget-view+json": {
       "model_id": "b0dc7bf7a5ae47aa87449ff6b56ae2a6",
       "version_major": 2,
       "version_minor": 0
      },
      "text/plain": [
       "HBox(children=(FloatProgress(value=0.0, max=1315.0), HTML(value='')))"
      ]
     },
     "metadata": {},
     "output_type": "display_data"
    },
    {
     "name": "stdout",
     "output_type": "stream",
     "text": [
      "\n"
     ]
    },
    {
     "data": {
      "application/vnd.jupyter.widget-view+json": {
       "model_id": "985b017e99bf4a62bdfab7790e169fc9",
       "version_major": 2,
       "version_minor": 0
      },
      "text/plain": [
       "HBox(children=(FloatProgress(value=0.0, max=439.0), HTML(value='')))"
      ]
     },
     "metadata": {},
     "output_type": "display_data"
    },
    {
     "name": "stdout",
     "output_type": "stream",
     "text": [
      "\n",
      "qwk 0.8499628149606527 qwk_k 0.8557468623559714 qwk_r 0.8126664127415072\n",
      "Sun Jul  5 21:16:41 2020 epoch 10, lr: 0.0002435, train loss: 0.22396, val loss: 0.22970, acc: 59.83264, QWK: 0.84996\n",
      "Sun Jul  5 21:16:41 2020 epoch: 11\n"
     ]
    },
    {
     "data": {
      "application/vnd.jupyter.widget-view+json": {
       "model_id": "f32a5d713af54abda50649852f22ad7c",
       "version_major": 2,
       "version_minor": 0
      },
      "text/plain": [
       "HBox(children=(FloatProgress(value=0.0, max=1315.0), HTML(value='')))"
      ]
     },
     "metadata": {},
     "output_type": "display_data"
    },
    {
     "name": "stdout",
     "output_type": "stream",
     "text": [
      "Gradient overflow.  Skipping step, loss scaler 0 reducing loss scale to 16384.0\n",
      "\n"
     ]
    },
    {
     "data": {
      "application/vnd.jupyter.widget-view+json": {
       "model_id": "babf92cdc4734c11b5bfb0da500d1633",
       "version_major": 2,
       "version_minor": 0
      },
      "text/plain": [
       "HBox(children=(FloatProgress(value=0.0, max=439.0), HTML(value='')))"
      ]
     },
     "metadata": {},
     "output_type": "display_data"
    },
    {
     "name": "stdout",
     "output_type": "stream",
     "text": [
      "\n",
      "qwk 0.8547173411199704 qwk_k 0.8750977070571939 qwk_r 0.8098812598809944\n",
      "Sun Jul  5 21:34:19 2020 epoch 11, lr: 0.0002298, train loss: 0.21677, val loss: 0.22275, acc: 63.67440, QWK: 0.85472\n",
      "Sun Jul  5 21:34:19 2020 epoch: 12\n"
     ]
    },
    {
     "data": {
      "application/vnd.jupyter.widget-view+json": {
       "model_id": "19079d40e0cc4a069deea5f4d0b52ec5",
       "version_major": 2,
       "version_minor": 0
      },
      "text/plain": [
       "HBox(children=(FloatProgress(value=0.0, max=1315.0), HTML(value='')))"
      ]
     },
     "metadata": {},
     "output_type": "display_data"
    },
    {
     "name": "stdout",
     "output_type": "stream",
     "text": [
      "Gradient overflow.  Skipping step, loss scaler 0 reducing loss scale to 8192.0\n",
      "\n"
     ]
    },
    {
     "data": {
      "application/vnd.jupyter.widget-view+json": {
       "model_id": "a5e7982f65414b5dbfe1b93c569a319e",
       "version_major": 2,
       "version_minor": 0
      },
      "text/plain": [
       "HBox(children=(FloatProgress(value=0.0, max=439.0), HTML(value='')))"
      ]
     },
     "metadata": {},
     "output_type": "display_data"
    },
    {
     "name": "stdout",
     "output_type": "stream",
     "text": [
      "\n",
      "qwk 0.8689491401362214 qwk_k 0.8852400067075019 qwk_r 0.824691754754126\n",
      "Sun Jul  5 21:51:59 2020 epoch 12, lr: 0.0002151, train loss: 0.21051, val loss: 0.22245, acc: 64.66337, QWK: 0.86895\n",
      "QWK improved 0.864788 --> 0.868949 model saved\n",
      "Sun Jul  5 21:51:59 2020 epoch: 13\n"
     ]
    },
    {
     "data": {
      "application/vnd.jupyter.widget-view+json": {
       "model_id": "eb4150e4970b415fa77113767b38a3d0",
       "version_major": 2,
       "version_minor": 0
      },
      "text/plain": [
       "HBox(children=(FloatProgress(value=0.0, max=1315.0), HTML(value='')))"
      ]
     },
     "metadata": {},
     "output_type": "display_data"
    },
    {
     "name": "stdout",
     "output_type": "stream",
     "text": [
      "\n"
     ]
    },
    {
     "data": {
      "application/vnd.jupyter.widget-view+json": {
       "model_id": "f102477a44e0434092a782fdd27ba344",
       "version_major": 2,
       "version_minor": 0
      },
      "text/plain": [
       "HBox(children=(FloatProgress(value=0.0, max=439.0), HTML(value='')))"
      ]
     },
     "metadata": {},
     "output_type": "display_data"
    },
    {
     "name": "stdout",
     "output_type": "stream",
     "text": [
      "\n",
      "qwk 0.8728476475199598 qwk_k 0.8903608589064833 qwk_r 0.8265279243635233\n",
      "Sun Jul  5 23:02:31 2020 epoch 16, lr: 0.0001500, train loss: 0.18280, val loss: 0.21585, acc: 63.21795, QWK: 0.87285\n",
      "QWK improved 0.868949 --> 0.872848 model saved\n",
      "Sun Jul  5 23:02:31 2020 epoch: 17\n"
     ]
    },
    {
     "data": {
      "application/vnd.jupyter.widget-view+json": {
       "model_id": "273b0bcfc9be48b4aced07c67eec224d",
       "version_major": 2,
       "version_minor": 0
      },
      "text/plain": [
       "HBox(children=(FloatProgress(value=0.0, max=1315.0), HTML(value='')))"
      ]
     },
     "metadata": {},
     "output_type": "display_data"
    },
    {
     "name": "stdout",
     "output_type": "stream",
     "text": [
      "Gradient overflow.  Skipping step, loss scaler 0 reducing loss scale to 16384.0\n",
      "Gradient overflow.  Skipping step, loss scaler 0 reducing loss scale to 8192.0\n",
      "\n"
     ]
    },
    {
     "data": {
      "application/vnd.jupyter.widget-view+json": {
       "model_id": "a817475c93ad44a39cf7c16be0c65d54",
       "version_major": 2,
       "version_minor": 0
      },
      "text/plain": [
       "HBox(children=(FloatProgress(value=0.0, max=439.0), HTML(value='')))"
      ]
     },
     "metadata": {},
     "output_type": "display_data"
    }
   ],
   "source": [
    "pred, target = [], []\n",
    "if DEBUG:\n",
    "    n_folds_train = 2\n",
    "else:\n",
    "    n_folds_train = M_PARAMS['N_FOLDS']\n",
    "start_folds_train = 0\n",
    "for fold_num in range(start_folds_train, n_folds_train):\n",
    "    print('-' * 20, 'fold:', fold_num, '-' * 20)\n",
    "    train_idx = np.where((df_train['fold'] != fold_num))[0]\n",
    "    valid_idx = np.where((df_train['fold'] == fold_num))[0]\n",
    "    df_this  = df_train.loc[train_idx]\n",
    "    df_valid = df_train.loc[valid_idx]\n",
    "    dataset_train = PANDADataset(\n",
    "        df_this, \n",
    "        M_PARAMS['IMAGE_SIZE'], \n",
    "        M_PARAMS['N_TILES'], \n",
    "        transform=transforms_train,\n",
    "        transform_tile=transforms_train_tile\n",
    "    )\n",
    "    dataset_valid = PANDADataset(\n",
    "        df_valid, \n",
    "        M_PARAMS['IMAGE_SIZE'], \n",
    "        M_PARAMS['N_TILES']\n",
    "    )\n",
    "    train_loader = torch.utils.data.DataLoader(\n",
    "        dataset_train, \n",
    "        batch_size=M_PARAMS['BATCH_SIZE'], \n",
    "        sampler=RandomSampler(dataset_train), \n",
    "        num_workers=M_PARAMS['N_WORKERS']\n",
    "    )\n",
    "    valid_loader = torch.utils.data.DataLoader(\n",
    "        dataset_valid, \n",
    "        batch_size=M_PARAMS['BATCH_SIZE'], \n",
    "        sampler=SequentialSampler(dataset_valid), \n",
    "        num_workers=M_PARAMS['N_WORKERS']\n",
    "    )\n",
    "    model = EffNet(M_PARAMS['ENET_TYPE'], out_dim=M_PARAMS['OUT_DIM']) \n",
    "    #model = ResNext(out_dim=OUT_DIM)\n",
    "    model = model.to(DEVICE)\n",
    "    optimizer = optim.Adam(model.parameters(), lr=M_PARAMS['LR'])\n",
    "    model, optimizer = amp.initialize(model, optimizer, opt_level='O1')\n",
    "    #scheduler = torch.optim.lr_scheduler.CosineAnnealingLR(optimizer, T_max=N_EPOCHS)\n",
    "    scheduler = torch.optim.lr_scheduler.OneCycleLR(\n",
    "        optimizer, \n",
    "        max_lr=M_PARAMS['LR'], \n",
    "        total_steps=M_PARAMS['N_EPOCHS'],\n",
    "        div_factor=30, \n",
    "        final_div_factor=10000,\n",
    "        pct_start=(2 / M_PARAMS['N_EPOCHS'])\n",
    "    )\n",
    "    print('train len:', len(dataset_train),'| val len:', len(dataset_valid))\n",
    "    qwk_max = 0\n",
    "    best_file = '{}/{}_best_fold{}.pth'.format(MODELS_PATH, M_PARAMS['ENET_TYPE'], fold_num)\n",
    "    for epoch in tqdm(range(M_PARAMS['N_EPOCHS']), desc='epochs'):\n",
    "        print(time.ctime(), 'epoch:', epoch)\n",
    "        train_loss = train_epoch(train_loader, optimizer)\n",
    "        val_loss, acc, qwk = val_epoch(valid_loader)\n",
    "        content = '{} epoch {}, lr: {:.7f}, train loss: {:.5f}, val loss: {:.5f}, acc: {:.5f}, QWK: {:.5f}'.format(\n",
    "                time.ctime(),\n",
    "                epoch, \n",
    "                optimizer.param_groups[0]['lr'], \n",
    "                np.mean(train_loss),\n",
    "                np.mean(val_loss),\n",
    "                acc,\n",
    "                qwk\n",
    "            )\n",
    "        print(content)\n",
    "        with open('{}/log_{}_fold{}.txt'.format(MODELS_PATH, M_PARAMS['ENET_TYPE'], fold_num), 'a') as appender:\n",
    "            appender.write(content + '\\n')\n",
    "        if qwk > qwk_max:\n",
    "            torch.save(model.state_dict(), best_file)\n",
    "            print('QWK improved {:.6f} --> {:.6f} model saved'.format(qwk_max, qwk))\n",
    "            qwk_max = qwk\n",
    "        scheduler.step(epoch)\n",
    "    with open('{}/log_{}_folds_all.txt'.format(MODELS_PATH, M_PARAMS['ENET_TYPE']), 'a') as appender:\n",
    "        appender.write('{} | fold: {} | max QWK: {:.6f}\\n'.format(M_PARAMS, fold_num, qwk_max))\n",
    "    torch.save(\n",
    "        model.state_dict(), \n",
    "        os.path.join('{}/{}_final_fold{}.pth'.format(MODELS_PATH, M_PARAMS['ENET_TYPE'], fold_num))\n",
    "    )\n",
    "    del model, dataset_train, dataset_valid, train_loader, valid_loader\n",
    "    torch.cuda.empty_cache()\n",
    "    gc.collect()"
   ]
  },
  {
   "cell_type": "code",
   "execution_count": null,
   "metadata": {},
   "outputs": [],
   "source": []
  }
 ],
 "metadata": {
  "kernelspec": {
   "display_name": "Orange Python 3 (2 GPUs)",
   "language": "python",
   "name": "orange2gpu"
  },
  "language_info": {
   "codemirror_mode": {
    "name": "ipython",
    "version": 3
   },
   "file_extension": ".py",
   "mimetype": "text/x-python",
   "name": "python",
   "nbconvert_exporter": "python",
   "pygments_lexer": "ipython3",
   "version": "3.7.6"
  }
 },
 "nbformat": 4,
 "nbformat_minor": 4
}
