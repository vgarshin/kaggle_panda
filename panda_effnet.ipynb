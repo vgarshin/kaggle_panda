{
 "cells": [
  {
   "cell_type": "code",
   "execution_count": 1,
   "metadata": {},
   "outputs": [
    {
     "name": "stdout",
     "output_type": "stream",
     "text": [
      "0 Graphics Device\n",
      "  allocated: 0.0 GB\n",
      "  cached:    0.0 GB\n",
      "1 Graphics Device\n",
      "  allocated: 0.0 GB\n",
      "  cached:    0.0 GB\n"
     ]
    }
   ],
   "source": [
    "import os\n",
    "import gc\n",
    "import sys\n",
    "import time\n",
    "import numpy as np\n",
    "import pandas as pd\n",
    "import cv2\n",
    "import PIL.Image\n",
    "import torch\n",
    "import torch.nn as nn\n",
    "import torch.nn.functional as F\n",
    "import torch.optim as optim\n",
    "from apex import amp\n",
    "import torchvision\n",
    "from torch.optim import lr_scheduler\n",
    "from torch.utils.data import DataLoader, Dataset\n",
    "from torch.utils.data.sampler import SubsetRandomSampler, RandomSampler, SequentialSampler\n",
    "from efficientnet_pytorch import model as enet\n",
    "import albumentations\n",
    "from sklearn.model_selection import StratifiedKFold\n",
    "import matplotlib.pyplot as plt\n",
    "from sklearn.metrics import cohen_kappa_score\n",
    "from tqdm.notebook import tqdm\n",
    "DEVICE = torch.device('cuda')\n",
    "for i in range(torch.cuda.device_count()):\n",
    "    print(i, torch.cuda.get_device_name(i))\n",
    "    print('  allocated:', round(torch.cuda.memory_allocated(i) / 1024 ** 3, 1), 'GB')\n",
    "    print('  cached:   ', round(torch.cuda.memory_cached(i) / 1024 ** 3, 1), 'GB')"
   ]
  },
  {
   "cell_type": "code",
   "execution_count": 2,
   "metadata": {},
   "outputs": [
    {
     "name": "stdout",
     "output_type": "stream",
     "text": [
      "{'MODEL_VER': 'v13', 'TILES_DIR': './data/train_images_tiles_q1_256_36/', 'ENET_TYPE': 'efficientnet-b0', 'N_FOLDS': 5, 'TILE_SIZE': 256, 'N_TILES': 25, 'BATCH_SIZE': 8, 'N_WORKERS': 24, 'OUT_DIM': 5, 'LR': 0.0003, 'N_EPOCHS': 40, 'WARMUP': True, 'COMMENTS': 'seed 2020'}\n"
     ]
    }
   ],
   "source": [
    "MAIN_PATH = '.'\n",
    "DATA_PATH = '{}/data'.format(MAIN_PATH)\n",
    "LABELS_PATH = '{}/train.csv'.format(DATA_PATH)\n",
    "DEBUG = False\n",
    "APEX = True\n",
    "M_PARAMS = {\n",
    "    'MODEL_VER': 'v13',\n",
    "    'TILES_DIR': '{}/train_images_tiles_q1_256_36/'.format(DATA_PATH),\n",
    "    'ENET_TYPE': 'efficientnet-b0',\n",
    "    'N_FOLDS': 5,\n",
    "    'TILE_SIZE': 256,\n",
    "    'N_TILES': 25,\n",
    "    'BATCH_SIZE': 8,\n",
    "    'N_WORKERS': 24,\n",
    "    'OUT_DIM': 5,\n",
    "    'LR': 3e-4,\n",
    "    'N_EPOCHS': 10 if DEBUG else 40,\n",
    "    'WARMUP': True,\n",
    "    'COMMENTS': 'seed 2020'\n",
    "}\n",
    "print(M_PARAMS)\n",
    "MODELS_PATH = '{}/effnet_models_{}'.format(MAIN_PATH, M_PARAMS['MODEL_VER'])\n",
    "if not os.path.exists(MODELS_PATH):\n",
    "    os.mkdir(MODELS_PATH)\n",
    "    print('created:', MODELS_PATH)\n",
    "PRETRAINED_MODEL = {\n",
    "    'efficientnet-b0': './bbs/efficientnet-b0-355c32eb.pth',\n",
    "    'efficientnet-b1': './bbs/efficientnet-b1-f1951068.pth',\n",
    "    'efficientnet-b2': './bbs/efficientnet-b2-8bb594d6.pth',\n",
    "    'efficientnet-b3': './bbs/efficientnet-b3-5fb5a3c3.pth'\n",
    "}"
   ]
  },
  {
   "cell_type": "code",
   "execution_count": 3,
   "metadata": {},
   "outputs": [
    {
     "data": {
      "text/html": [
       "<div>\n",
       "<style scoped>\n",
       "    .dataframe tbody tr th:only-of-type {\n",
       "        vertical-align: middle;\n",
       "    }\n",
       "\n",
       "    .dataframe tbody tr th {\n",
       "        vertical-align: top;\n",
       "    }\n",
       "\n",
       "    .dataframe thead th {\n",
       "        text-align: right;\n",
       "    }\n",
       "</style>\n",
       "<table border=\"1\" class=\"dataframe\">\n",
       "  <thead>\n",
       "    <tr style=\"text-align: right;\">\n",
       "      <th></th>\n",
       "      <th>Unnamed: 0</th>\n",
       "      <th>image_id</th>\n",
       "      <th>data_provider</th>\n",
       "      <th>isup_grade</th>\n",
       "      <th>gleason_score</th>\n",
       "    </tr>\n",
       "  </thead>\n",
       "  <tbody>\n",
       "    <tr>\n",
       "      <th>0</th>\n",
       "      <td>0</td>\n",
       "      <td>0005f7aaab2800f6170c399693a96917</td>\n",
       "      <td>karolinska</td>\n",
       "      <td>0</td>\n",
       "      <td>0+0</td>\n",
       "    </tr>\n",
       "    <tr>\n",
       "      <th>1</th>\n",
       "      <td>1</td>\n",
       "      <td>000920ad0b612851f8e01bcc880d9b3d</td>\n",
       "      <td>karolinska</td>\n",
       "      <td>0</td>\n",
       "      <td>0+0</td>\n",
       "    </tr>\n",
       "    <tr>\n",
       "      <th>2</th>\n",
       "      <td>2</td>\n",
       "      <td>0018ae58b01bdadc8e347995b69f99aa</td>\n",
       "      <td>radboud</td>\n",
       "      <td>4</td>\n",
       "      <td>4+4</td>\n",
       "    </tr>\n",
       "    <tr>\n",
       "      <th>3</th>\n",
       "      <td>3</td>\n",
       "      <td>001c62abd11fa4b57bf7a6c603a11bb9</td>\n",
       "      <td>karolinska</td>\n",
       "      <td>4</td>\n",
       "      <td>4+4</td>\n",
       "    </tr>\n",
       "    <tr>\n",
       "      <th>4</th>\n",
       "      <td>4</td>\n",
       "      <td>001d865e65ef5d2579c190a0e0350d8f</td>\n",
       "      <td>karolinska</td>\n",
       "      <td>0</td>\n",
       "      <td>0+0</td>\n",
       "    </tr>\n",
       "  </tbody>\n",
       "</table>\n",
       "</div>"
      ],
      "text/plain": [
       "   Unnamed: 0                          image_id data_provider  isup_grade  \\\n",
       "0           0  0005f7aaab2800f6170c399693a96917    karolinska           0   \n",
       "1           1  000920ad0b612851f8e01bcc880d9b3d    karolinska           0   \n",
       "2           2  0018ae58b01bdadc8e347995b69f99aa       radboud           4   \n",
       "3           3  001c62abd11fa4b57bf7a6c603a11bb9    karolinska           4   \n",
       "4           4  001d865e65ef5d2579c190a0e0350d8f    karolinska           0   \n",
       "\n",
       "  gleason_score  \n",
       "0           0+0  \n",
       "1           0+0  \n",
       "2           4+4  \n",
       "3           4+4  \n",
       "4           0+0  "
      ]
     },
     "execution_count": 3,
     "metadata": {},
     "output_type": "execute_result"
    }
   ],
   "source": [
    "if DEBUG:\n",
    "    df_train = pd.read_csv(os.path.join(DATA_PATH, 'train_dsph.csv')).sample(100).reset_index(drop=True)\n",
    "else:\n",
    "    df_train = pd.read_csv(os.path.join(DATA_PATH, 'train_dsph.csv'))\n",
    "df_train.head()"
   ]
  },
  {
   "cell_type": "code",
   "execution_count": 4,
   "metadata": {},
   "outputs": [
    {
     "data": {
      "text/html": [
       "<div>\n",
       "<style scoped>\n",
       "    .dataframe tbody tr th:only-of-type {\n",
       "        vertical-align: middle;\n",
       "    }\n",
       "\n",
       "    .dataframe tbody tr th {\n",
       "        vertical-align: top;\n",
       "    }\n",
       "\n",
       "    .dataframe thead th {\n",
       "        text-align: right;\n",
       "    }\n",
       "</style>\n",
       "<table border=\"1\" class=\"dataframe\">\n",
       "  <thead>\n",
       "    <tr style=\"text-align: right;\">\n",
       "      <th></th>\n",
       "      <th>Unnamed: 0</th>\n",
       "      <th>image_id</th>\n",
       "      <th>data_provider</th>\n",
       "      <th>isup_grade</th>\n",
       "      <th>gleason_score</th>\n",
       "      <th>fold</th>\n",
       "    </tr>\n",
       "  </thead>\n",
       "  <tbody>\n",
       "    <tr>\n",
       "      <th>0</th>\n",
       "      <td>0</td>\n",
       "      <td>0005f7aaab2800f6170c399693a96917</td>\n",
       "      <td>karolinska</td>\n",
       "      <td>0</td>\n",
       "      <td>0+0</td>\n",
       "      <td>0</td>\n",
       "    </tr>\n",
       "    <tr>\n",
       "      <th>1</th>\n",
       "      <td>1</td>\n",
       "      <td>000920ad0b612851f8e01bcc880d9b3d</td>\n",
       "      <td>karolinska</td>\n",
       "      <td>0</td>\n",
       "      <td>0+0</td>\n",
       "      <td>1</td>\n",
       "    </tr>\n",
       "    <tr>\n",
       "      <th>2</th>\n",
       "      <td>2</td>\n",
       "      <td>0018ae58b01bdadc8e347995b69f99aa</td>\n",
       "      <td>radboud</td>\n",
       "      <td>4</td>\n",
       "      <td>4+4</td>\n",
       "      <td>1</td>\n",
       "    </tr>\n",
       "    <tr>\n",
       "      <th>3</th>\n",
       "      <td>3</td>\n",
       "      <td>001c62abd11fa4b57bf7a6c603a11bb9</td>\n",
       "      <td>karolinska</td>\n",
       "      <td>4</td>\n",
       "      <td>4+4</td>\n",
       "      <td>0</td>\n",
       "    </tr>\n",
       "    <tr>\n",
       "      <th>4</th>\n",
       "      <td>4</td>\n",
       "      <td>001d865e65ef5d2579c190a0e0350d8f</td>\n",
       "      <td>karolinska</td>\n",
       "      <td>0</td>\n",
       "      <td>0+0</td>\n",
       "      <td>1</td>\n",
       "    </tr>\n",
       "  </tbody>\n",
       "</table>\n",
       "</div>"
      ],
      "text/plain": [
       "   Unnamed: 0                          image_id data_provider  isup_grade  \\\n",
       "0           0  0005f7aaab2800f6170c399693a96917    karolinska           0   \n",
       "1           1  000920ad0b612851f8e01bcc880d9b3d    karolinska           0   \n",
       "2           2  0018ae58b01bdadc8e347995b69f99aa       radboud           4   \n",
       "3           3  001c62abd11fa4b57bf7a6c603a11bb9    karolinska           4   \n",
       "4           4  001d865e65ef5d2579c190a0e0350d8f    karolinska           0   \n",
       "\n",
       "  gleason_score  fold  \n",
       "0           0+0     0  \n",
       "1           0+0     1  \n",
       "2           4+4     1  \n",
       "3           4+4     0  \n",
       "4           0+0     1  "
      ]
     },
     "execution_count": 4,
     "metadata": {},
     "output_type": "execute_result"
    }
   ],
   "source": [
    "skf = StratifiedKFold(M_PARAMS['N_FOLDS'], shuffle=True, random_state=2020)\n",
    "df_train['fold'] = -1\n",
    "for i, (train_idx, valid_idx) in enumerate(skf.split(df_train, df_train['isup_grade'])):\n",
    "    df_train.loc[valid_idx, 'fold'] = i\n",
    "df_train.head()"
   ]
  },
  {
   "cell_type": "code",
   "execution_count": 5,
   "metadata": {},
   "outputs": [],
   "source": [
    "class EffNet(nn.Module):\n",
    "    def __init__(self, backbone, out_dim):\n",
    "        super(EffNet, self).__init__()\n",
    "        self.enet = enet.EfficientNet.from_name(backbone)\n",
    "        self.enet.load_state_dict(torch.load(PRETRAINED_MODEL[backbone]))\n",
    "        #self.enet = enet.EfficientNet.from_pretrained(backbone)\n",
    "        nc = self.enet._fc.in_features\n",
    "        self.myfc = nn.Linear(nc, out_dim)\n",
    "        self.enet._fc = nn.Identity()\n",
    "        self.enet = nn.DataParallel(self.enet)\n",
    "    def forward(self, x):\n",
    "        x = self.enet(x)\n",
    "        x = self.myfc(x)\n",
    "        return x\n",
    "class EffNet_(nn.Module):\n",
    "    def __init__(self, backbone, out_dim):\n",
    "        super(EffNet_, self).__init__()\n",
    "        self.enet = enet.EfficientNet.from_name(backbone)\n",
    "        self.enet.load_state_dict(torch.load(PRETRAINED_MODEL[backbone]))\n",
    "        nc = self.enet._fc.in_features\n",
    "        self.enet._fc = nn.Identity()\n",
    "        self.enet = nn.DataParallel(self.enet)\n",
    "        self.myfc = nn.DataParallel(nn.Sequential(\n",
    "            nn.Linear(nc, int(nc / 4)),\n",
    "            nn.ELU(),\n",
    "            nn.BatchNorm1d(int(nc / 4)), \n",
    "            nn.Dropout(.4),\n",
    "            nn.Linear(int(nc / 4), out_dim)\n",
    "        ))\n",
    "    def extract(self, x):\n",
    "        return self.enet(x)\n",
    "    def forward(self, x):\n",
    "        x = self.extract(x)\n",
    "        x = self.myfc(x)\n",
    "        return x\n",
    "class ResNext(nn.Module):\n",
    "    def __init__(self, out_dim):\n",
    "        super(ResNext, self).__init__()\n",
    "        self.rsnxt = torchvision.models.resnext50_32x4d(pretrained=True)\n",
    "        nc = self.rsnxt.fc.in_features\n",
    "        self.rsnxt.fc = nn.Sequential(\n",
    "            Flatten(),\n",
    "            nn.Linear(nc, int(nc / 2)),\n",
    "            nn.ReLU(),\n",
    "            nn.BatchNorm1d(int(nc / 2)), \n",
    "            nn.Dropout(.4),\n",
    "            nn.Linear(int(nc / 2), out_dim)\n",
    "        )\n",
    "        self.rsnxt = nn.DataParallel(self.rsnxt)\n",
    "    def forward(self, x):\n",
    "        x = self.rsnxt(x)\n",
    "        return x"
   ]
  },
  {
   "cell_type": "code",
   "execution_count": 6,
   "metadata": {},
   "outputs": [],
   "source": [
    "def get_tiles(img_id, n_tiles):\n",
    "        result = []\n",
    "        seq_imgs = []\n",
    "        for i in range(n_tiles):\n",
    "            img_path = '{}/{}_{}.png'.format(M_PARAMS['TILES_DIR'], img_id, i)\n",
    "            img = cv2.imread(img_path)\n",
    "            if not np.any(img):\n",
    "                print('no img file read:', img_path)\n",
    "            img = cv2.cvtColor(img, cv2.COLOR_BGR2RGB)\n",
    "            seq_imgs.append(img)\n",
    "        for i in range(len(seq_imgs)):\n",
    "            result.append({'img':seq_imgs[i], 'idx':i})\n",
    "        return result\n",
    "class PANDADataset(Dataset):\n",
    "    def __init__(self, df, tile_size, n_tiles, tile_mode=0, rand=False,\n",
    "                 transform=None, transform_tile=None):\n",
    "        self.df = df.reset_index(drop=True)\n",
    "        self.tile_size = tile_size\n",
    "        self.n_tiles = n_tiles\n",
    "        self.tile_mode = tile_mode\n",
    "        self.rand = rand\n",
    "        self.transform = transform\n",
    "        self.transform_tile = transform_tile\n",
    "    def __len__(self):\n",
    "        return self.df.shape[0]\n",
    "    def __getitem__(self, index):\n",
    "        row = self.df.iloc[index]\n",
    "        img_id = row.image_id\n",
    "        tiles = get_tiles(img_id, self.n_tiles)\n",
    "        if self.rand:\n",
    "            idxes = np.random.choice(list(range(self.n_tiles)), self.n_tiles, replace=False)\n",
    "        else:\n",
    "            idxes = list(range(self.n_tiles))\n",
    "        n_row_tiles = int(np.sqrt(self.n_tiles))\n",
    "        images = np.zeros((self.tile_size * n_row_tiles, self.tile_size * n_row_tiles, 3))\n",
    "        for h in range(n_row_tiles):\n",
    "            for w in range(n_row_tiles):\n",
    "                i = h * n_row_tiles + w\n",
    "                if len(tiles) > idxes[i]:\n",
    "                    this_img = tiles[idxes[i]]['img']\n",
    "                else:\n",
    "                    this_img = np.ones((self.tile_size, self.tile_size, 3)).astype(np.uint8) * 255\n",
    "                this_img = (255 - this_img) / 255\n",
    "                if self.transform_tile is not None:\n",
    "                    this_img = self.transform_tile(image=this_img)['image']\n",
    "                h1 = h * self.tile_size\n",
    "                w1 = w * self.tile_size\n",
    "                images[h1 : h1 + self.tile_size, w1:w1 + self.tile_size] = this_img\n",
    "        images = images.astype(np.float32)\n",
    "        if self.transform is not None:\n",
    "            images = self.transform(image=images)['image']\n",
    "        images = images.transpose(2, 0, 1)\n",
    "        label = np.zeros(5).astype(np.float32)\n",
    "        label[:row.isup_grade] = 1.\n",
    "        return torch.tensor(images), torch.tensor(label)"
   ]
  },
  {
   "cell_type": "code",
   "execution_count": 7,
   "metadata": {},
   "outputs": [],
   "source": [
    "transforms_train = albumentations.Compose(\n",
    "    [\n",
    "        albumentations.OneOf(\n",
    "            [\n",
    "                albumentations.RandomBrightness(limit=.1), \n",
    "                albumentations.RandomContrast(limit=.1), \n",
    "                albumentations.RandomGamma()\n",
    "            ], \n",
    "            p=.33\n",
    "        ),\n",
    "        albumentations.Transpose(p=.5),\n",
    "        albumentations.VerticalFlip(p=.5),\n",
    "        albumentations.HorizontalFlip(p=.5),\n",
    "        albumentations.Rotate(limit=15, p=.33)\n",
    "    ]\n",
    ")\n",
    "transforms_train_tile = albumentations.Compose(\n",
    "    [\n",
    "        albumentations.Transpose(p=.5),\n",
    "        albumentations.VerticalFlip(p=.5),\n",
    "        albumentations.HorizontalFlip(p=.5)\n",
    "    ]\n",
    ")"
   ]
  },
  {
   "cell_type": "code",
   "execution_count": 8,
   "metadata": {},
   "outputs": [
    {
     "data": {
      "image/png": "[encoded data removed]",
      "text/plain": [
       "<Figure size 1152x288 with 8 Axes>"
      ]
     },
     "metadata": {
      "needs_background": "light"
     },
     "output_type": "display_data"
    }
   ],
   "source": [
    "dataset_show = PANDADataset(\n",
    "    df_train,\n",
    "    M_PARAMS['TILE_SIZE'], \n",
    "    M_PARAMS['N_TILES'], \n",
    "    tile_mode=0, \n",
    "    transform=transforms_train,\n",
    "    transform_tile=transforms_train_tile\n",
    ")\n",
    "from pylab import rcParams\n",
    "rcParams['figure.figsize'] = (16, 4)\n",
    "f, axarr = plt.subplots(1, M_PARAMS['BATCH_SIZE'])\n",
    "for i in range(M_PARAMS['BATCH_SIZE']):\n",
    "    img, label = dataset_show.__getitem__(i)\n",
    "    axarr[i].imshow(1. - img.transpose(0, 1).transpose(1,2).squeeze())\n",
    "    axarr[i].set_title(str(sum(label)))"
   ]
  },
  {
   "cell_type": "code",
   "execution_count": 9,
   "metadata": {},
   "outputs": [],
   "source": [
    "criterion = nn.BCEWithLogitsLoss()\n",
    "def train_epoch(loader, optimizer):\n",
    "    model.train()\n",
    "    train_loss = []\n",
    "    bar = tqdm(loader)\n",
    "    for (data, target) in bar:\n",
    "        data, target = data.to(DEVICE), target.to(DEVICE)\n",
    "        loss_func = criterion\n",
    "        optimizer.zero_grad()\n",
    "        logits = model(data)\n",
    "        loss = loss_func(logits, target)\n",
    "        with amp.scale_loss(loss, optimizer) as scaled_loss:\n",
    "            scaled_loss.backward()\n",
    "        #loss.backward()\n",
    "        optimizer.step()\n",
    "        loss_np = loss.detach().cpu().numpy()\n",
    "        train_loss.append(loss_np)\n",
    "        smooth_loss = sum(train_loss[-100:]) / min(len(train_loss), 100)\n",
    "        bar.set_description('loss: %.5f, smth: %.5f' % (loss_np, smooth_loss))\n",
    "    return train_loss\n",
    "def val_epoch(loader, get_output=False):\n",
    "    model.eval()\n",
    "    val_loss = []\n",
    "    LOGITS = []\n",
    "    PREDS = []\n",
    "    TARGETS = []\n",
    "    with torch.no_grad():\n",
    "        for (data, target) in tqdm(loader):\n",
    "            data, target = data.to(DEVICE), target.to(DEVICE)\n",
    "            logits = model(data)\n",
    "            loss = criterion(logits, target)\n",
    "            pred = logits.sigmoid().sum(1).detach().round()\n",
    "            LOGITS.append(logits)\n",
    "            PREDS.append(pred)\n",
    "            TARGETS.append(target.sum(1))\n",
    "            val_loss.append(loss.detach().cpu().numpy())\n",
    "        val_loss = np.mean(val_loss)\n",
    "    LOGITS = torch.cat(LOGITS).cpu().numpy()\n",
    "    PREDS = torch.cat(PREDS).cpu().numpy()\n",
    "    TARGETS = torch.cat(TARGETS).cpu().numpy()\n",
    "    acc = (PREDS == TARGETS).mean() * 100.\n",
    "    qwk = cohen_kappa_score(PREDS, TARGETS, weights='quadratic')\n",
    "    qwk_k = cohen_kappa_score(\n",
    "        PREDS[df_valid['data_provider'] == 'karolinska'], \n",
    "        df_valid[df_valid['data_provider'] == 'karolinska'].isup_grade.values, \n",
    "        weights='quadratic'\n",
    "    )\n",
    "    qwk_r = cohen_kappa_score(\n",
    "        PREDS[df_valid['data_provider'] == 'radboud'], \n",
    "        df_valid[df_valid['data_provider'] == 'radboud'].isup_grade.values, \n",
    "        weights='quadratic'\n",
    "    )\n",
    "    print('QWK', qwk, 'QWK_k', qwk_k, 'QWK_r', qwk_r)\n",
    "    if get_output:\n",
    "        return LOGITS\n",
    "    else:\n",
    "        return val_loss, acc, qwk"
   ]
  },
  {
   "cell_type": "code",
   "execution_count": null,
   "metadata": {
    "scrolled": true
   },
   "outputs": [
    {
     "name": "stdout",
     "output_type": "stream",
     "text": [
      "-------------------- fold: 0 --------------------\n",
      "Selected optimization level O1:  Insert automatic casts around Pytorch functions and Tensor methods.\n",
      "\n",
      "Defaults for this optimization level are:\n",
      "enabled                : True\n",
      "opt_level              : O1\n",
      "cast_model_type        : None\n",
      "patch_torch_functions  : True\n",
      "keep_batchnorm_fp32    : None\n",
      "master_weights         : None\n",
      "loss_scale             : dynamic\n",
      "Processing user overrides (additional kwargs that are not None)...\n",
      "After processing overrides, optimization options are:\n",
      "enabled                : True\n",
      "opt_level              : O1\n",
      "cast_model_type        : None\n",
      "patch_torch_functions  : True\n",
      "keep_batchnorm_fp32    : None\n",
      "master_weights         : None\n",
      "loss_scale             : dynamic\n",
      "Warning:  multi_tensor_applier fused unscale kernel is unavailable, possibly because apex was installed without --cuda_ext --cpp_ext. Using Python fallback.  Original ImportError was: ModuleNotFoundError(\"No module named 'amp_C'\")\n",
      "train len: 8412 | val len: 2104\n"
     ]
    },
    {
     "data": {
      "application/vnd.jupyter.widget-view+json": {
       "model_id": "ede3449b442f47269980f3d404fde09e",
       "version_major": 2,
       "version_minor": 0
      },
      "text/plain": [
       "HBox(children=(FloatProgress(value=0.0, description='epochs', max=40.0, style=ProgressStyle(description_width=…"
      ]
     },
     "metadata": {},
     "output_type": "display_data"
    },
    {
     "name": "stdout",
     "output_type": "stream",
     "text": [
      "Thu Jul  9 17:50:32 2020 epoch: 0\n"
     ]
    },
    {
     "data": {
      "application/vnd.jupyter.widget-view+json": {
       "model_id": "31ac62d5df0e41279cd6346731fb0e87",
       "version_major": 2,
       "version_minor": 0
      },
      "text/plain": [
       "HBox(children=(FloatProgress(value=0.0, max=1052.0), HTML(value='')))"
      ]
     },
     "metadata": {},
     "output_type": "display_data"
    },
    {
     "name": "stdout",
     "output_type": "stream",
     "text": [
      "\n"
     ]
    },
    {
     "data": {
      "application/vnd.jupyter.widget-view+json": {
       "model_id": "25a45ce51ab3490d9f77078f99f221d5",
       "version_major": 2,
       "version_minor": 0
      },
      "text/plain": [
       "HBox(children=(FloatProgress(value=0.0, max=263.0), HTML(value='')))"
      ]
     },
     "metadata": {},
     "output_type": "display_data"
    },
    {
     "name": "stdout",
     "output_type": "stream",
     "text": [
      "\n",
      "QWK 0.5808922708297077 QWK_k 0.5011806391792488 QWK_r 0.49495994268351406\n",
      "Thu Jul  9 18:04:38 2020 epoch 0, lr: 0.00001000, train loss: 0.5317, val loss: 0.3883, acc: 28.0, QWK: 0.5809\n",
      "QWK improved 0.000000 --> 0.580892 model saved\n",
      "Thu Jul  9 18:04:38 2020 epoch: 1\n"
     ]
    },
    {
     "data": {
      "application/vnd.jupyter.widget-view+json": {
       "model_id": "8c95560758a24f3690d59eb740852636",
       "version_major": 2,
       "version_minor": 0
      },
      "text/plain": [
       "HBox(children=(FloatProgress(value=0.0, max=1052.0), HTML(value='')))"
      ]
     },
     "metadata": {},
     "output_type": "display_data"
    },
    {
     "name": "stdout",
     "output_type": "stream",
     "text": [
      "Gradient overflow.  Skipping step, loss scaler 0 reducing loss scale to 32768.0\n",
      "\n"
     ]
    },
    {
     "data": {
      "application/vnd.jupyter.widget-view+json": {
       "model_id": "5943711c301c4d99889c4212a45a3782",
       "version_major": 2,
       "version_minor": 0
      },
      "text/plain": [
       "HBox(children=(FloatProgress(value=0.0, max=263.0), HTML(value='')))"
      ]
     },
     "metadata": {},
     "output_type": "display_data"
    },
    {
     "name": "stdout",
     "output_type": "stream",
     "text": [
      "\n",
      "QWK 0.6962394467374682 QWK_k 0.6714133409253576 QWK_r 0.6337209905578804\n",
      "Thu Jul  9 18:18:38 2020 epoch 1, lr: 0.00030000, train loss: 0.4127, val loss: 0.3356, acc: 36.3, QWK: 0.6962\n",
      "QWK improved 0.580892 --> 0.696239 model saved\n",
      "Thu Jul  9 18:18:38 2020 epoch: 2\n"
     ]
    },
    {
     "data": {
      "application/vnd.jupyter.widget-view+json": {
       "model_id": "4fb1af9b51c74d30a916b8cc328a0d0e",
       "version_major": 2,
       "version_minor": 0
      },
      "text/plain": [
       "HBox(children=(FloatProgress(value=0.0, max=1052.0), HTML(value='')))"
      ]
     },
     "metadata": {},
     "output_type": "display_data"
    },
    {
     "name": "stdout",
     "output_type": "stream",
     "text": [
      "\n"
     ]
    },
    {
     "data": {
      "application/vnd.jupyter.widget-view+json": {
       "model_id": "323ef20d934a4454926456763e8e3f81",
       "version_major": 2,
       "version_minor": 0
      },
      "text/plain": [
       "HBox(children=(FloatProgress(value=0.0, max=263.0), HTML(value='')))"
      ]
     },
     "metadata": {},
     "output_type": "display_data"
    },
    {
     "name": "stdout",
     "output_type": "stream",
     "text": [
      "\n",
      "QWK 0.8157013804713473 QWK_k 0.7955346496693804 QWK_r 0.7772321583970927\n",
      "Thu Jul  9 18:32:38 2020 epoch 2, lr: 0.00029949, train loss: 0.3680, val loss: 0.2725, acc: 54.5, QWK: 0.8157\n",
      "QWK improved 0.696239 --> 0.815701 model saved\n",
      "Thu Jul  9 18:32:38 2020 epoch: 3\n"
     ]
    },
    {
     "data": {
      "application/vnd.jupyter.widget-view+json": {
       "model_id": "ae2189faf95745498cf891ee48b1a421",
       "version_major": 2,
       "version_minor": 0
      },
      "text/plain": [
       "HBox(children=(FloatProgress(value=0.0, max=1052.0), HTML(value='')))"
      ]
     },
     "metadata": {},
     "output_type": "display_data"
    },
    {
     "name": "stdout",
     "output_type": "stream",
     "text": [
      "Gradient overflow.  Skipping step, loss scaler 0 reducing loss scale to 32768.0\n",
      "\n"
     ]
    },
    {
     "data": {
      "application/vnd.jupyter.widget-view+json": {
       "model_id": "c0177c6cfcf6439e871668b37e7557c4",
       "version_major": 2,
       "version_minor": 0
      },
      "text/plain": [
       "HBox(children=(FloatProgress(value=0.0, max=263.0), HTML(value='')))"
      ]
     },
     "metadata": {},
     "output_type": "display_data"
    },
    {
     "name": "stdout",
     "output_type": "stream",
     "text": [
      "\n",
      "QWK 0.8300428968415298 QWK_k 0.8325893580641996 QWK_r 0.7842601133062104\n",
      "Thu Jul  9 18:46:38 2020 epoch 3, lr: 0.00029795, train loss: 0.3023, val loss: 0.2699, acc: 58.7, QWK: 0.8300\n",
      "QWK improved 0.815701 --> 0.830043 model saved\n",
      "Thu Jul  9 18:46:38 2020 epoch: 4\n"
     ]
    },
    {
     "data": {
      "application/vnd.jupyter.widget-view+json": {
       "model_id": "8e65c2cc8c8b4409ab40a2b3fb985e5a",
       "version_major": 2,
       "version_minor": 0
      },
      "text/plain": [
       "HBox(children=(FloatProgress(value=0.0, max=1052.0), HTML(value='')))"
      ]
     },
     "metadata": {},
     "output_type": "display_data"
    },
    {
     "name": "stdout",
     "output_type": "stream",
     "text": [
      "Gradient overflow.  Skipping step, loss scaler 0 reducing loss scale to 16384.0\n",
      "\n"
     ]
    },
    {
     "data": {
      "application/vnd.jupyter.widget-view+json": {
       "model_id": "36c1af3f6fcd4936b8841d0302b4e63a",
       "version_major": 2,
       "version_minor": 0
      },
      "text/plain": [
       "HBox(children=(FloatProgress(value=0.0, max=263.0), HTML(value='')))"
      ]
     },
     "metadata": {},
     "output_type": "display_data"
    },
    {
     "name": "stdout",
     "output_type": "stream",
     "text": [
      "\n",
      "QWK 0.8197529287824078 QWK_k 0.8289491013835238 QWK_r 0.7706484051400389\n",
      "Thu Jul  9 19:00:39 2020 epoch 4, lr: 0.00029541, train loss: 0.2750, val loss: 0.2605, acc: 60.0, QWK: 0.8198\n",
      "Thu Jul  9 19:00:39 2020 epoch: 5\n"
     ]
    },
    {
     "data": {
      "application/vnd.jupyter.widget-view+json": {
       "model_id": "59c0f52d6977442fad40a6eb92c2ba42",
       "version_major": 2,
       "version_minor": 0
      },
      "text/plain": [
       "HBox(children=(FloatProgress(value=0.0, max=1052.0), HTML(value='')))"
      ]
     },
     "metadata": {},
     "output_type": "display_data"
    },
    {
     "name": "stdout",
     "output_type": "stream",
     "text": [
      "\n"
     ]
    },
    {
     "data": {
      "application/vnd.jupyter.widget-view+json": {
       "model_id": "1027a92597e34e1994f41ae7b664b4ca",
       "version_major": 2,
       "version_minor": 0
      },
      "text/plain": [
       "HBox(children=(FloatProgress(value=0.0, max=263.0), HTML(value='')))"
      ]
     },
     "metadata": {},
     "output_type": "display_data"
    },
    {
     "name": "stdout",
     "output_type": "stream",
     "text": [
      "\n",
      "QWK 0.8422640946951159 QWK_k 0.8556295653033011 QWK_r 0.7917250805946324\n",
      "Thu Jul  9 19:14:39 2020 epoch 5, lr: 0.00029187, train loss: 0.2545, val loss: 0.2689, acc: 53.8, QWK: 0.8423\n",
      "QWK improved 0.830043 --> 0.842264 model saved\n",
      "Thu Jul  9 19:14:39 2020 epoch: 6\n"
     ]
    },
    {
     "data": {
      "application/vnd.jupyter.widget-view+json": {
       "model_id": "cc1361e86a754066bd2473fabe5fa100",
       "version_major": 2,
       "version_minor": 0
      },
      "text/plain": [
       "HBox(children=(FloatProgress(value=0.0, max=1052.0), HTML(value='')))"
      ]
     },
     "metadata": {},
     "output_type": "display_data"
    },
    {
     "name": "stdout",
     "output_type": "stream",
     "text": [
      "Gradient overflow.  Skipping step, loss scaler 0 reducing loss scale to 16384.0\n",
      "\n"
     ]
    },
    {
     "data": {
      "application/vnd.jupyter.widget-view+json": {
       "model_id": "1641d3491eca4eb9b48be2a5b704cfd9",
       "version_major": 2,
       "version_minor": 0
      },
      "text/plain": [
       "HBox(children=(FloatProgress(value=0.0, max=263.0), HTML(value='')))"
      ]
     },
     "metadata": {},
     "output_type": "display_data"
    },
    {
     "name": "stdout",
     "output_type": "stream",
     "text": [
      "\n",
      "QWK 0.851689760210439 QWK_k 0.8736963931802051 QWK_r 0.8020463678795816\n",
      "Thu Jul  9 19:28:41 2020 epoch 6, lr: 0.00028737, train loss: 0.2442, val loss: 0.2299, acc: 62.5, QWK: 0.8517\n",
      "QWK improved 0.842264 --> 0.851690 model saved\n",
      "Thu Jul  9 19:28:41 2020 epoch: 7\n"
     ]
    },
    {
     "data": {
      "application/vnd.jupyter.widget-view+json": {
       "model_id": "0e637b38b6124760a8a565f980d70aaf",
       "version_major": 2,
       "version_minor": 0
      },
      "text/plain": [
       "HBox(children=(FloatProgress(value=0.0, max=1052.0), HTML(value='')))"
      ]
     },
     "metadata": {},
     "output_type": "display_data"
    },
    {
     "name": "stdout",
     "output_type": "stream",
     "text": [
      "\n"
     ]
    },
    {
     "data": {
      "application/vnd.jupyter.widget-view+json": {
       "model_id": "858ba41eaa5744dbaebdc83e172495af",
       "version_major": 2,
       "version_minor": 0
      },
      "text/plain": [
       "HBox(children=(FloatProgress(value=0.0, max=263.0), HTML(value='')))"
      ]
     },
     "metadata": {},
     "output_type": "display_data"
    },
    {
     "name": "stdout",
     "output_type": "stream",
     "text": [
      "\n",
      "QWK 0.8479919360847373 QWK_k 0.854405301532817 QWK_r 0.8024735303878641\n",
      "Thu Jul  9 19:42:41 2020 epoch 7, lr: 0.00028192, train loss: 0.2355, val loss: 0.2337, acc: 63.0, QWK: 0.8480\n",
      "Thu Jul  9 19:42:41 2020 epoch: 8\n"
     ]
    },
    {
     "data": {
      "application/vnd.jupyter.widget-view+json": {
       "model_id": "3a5ce5fe45bf42e49604900f91825f0e",
       "version_major": 2,
       "version_minor": 0
      },
      "text/plain": [
       "HBox(children=(FloatProgress(value=0.0, max=1052.0), HTML(value='')))"
      ]
     },
     "metadata": {},
     "output_type": "display_data"
    },
    {
     "name": "stdout",
     "output_type": "stream",
     "text": [
      "Gradient overflow.  Skipping step, loss scaler 0 reducing loss scale to 16384.0\n",
      "\n"
     ]
    },
    {
     "data": {
      "application/vnd.jupyter.widget-view+json": {
       "model_id": "b8f91fb926384c09a2da11b9d0382f31",
       "version_major": 2,
       "version_minor": 0
      },
      "text/plain": [
       "HBox(children=(FloatProgress(value=0.0, max=263.0), HTML(value='')))"
      ]
     },
     "metadata": {},
     "output_type": "display_data"
    },
    {
     "name": "stdout",
     "output_type": "stream",
     "text": [
      "\n",
      "QWK 0.8460404603839062 QWK_k 0.8644138081360575 QWK_r 0.7962290821430223\n",
      "Thu Jul  9 19:56:41 2020 epoch 8, lr: 0.00027558, train loss: 0.2304, val loss: 0.2335, acc: 64.1, QWK: 0.8460\n",
      "Thu Jul  9 19:56:41 2020 epoch: 9\n"
     ]
    },
    {
     "data": {
      "application/vnd.jupyter.widget-view+json": {
       "model_id": "b4187327452b4f87a5986e491d803e75",
       "version_major": 2,
       "version_minor": 0
      },
      "text/plain": [
       "HBox(children=(FloatProgress(value=0.0, max=1052.0), HTML(value='')))"
      ]
     },
     "metadata": {},
     "output_type": "display_data"
    },
    {
     "name": "stdout",
     "output_type": "stream",
     "text": [
      "Gradient overflow.  Skipping step, loss scaler 0 reducing loss scale to 8192.0\n",
      "\n"
     ]
    },
    {
     "data": {
      "application/vnd.jupyter.widget-view+json": {
       "model_id": "eaa921db2b334bd08b76320632fe5f45",
       "version_major": 2,
       "version_minor": 0
      },
      "text/plain": [
       "HBox(children=(FloatProgress(value=0.0, max=263.0), HTML(value='')))"
      ]
     },
     "metadata": {},
     "output_type": "display_data"
    },
    {
     "name": "stdout",
     "output_type": "stream",
     "text": [
      "\n",
      "QWK 0.8634483891374771 QWK_k 0.8700635265433917 QWK_r 0.825139039925431\n",
      "Thu Jul  9 20:10:42 2020 epoch 9, lr: 0.00026837, train loss: 0.2221, val loss: 0.2149, acc: 62.9, QWK: 0.8634\n",
      "QWK improved 0.851690 --> 0.863448 model saved\n",
      "Thu Jul  9 20:10:42 2020 epoch: 10\n"
     ]
    },
    {
     "data": {
      "application/vnd.jupyter.widget-view+json": {
       "model_id": "2e736d5ffda449858adf2080b840e3ea",
       "version_major": 2,
       "version_minor": 0
      },
      "text/plain": [
       "HBox(children=(FloatProgress(value=0.0, max=1052.0), HTML(value='')))"
      ]
     },
     "metadata": {},
     "output_type": "display_data"
    },
    {
     "name": "stdout",
     "output_type": "stream",
     "text": [
      "\n"
     ]
    },
    {
     "data": {
      "application/vnd.jupyter.widget-view+json": {
       "model_id": "7fe1ea684b9b467db243a8e8079b7e16",
       "version_major": 2,
       "version_minor": 0
      },
      "text/plain": [
       "HBox(children=(FloatProgress(value=0.0, max=263.0), HTML(value='')))"
      ]
     },
     "metadata": {},
     "output_type": "display_data"
    },
    {
     "name": "stdout",
     "output_type": "stream",
     "text": [
      "\n",
      "QWK 0.819735174196427 QWK_k 0.8231548401605935 QWK_r 0.7789242016187268\n",
      "Thu Jul  9 20:24:44 2020 epoch 10, lr: 0.00026036, train loss: 0.2139, val loss: 0.2810, acc: 60.6, QWK: 0.8197\n",
      "Thu Jul  9 20:24:44 2020 epoch: 11\n"
     ]
    },
    {
     "data": {
      "application/vnd.jupyter.widget-view+json": {
       "model_id": "b9c734b7365646fcb27c94eb4c32a457",
       "version_major": 2,
       "version_minor": 0
      },
      "text/plain": [
       "HBox(children=(FloatProgress(value=0.0, max=1052.0), HTML(value='')))"
      ]
     },
     "metadata": {},
     "output_type": "display_data"
    },
    {
     "name": "stdout",
     "output_type": "stream",
     "text": [
      "Gradient overflow.  Skipping step, loss scaler 0 reducing loss scale to 8192.0\n",
      "\n"
     ]
    },
    {
     "data": {
      "application/vnd.jupyter.widget-view+json": {
       "model_id": "9f95dec5ff8041ac90d6fab481dc5f8f",
       "version_major": 2,
       "version_minor": 0
      },
      "text/plain": [
       "HBox(children=(FloatProgress(value=0.0, max=263.0), HTML(value='')))"
      ]
     },
     "metadata": {},
     "output_type": "display_data"
    },
    {
     "name": "stdout",
     "output_type": "stream",
     "text": [
      "\n",
      "QWK 0.8687379641017611 QWK_k 0.8783461270417792 QWK_r 0.8249174744820934\n",
      "Thu Jul  9 20:38:46 2020 epoch 11, lr: 0.00025159, train loss: 0.2100, val loss: 0.2230, acc: 61.8, QWK: 0.8687\n",
      "QWK improved 0.863448 --> 0.868738 model saved\n",
      "Thu Jul  9 20:38:46 2020 epoch: 12\n"
     ]
    },
    {
     "data": {
      "application/vnd.jupyter.widget-view+json": {
       "model_id": "9fbc4f149bcf4a4e81280283c816cc95",
       "version_major": 2,
       "version_minor": 0
      },
      "text/plain": [
       "HBox(children=(FloatProgress(value=0.0, max=1052.0), HTML(value='')))"
      ]
     },
     "metadata": {},
     "output_type": "display_data"
    },
    {
     "name": "stdout",
     "output_type": "stream",
     "text": [
      "\n"
     ]
    },
    {
     "data": {
      "application/vnd.jupyter.widget-view+json": {
       "model_id": "16025f14e52d47b9bae291ac2c093ca1",
       "version_major": 2,
       "version_minor": 0
      },
      "text/plain": [
       "HBox(children=(FloatProgress(value=0.0, max=263.0), HTML(value='')))"
      ]
     },
     "metadata": {},
     "output_type": "display_data"
    },
    {
     "name": "stdout",
     "output_type": "stream",
     "text": [
      "\n",
      "QWK 0.8736613042108495 QWK_k 0.8757742262258142 QWK_r 0.8368067468595796\n",
      "Thu Jul  9 20:52:46 2020 epoch 12, lr: 0.00024213, train loss: 0.1994, val loss: 0.2143, acc: 64.9, QWK: 0.8737\n",
      "QWK improved 0.868738 --> 0.873661 model saved\n",
      "Thu Jul  9 20:52:46 2020 epoch: 13\n"
     ]
    },
    {
     "data": {
      "application/vnd.jupyter.widget-view+json": {
       "model_id": "156efdec07b04186a7f81bd2a2ed5090",
       "version_major": 2,
       "version_minor": 0
      },
      "text/plain": [
       "HBox(children=(FloatProgress(value=0.0, max=1052.0), HTML(value='')))"
      ]
     },
     "metadata": {},
     "output_type": "display_data"
    },
    {
     "name": "stdout",
     "output_type": "stream",
     "text": [
      "\n"
     ]
    },
    {
     "data": {
      "application/vnd.jupyter.widget-view+json": {
       "model_id": "c6eee4a037704bc090546d5cd90c43f7",
       "version_major": 2,
       "version_minor": 0
      },
      "text/plain": [
       "HBox(children=(FloatProgress(value=0.0, max=263.0), HTML(value='')))"
      ]
     },
     "metadata": {},
     "output_type": "display_data"
    },
    {
     "name": "stdout",
     "output_type": "stream",
     "text": [
      "\n",
      "QWK 0.8671920256731253 QWK_k 0.8707893698394753 QWK_r 0.8322687124906554\n",
      "Thu Jul  9 21:06:47 2020 epoch 13, lr: 0.00023204, train loss: 0.1944, val loss: 0.2138, acc: 66.9, QWK: 0.8672\n",
      "Thu Jul  9 21:06:47 2020 epoch: 14\n"
     ]
    },
    {
     "data": {
      "application/vnd.jupyter.widget-view+json": {
       "model_id": "959f32f0ef4046ef988bb7cb3049d9d9",
       "version_major": 2,
       "version_minor": 0
      },
      "text/plain": [
       "HBox(children=(FloatProgress(value=0.0, max=1052.0), HTML(value='')))"
      ]
     },
     "metadata": {},
     "output_type": "display_data"
    },
    {
     "name": "stdout",
     "output_type": "stream",
     "text": [
      "\n"
     ]
    },
    {
     "data": {
      "application/vnd.jupyter.widget-view+json": {
       "model_id": "9ef8b1cc73624e169c9fd65b63b54c94",
       "version_major": 2,
       "version_minor": 0
      },
      "text/plain": [
       "HBox(children=(FloatProgress(value=0.0, max=263.0), HTML(value='')))"
      ]
     },
     "metadata": {},
     "output_type": "display_data"
    },
    {
     "name": "stdout",
     "output_type": "stream",
     "text": [
      "\n",
      "QWK 0.8542938595171746 QWK_k 0.8423732555947046 QWK_r 0.8249209488990004\n",
      "Thu Jul  9 21:20:47 2020 epoch 14, lr: 0.00022139, train loss: 0.1905, val loss: 0.2163, acc: 66.5, QWK: 0.8543\n",
      "Thu Jul  9 21:20:47 2020 epoch: 15\n"
     ]
    },
    {
     "data": {
      "application/vnd.jupyter.widget-view+json": {
       "model_id": "e53045fd485c40f09bda1c3b7913326b",
       "version_major": 2,
       "version_minor": 0
      },
      "text/plain": [
       "HBox(children=(FloatProgress(value=0.0, max=1052.0), HTML(value='')))"
      ]
     },
     "metadata": {},
     "output_type": "display_data"
    },
    {
     "name": "stdout",
     "output_type": "stream",
     "text": [
      "Gradient overflow.  Skipping step, loss scaler 0 reducing loss scale to 16384.0\n",
      "\n"
     ]
    },
    {
     "data": {
      "application/vnd.jupyter.widget-view+json": {
       "model_id": "e29379e87ed44544b315ad08d08be9ad",
       "version_major": 2,
       "version_minor": 0
      },
      "text/plain": [
       "HBox(children=(FloatProgress(value=0.0, max=263.0), HTML(value='')))"
      ]
     },
     "metadata": {},
     "output_type": "display_data"
    },
    {
     "name": "stdout",
     "output_type": "stream",
     "text": [
      "\n",
      "QWK 0.8887694429145175 QWK_k 0.8932669194460816 QWK_r 0.85743226398029\n",
      "Thu Jul  9 21:34:48 2020 epoch 15, lr: 0.00021026, train loss: 0.1802, val loss: 0.1982, acc: 65.9, QWK: 0.8888\n",
      "QWK improved 0.873661 --> 0.888769 model saved\n",
      "Thu Jul  9 21:34:49 2020 epoch: 16\n"
     ]
    },
    {
     "data": {
      "application/vnd.jupyter.widget-view+json": {
       "model_id": "e04c145e3131477daab0f03335e52968",
       "version_major": 2,
       "version_minor": 0
      },
      "text/plain": [
       "HBox(children=(FloatProgress(value=0.0, max=1052.0), HTML(value='')))"
      ]
     },
     "metadata": {},
     "output_type": "display_data"
    },
    {
     "name": "stdout",
     "output_type": "stream",
     "text": [
      "\n"
     ]
    },
    {
     "data": {
      "application/vnd.jupyter.widget-view+json": {
       "model_id": "58f3c39374ee47b5a49d24fc34366567",
       "version_major": 2,
       "version_minor": 0
      },
      "text/plain": [
       "HBox(children=(FloatProgress(value=0.0, max=263.0), HTML(value='')))"
      ]
     },
     "metadata": {},
     "output_type": "display_data"
    },
    {
     "name": "stdout",
     "output_type": "stream",
     "text": [
      "\n",
      "QWK 0.8703142188678303 QWK_k 0.8733428621548216 QWK_r 0.8332367765775416\n",
      "Thu Jul  9 21:48:49 2020 epoch 16, lr: 0.00019871, train loss: 0.1791, val loss: 0.2166, acc: 66.3, QWK: 0.8703\n",
      "Thu Jul  9 21:48:49 2020 epoch: 17\n"
     ]
    },
    {
     "data": {
      "application/vnd.jupyter.widget-view+json": {
       "model_id": "f330d8f8c70c442f81251d39504fef8d",
       "version_major": 2,
       "version_minor": 0
      },
      "text/plain": [
       "HBox(children=(FloatProgress(value=0.0, max=1052.0), HTML(value='')))"
      ]
     },
     "metadata": {},
     "output_type": "display_data"
    },
    {
     "name": "stdout",
     "output_type": "stream",
     "text": [
      "\n"
     ]
    },
    {
     "data": {
      "application/vnd.jupyter.widget-view+json": {
       "model_id": "e351cdfd19094dc3aea4a4714145090f",
       "version_major": 2,
       "version_minor": 0
      },
      "text/plain": [
       "HBox(children=(FloatProgress(value=0.0, max=263.0), HTML(value='')))"
      ]
     },
     "metadata": {},
     "output_type": "display_data"
    },
    {
     "name": "stdout",
     "output_type": "stream",
     "text": [
      "\n",
      "QWK 0.88109079480028 QWK_k 0.8889053004967514 QWK_r 0.8483434806191363\n",
      "Thu Jul  9 22:02:50 2020 epoch 17, lr: 0.00018683, train loss: 0.1686, val loss: 0.2168, acc: 67.7, QWK: 0.8811\n",
      "Thu Jul  9 22:02:50 2020 epoch: 18\n"
     ]
    },
    {
     "data": {
      "application/vnd.jupyter.widget-view+json": {
       "model_id": "4faf034ec22e400a8c4138c6abcf963b",
       "version_major": 2,
       "version_minor": 0
      },
      "text/plain": [
       "HBox(children=(FloatProgress(value=0.0, max=1052.0), HTML(value='')))"
      ]
     },
     "metadata": {},
     "output_type": "display_data"
    },
    {
     "name": "stdout",
     "output_type": "stream",
     "text": [
      "Gradient overflow.  Skipping step, loss scaler 0 reducing loss scale to 16384.0\n",
      "\n"
     ]
    },
    {
     "data": {
      "application/vnd.jupyter.widget-view+json": {
       "model_id": "0eb7679604f1422297fb276731fc8e84",
       "version_major": 2,
       "version_minor": 0
      },
      "text/plain": [
       "HBox(children=(FloatProgress(value=0.0, max=263.0), HTML(value='')))"
      ]
     },
     "metadata": {},
     "output_type": "display_data"
    },
    {
     "name": "stdout",
     "output_type": "stream",
     "text": [
      "\n",
      "QWK 0.8913737547533503 QWK_k 0.8946958366084575 QWK_r 0.8621136604763795\n",
      "Thu Jul  9 22:16:50 2020 epoch 18, lr: 0.00017469, train loss: 0.1622, val loss: 0.2003, acc: 67.5, QWK: 0.8914\n",
      "QWK improved 0.888769 --> 0.891374 model saved\n",
      "Thu Jul  9 22:16:50 2020 epoch: 19\n"
     ]
    },
    {
     "data": {
      "application/vnd.jupyter.widget-view+json": {
       "model_id": "3a3686f62bea40f6af10d34ae38829b6",
       "version_major": 2,
       "version_minor": 0
      },
      "text/plain": [
       "HBox(children=(FloatProgress(value=0.0, max=1052.0), HTML(value='')))"
      ]
     },
     "metadata": {},
     "output_type": "display_data"
    },
    {
     "name": "stdout",
     "output_type": "stream",
     "text": [
      "Gradient overflow.  Skipping step, loss scaler 0 reducing loss scale to 8192.0\n",
      "\n"
     ]
    },
    {
     "data": {
      "application/vnd.jupyter.widget-view+json": {
       "model_id": "3886ba6e03ca47f988a06b4fd6f77ee8",
       "version_major": 2,
       "version_minor": 0
      },
      "text/plain": [
       "HBox(children=(FloatProgress(value=0.0, max=263.0), HTML(value='')))"
      ]
     },
     "metadata": {},
     "output_type": "display_data"
    },
    {
     "name": "stdout",
     "output_type": "stream",
     "text": [
      "\n",
      "QWK 0.8805496082093378 QWK_k 0.893449849702184 QWK_r 0.8454464788013246\n",
      "Thu Jul  9 22:30:51 2020 epoch 19, lr: 0.00016239, train loss: 0.1583, val loss: 0.2186, acc: 69.0, QWK: 0.8805\n",
      "Thu Jul  9 22:30:51 2020 epoch: 20\n"
     ]
    },
    {
     "data": {
      "application/vnd.jupyter.widget-view+json": {
       "model_id": "3b3628b917c14d498173e095a0fddd35",
       "version_major": 2,
       "version_minor": 0
      },
      "text/plain": [
       "HBox(children=(FloatProgress(value=0.0, max=1052.0), HTML(value='')))"
      ]
     },
     "metadata": {},
     "output_type": "display_data"
    },
    {
     "name": "stdout",
     "output_type": "stream",
     "text": [
      "\n"
     ]
    },
    {
     "data": {
      "application/vnd.jupyter.widget-view+json": {
       "model_id": "9d9e7890151e4613b54f4ba386793069",
       "version_major": 2,
       "version_minor": 0
      },
      "text/plain": [
       "HBox(children=(FloatProgress(value=0.0, max=263.0), HTML(value='')))"
      ]
     },
     "metadata": {},
     "output_type": "display_data"
    },
    {
     "name": "stdout",
     "output_type": "stream",
     "text": [
      "\n",
      "QWK 0.8866700666919396 QWK_k 0.8815931989253634 QWK_r 0.8673486006916169\n",
      "Thu Jul  9 22:44:51 2020 epoch 20, lr: 0.00015000, train loss: 0.1497, val loss: 0.2078, acc: 68.4, QWK: 0.8867\n",
      "Thu Jul  9 22:44:51 2020 epoch: 21\n"
     ]
    },
    {
     "data": {
      "application/vnd.jupyter.widget-view+json": {
       "model_id": "aaf9db52f0d64ba4b10fae0484b0b0a9",
       "version_major": 2,
       "version_minor": 0
      },
      "text/plain": [
       "HBox(children=(FloatProgress(value=0.0, max=1052.0), HTML(value='')))"
      ]
     },
     "metadata": {},
     "output_type": "display_data"
    },
    {
     "name": "stdout",
     "output_type": "stream",
     "text": [
      "Gradient overflow.  Skipping step, loss scaler 0 reducing loss scale to 8192.0\n",
      "\n"
     ]
    },
    {
     "data": {
      "application/vnd.jupyter.widget-view+json": {
       "model_id": "2b7e911b556944b091488f5274cd584e",
       "version_major": 2,
       "version_minor": 0
      },
      "text/plain": [
       "HBox(children=(FloatProgress(value=0.0, max=263.0), HTML(value='')))"
      ]
     },
     "metadata": {},
     "output_type": "display_data"
    },
    {
     "name": "stdout",
     "output_type": "stream",
     "text": [
      "\n",
      "QWK 0.8953288759466722 QWK_k 0.8975269581441235 QWK_r 0.8672462375607266\n",
      "Thu Jul  9 22:58:52 2020 epoch 21, lr: 0.00013762, train loss: 0.1456, val loss: 0.1963, acc: 66.7, QWK: 0.8953\n",
      "QWK improved 0.891374 --> 0.895329 model saved\n",
      "Thu Jul  9 22:58:52 2020 epoch: 22\n"
     ]
    },
    {
     "data": {
      "application/vnd.jupyter.widget-view+json": {
       "model_id": "107ca3d85887412193f61f08e41cf62e",
       "version_major": 2,
       "version_minor": 0
      },
      "text/plain": [
       "HBox(children=(FloatProgress(value=0.0, max=1052.0), HTML(value='')))"
      ]
     },
     "metadata": {},
     "output_type": "display_data"
    },
    {
     "name": "stdout",
     "output_type": "stream",
     "text": [
      "\n"
     ]
    },
    {
     "data": {
      "application/vnd.jupyter.widget-view+json": {
       "model_id": "6bd6ba226b2c4defbdeb864249483e27",
       "version_major": 2,
       "version_minor": 0
      },
      "text/plain": [
       "HBox(children=(FloatProgress(value=0.0, max=263.0), HTML(value='')))"
      ]
     },
     "metadata": {},
     "output_type": "display_data"
    },
    {
     "name": "stdout",
     "output_type": "stream",
     "text": [
      "\n",
      "QWK 0.8686552882067955 QWK_k 0.8803159025331708 QWK_r 0.8327828968078239\n",
      "Thu Jul  9 23:12:52 2020 epoch 22, lr: 0.00012532, train loss: 0.1354, val loss: 0.2364, acc: 69.9, QWK: 0.8687\n",
      "Thu Jul  9 23:12:52 2020 epoch: 23\n"
     ]
    },
    {
     "data": {
      "application/vnd.jupyter.widget-view+json": {
       "model_id": "97a01f2610324175804a1e353de51d70",
       "version_major": 2,
       "version_minor": 0
      },
      "text/plain": [
       "HBox(children=(FloatProgress(value=0.0, max=1052.0), HTML(value='')))"
      ]
     },
     "metadata": {},
     "output_type": "display_data"
    },
    {
     "name": "stdout",
     "output_type": "stream",
     "text": [
      "\n"
     ]
    },
    {
     "data": {
      "application/vnd.jupyter.widget-view+json": {
       "model_id": "2807bd93283f4cc9bf1745cb58e6227d",
       "version_major": 2,
       "version_minor": 0
      },
      "text/plain": [
       "HBox(children=(FloatProgress(value=0.0, max=263.0), HTML(value='')))"
      ]
     },
     "metadata": {},
     "output_type": "display_data"
    },
    {
     "name": "stdout",
     "output_type": "stream",
     "text": [
      "\n",
      "QWK 0.8971234051258368 QWK_k 0.8915757938931724 QWK_r 0.8779515718472031\n",
      "Thu Jul  9 23:26:53 2020 epoch 23, lr: 0.00011318, train loss: 0.1323, val loss: 0.1963, acc: 69.5, QWK: 0.8971\n",
      "QWK improved 0.895329 --> 0.897123 model saved\n",
      "Thu Jul  9 23:26:53 2020 epoch: 24\n"
     ]
    },
    {
     "data": {
      "application/vnd.jupyter.widget-view+json": {
       "model_id": "9fbe1d24ee4148cd80c911eec02265ca",
       "version_major": 2,
       "version_minor": 0
      },
      "text/plain": [
       "HBox(children=(FloatProgress(value=0.0, max=1052.0), HTML(value='')))"
      ]
     },
     "metadata": {},
     "output_type": "display_data"
    }
   ],
   "source": [
    "pred, target = [], []\n",
    "if DEBUG:\n",
    "    n_folds_train = 2\n",
    "else:\n",
    "    n_folds_train = M_PARAMS['N_FOLDS']\n",
    "start_folds_train = 0\n",
    "for fold_num in range(start_folds_train, n_folds_train):\n",
    "    print('-' * 20, 'fold:', fold_num, '-' * 20)\n",
    "    train_idx = np.where((df_train['fold'] != fold_num))[0]\n",
    "    valid_idx = np.where((df_train['fold'] == fold_num))[0]\n",
    "    df_this  = df_train.loc[train_idx]\n",
    "    df_valid = df_train.loc[valid_idx]\n",
    "    dataset_train = PANDADataset(\n",
    "        df_this, \n",
    "        M_PARAMS['TILE_SIZE'], \n",
    "        M_PARAMS['N_TILES'], \n",
    "        transform=transforms_train,\n",
    "        transform_tile=transforms_train_tile\n",
    "    )\n",
    "    dataset_valid = PANDADataset(\n",
    "        df_valid, \n",
    "        M_PARAMS['TILE_SIZE'], \n",
    "        M_PARAMS['N_TILES']\n",
    "    )\n",
    "    train_loader = torch.utils.data.DataLoader(\n",
    "        dataset_train, \n",
    "        batch_size=M_PARAMS['BATCH_SIZE'], \n",
    "        sampler=RandomSampler(dataset_train), \n",
    "        num_workers=M_PARAMS['N_WORKERS']\n",
    "    )\n",
    "    valid_loader = torch.utils.data.DataLoader(\n",
    "        dataset_valid, \n",
    "        batch_size=M_PARAMS['BATCH_SIZE'], \n",
    "        sampler=SequentialSampler(dataset_valid), \n",
    "        num_workers=M_PARAMS['N_WORKERS']\n",
    "    )\n",
    "    model = EffNet(M_PARAMS['ENET_TYPE'], out_dim=M_PARAMS['OUT_DIM']) \n",
    "    #model = ResNext(out_dim=OUT_DIM)\n",
    "    model = model.to(DEVICE)\n",
    "    optimizer = optim.Adam(model.parameters(), lr=M_PARAMS['LR'])\n",
    "    model, optimizer = amp.initialize(model, optimizer, opt_level='O1')\n",
    "    if M_PARAMS['WARMUP']:\n",
    "        scheduler = torch.optim.lr_scheduler.OneCycleLR(\n",
    "            optimizer, \n",
    "            max_lr=M_PARAMS['LR'], \n",
    "            total_steps=M_PARAMS['N_EPOCHS'],\n",
    "            div_factor=30, \n",
    "            final_div_factor=1000,\n",
    "            pct_start=(2 / M_PARAMS['N_EPOCHS']),\n",
    "        )\n",
    "    else:\n",
    "        scheduler = torch.optim.lr_scheduler.CosineAnnealingLR(optimizer, M_PARAMS['N_EPOCHS'])\n",
    "    print('train len:', len(dataset_train),'| val len:', len(dataset_valid))\n",
    "    qwk_max = 0\n",
    "    best_file = '{}/{}_best_fold{}.pth'.format(MODELS_PATH, M_PARAMS['ENET_TYPE'], fold_num)\n",
    "    for epoch in tqdm(range(M_PARAMS['N_EPOCHS']), desc='epochs'):\n",
    "        print(time.ctime(), 'epoch:', epoch)\n",
    "        train_loss = train_epoch(train_loader, optimizer)\n",
    "        val_loss, acc, qwk = val_epoch(valid_loader)\n",
    "        scheduler.step(epoch)\n",
    "        content = '{} epoch {}, lr: {:.8f}, train loss: {:.4f}, val loss: {:.4f}, acc: {:.1f}, QWK: {:.4f}'.format(\n",
    "                time.ctime(),\n",
    "                epoch, \n",
    "                optimizer.param_groups[0]['lr'], \n",
    "                np.mean(train_loss),\n",
    "                np.mean(val_loss),\n",
    "                acc,\n",
    "                qwk\n",
    "            )\n",
    "        print(content)\n",
    "        with open('{}/log_{}_fold{}.txt'.format(MODELS_PATH, M_PARAMS['ENET_TYPE'], fold_num), 'a') as appender:\n",
    "            appender.write(content + '\\n')\n",
    "        if qwk > qwk_max:\n",
    "            torch.save(model.state_dict(), best_file)\n",
    "            print('QWK improved {:.6f} --> {:.6f} model saved'.format(qwk_max, qwk))\n",
    "            qwk_max = qwk\n",
    "    with open('{}/log_{}_folds_all.txt'.format(MODELS_PATH, M_PARAMS['ENET_TYPE']), 'a') as appender:\n",
    "        appender.write('{} | fold: {} | max QWK: {:.6f}\\n'.format(M_PARAMS, fold_num, qwk_max))\n",
    "    torch.save(\n",
    "        model.state_dict(), \n",
    "        os.path.join('{}/{}_final_fold{}.pth'.format(MODELS_PATH, M_PARAMS['ENET_TYPE'], fold_num))\n",
    "    )\n",
    "    del model, dataset_train, dataset_valid, train_loader, valid_loader\n",
    "    torch.cuda.empty_cache()\n",
    "    gc.collect()"
   ]
  },
  {
   "cell_type": "code",
   "execution_count": null,
   "metadata": {},
   "outputs": [],
   "source": []
  }
 ],
 "metadata": {
  "kernelspec": {
   "display_name": "Orange Python 3 (2 GPUs)",
   "language": "python",
   "name": "orange2gpu"
  },
  "language_info": {
   "codemirror_mode": {
    "name": "ipython",
    "version": 3
   },
   "file_extension": ".py",
   "mimetype": "text/x-python",
   "name": "python",
   "nbconvert_exporter": "python",
   "pygments_lexer": "ipython3",
   "version": "3.7.6"
  }
 },
 "nbformat": 4,
 "nbformat_minor": 4
}
