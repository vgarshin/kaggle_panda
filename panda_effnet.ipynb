{
 "cells": [
  {
   "cell_type": "code",
   "execution_count": 1,
   "metadata": {},
   "outputs": [
    {
     "name": "stdout",
     "output_type": "stream",
     "text": [
      "0 Graphics Device\n",
      "  allocated: 0.0 GB\n",
      "  cached:    0.0 GB\n",
      "1 Graphics Device\n",
      "  allocated: 0.0 GB\n",
      "  cached:    0.0 GB\n"
     ]
    }
   ],
   "source": [
    "import os\n",
    "import sys\n",
    "import time\n",
    "import numpy as np\n",
    "import pandas as pd\n",
    "import cv2\n",
    "import PIL.Image\n",
    "import torch\n",
    "import torch.nn as nn\n",
    "import torch.nn.functional as F\n",
    "import torch.optim as optim\n",
    "from apex import amp\n",
    "from torch.optim import lr_scheduler\n",
    "from torch.utils.data import DataLoader, Dataset\n",
    "from torch.utils.data.sampler import SubsetRandomSampler, RandomSampler, SequentialSampler\n",
    "from warmup_scheduler import GradualWarmupScheduler\n",
    "from efficientnet_pytorch import model as enet\n",
    "import albumentations\n",
    "from sklearn.model_selection import StratifiedKFold\n",
    "import matplotlib.pyplot as plt\n",
    "from sklearn.metrics import cohen_kappa_score\n",
    "from tqdm import tqdm_notebook as tqdm\n",
    "import warnings\n",
    "import sys\n",
    "sys.path.insert(0, './fastai_utils/')\n",
    "import fastai\n",
    "from fastai.vision import *\n",
    "from mish_activation import *\n",
    "warnings.filterwarnings('ignore')\n",
    "device = torch.device('cuda')\n",
    "#device = torch.device('cpu')\n",
    "fastai.device = device\n",
    "for i in range(torch.cuda.device_count()):\n",
    "    print(i, torch.cuda.get_device_name(i))\n",
    "    print('  allocated:', round(torch.cuda.memory_allocated(i) / 1024 ** 3, 1), 'GB')\n",
    "    print('  cached:   ', round(torch.cuda.memory_cached(i) / 1024 ** 3, 1), 'GB')"
   ]
  },
  {
   "cell_type": "code",
   "execution_count": 2,
   "metadata": {},
   "outputs": [],
   "source": [
    "MODEL_VER = 'v0'\n",
    "MAIN_PATH = '.'\n",
    "DATA_PATH = '{}/data'.format(MAIN_PATH)\n",
    "TILES_DIR = '{}/train_images_tiles_q1_256_36/'.format(DATA_PATH)\n",
    "LABELS = '{}/train.csv'.format(DATA_PATH)\n",
    "MODELS = '{}/effnet_models'.format(MAIN_PATH)\n",
    "if not os.path.exists('{}_{}'.format(MODELS, MODEL_VER)):\n",
    "    os.mkdir('{}_{}'.format(MODELS, MODEL_VER))\n",
    "    print('created:', '{}_{}'.format(MODELS, MODEL_VER))\n",
    "kernel_type = 'effnet_b1'\n",
    "enet_type = 'efficientnet-b0'\n",
    "fold = 0\n",
    "tile_size = 256\n",
    "image_size = 256\n",
    "n_tiles = 25\n",
    "batch_size = 8\n",
    "N_WORKERS = 8\n",
    "out_dim = 5\n",
    "init_lr = 3e-4\n",
    "warmup_factor = 10\n",
    "warmup_epo = 1\n",
    "DEBUG = False\n",
    "FMAP = False\n",
    "APEX = True\n",
    "n_epochs = 3 if DEBUG else 40\n",
    "pretrained_model = {\n",
    "    'efficientnet-b0': './bbs/efficientnet-b0-355c32eb.pth',\n",
    "    'efficientnet-b1': './bbs/efficientnet-b1-f1951068.pth',\n",
    "}"
   ]
  },
  {
   "cell_type": "code",
   "execution_count": 3,
   "metadata": {},
   "outputs": [
    {
     "data": {
      "text/html": [
       "<div>\n",
       "<style scoped>\n",
       "    .dataframe tbody tr th:only-of-type {\n",
       "        vertical-align: middle;\n",
       "    }\n",
       "\n",
       "    .dataframe tbody tr th {\n",
       "        vertical-align: top;\n",
       "    }\n",
       "\n",
       "    .dataframe thead th {\n",
       "        text-align: right;\n",
       "    }\n",
       "</style>\n",
       "<table border=\"1\" class=\"dataframe\">\n",
       "  <thead>\n",
       "    <tr style=\"text-align: right;\">\n",
       "      <th></th>\n",
       "      <th>Unnamed: 0</th>\n",
       "      <th>image_id</th>\n",
       "      <th>data_provider</th>\n",
       "      <th>isup_grade</th>\n",
       "      <th>gleason_score</th>\n",
       "    </tr>\n",
       "  </thead>\n",
       "  <tbody>\n",
       "    <tr>\n",
       "      <th>0</th>\n",
       "      <td>0</td>\n",
       "      <td>0005f7aaab2800f6170c399693a96917</td>\n",
       "      <td>karolinska</td>\n",
       "      <td>0</td>\n",
       "      <td>0+0</td>\n",
       "    </tr>\n",
       "    <tr>\n",
       "      <th>1</th>\n",
       "      <td>1</td>\n",
       "      <td>000920ad0b612851f8e01bcc880d9b3d</td>\n",
       "      <td>karolinska</td>\n",
       "      <td>0</td>\n",
       "      <td>0+0</td>\n",
       "    </tr>\n",
       "    <tr>\n",
       "      <th>2</th>\n",
       "      <td>2</td>\n",
       "      <td>0018ae58b01bdadc8e347995b69f99aa</td>\n",
       "      <td>radboud</td>\n",
       "      <td>4</td>\n",
       "      <td>4+4</td>\n",
       "    </tr>\n",
       "    <tr>\n",
       "      <th>3</th>\n",
       "      <td>3</td>\n",
       "      <td>001c62abd11fa4b57bf7a6c603a11bb9</td>\n",
       "      <td>karolinska</td>\n",
       "      <td>4</td>\n",
       "      <td>4+4</td>\n",
       "    </tr>\n",
       "    <tr>\n",
       "      <th>4</th>\n",
       "      <td>4</td>\n",
       "      <td>001d865e65ef5d2579c190a0e0350d8f</td>\n",
       "      <td>karolinska</td>\n",
       "      <td>0</td>\n",
       "      <td>0+0</td>\n",
       "    </tr>\n",
       "  </tbody>\n",
       "</table>\n",
       "</div>"
      ],
      "text/plain": [
       "   Unnamed: 0                          image_id data_provider  isup_grade  \\\n",
       "0           0  0005f7aaab2800f6170c399693a96917    karolinska           0   \n",
       "1           1  000920ad0b612851f8e01bcc880d9b3d    karolinska           0   \n",
       "2           2  0018ae58b01bdadc8e347995b69f99aa       radboud           4   \n",
       "3           3  001c62abd11fa4b57bf7a6c603a11bb9    karolinska           4   \n",
       "4           4  001d865e65ef5d2579c190a0e0350d8f    karolinska           0   \n",
       "\n",
       "  gleason_score  \n",
       "0           0+0  \n",
       "1           0+0  \n",
       "2           4+4  \n",
       "3           4+4  \n",
       "4           0+0  "
      ]
     },
     "execution_count": 3,
     "metadata": {},
     "output_type": "execute_result"
    }
   ],
   "source": [
    "if DEBUG:\n",
    "    df_train = pd.read_csv(os.path.join(DATA_PATH, 'train_dsph.csv')).sample(100).reset_index(drop=True)\n",
    "else:\n",
    "    df_train = pd.read_csv(os.path.join(DATA_PATH, 'train_dsph.csv'))\n",
    "df_train.head()"
   ]
  },
  {
   "cell_type": "code",
   "execution_count": 4,
   "metadata": {},
   "outputs": [
    {
     "data": {
      "text/html": [
       "<div>\n",
       "<style scoped>\n",
       "    .dataframe tbody tr th:only-of-type {\n",
       "        vertical-align: middle;\n",
       "    }\n",
       "\n",
       "    .dataframe tbody tr th {\n",
       "        vertical-align: top;\n",
       "    }\n",
       "\n",
       "    .dataframe thead th {\n",
       "        text-align: right;\n",
       "    }\n",
       "</style>\n",
       "<table border=\"1\" class=\"dataframe\">\n",
       "  <thead>\n",
       "    <tr style=\"text-align: right;\">\n",
       "      <th></th>\n",
       "      <th>Unnamed: 0</th>\n",
       "      <th>image_id</th>\n",
       "      <th>data_provider</th>\n",
       "      <th>isup_grade</th>\n",
       "      <th>gleason_score</th>\n",
       "      <th>fold</th>\n",
       "    </tr>\n",
       "  </thead>\n",
       "  <tbody>\n",
       "    <tr>\n",
       "      <th>0</th>\n",
       "      <td>0</td>\n",
       "      <td>0005f7aaab2800f6170c399693a96917</td>\n",
       "      <td>karolinska</td>\n",
       "      <td>0</td>\n",
       "      <td>0+0</td>\n",
       "      <td>1</td>\n",
       "    </tr>\n",
       "    <tr>\n",
       "      <th>1</th>\n",
       "      <td>1</td>\n",
       "      <td>000920ad0b612851f8e01bcc880d9b3d</td>\n",
       "      <td>karolinska</td>\n",
       "      <td>0</td>\n",
       "      <td>0+0</td>\n",
       "      <td>3</td>\n",
       "    </tr>\n",
       "    <tr>\n",
       "      <th>2</th>\n",
       "      <td>2</td>\n",
       "      <td>0018ae58b01bdadc8e347995b69f99aa</td>\n",
       "      <td>radboud</td>\n",
       "      <td>4</td>\n",
       "      <td>4+4</td>\n",
       "      <td>4</td>\n",
       "    </tr>\n",
       "    <tr>\n",
       "      <th>3</th>\n",
       "      <td>3</td>\n",
       "      <td>001c62abd11fa4b57bf7a6c603a11bb9</td>\n",
       "      <td>karolinska</td>\n",
       "      <td>4</td>\n",
       "      <td>4+4</td>\n",
       "      <td>0</td>\n",
       "    </tr>\n",
       "    <tr>\n",
       "      <th>4</th>\n",
       "      <td>4</td>\n",
       "      <td>001d865e65ef5d2579c190a0e0350d8f</td>\n",
       "      <td>karolinska</td>\n",
       "      <td>0</td>\n",
       "      <td>0+0</td>\n",
       "      <td>2</td>\n",
       "    </tr>\n",
       "  </tbody>\n",
       "</table>\n",
       "</div>"
      ],
      "text/plain": [
       "   Unnamed: 0                          image_id data_provider  isup_grade  \\\n",
       "0           0  0005f7aaab2800f6170c399693a96917    karolinska           0   \n",
       "1           1  000920ad0b612851f8e01bcc880d9b3d    karolinska           0   \n",
       "2           2  0018ae58b01bdadc8e347995b69f99aa       radboud           4   \n",
       "3           3  001c62abd11fa4b57bf7a6c603a11bb9    karolinska           4   \n",
       "4           4  001d865e65ef5d2579c190a0e0350d8f    karolinska           0   \n",
       "\n",
       "  gleason_score  fold  \n",
       "0           0+0     1  \n",
       "1           0+0     3  \n",
       "2           4+4     4  \n",
       "3           4+4     0  \n",
       "4           0+0     2  "
      ]
     },
     "execution_count": 4,
     "metadata": {},
     "output_type": "execute_result"
    }
   ],
   "source": [
    "skf = StratifiedKFold(5, shuffle=True, random_state=42)\n",
    "df_train['fold'] = -1\n",
    "for i, (train_idx, valid_idx) in enumerate(skf.split(df_train, df_train['isup_grade'])):\n",
    "    df_train.loc[valid_idx, 'fold'] = i\n",
    "df_train.head()"
   ]
  },
  {
   "cell_type": "code",
   "execution_count": 5,
   "metadata": {},
   "outputs": [],
   "source": [
    "class EffNet(nn.Module):\n",
    "    def __init__(self, backbone, out_dim):\n",
    "        super(EffNet, self).__init__()\n",
    "        self.enet = enet.EfficientNet.from_name(backbone)\n",
    "        self.enet.load_state_dict(torch.load(pretrained_model[backbone]))\n",
    "        #self.enet = enet.EfficientNet.from_pretrained(backbone)\n",
    "        self.myfc = nn.Linear(self.enet._fc.in_features, out_dim)\n",
    "        self.enet._fc = nn.Identity()\n",
    "        self.enet = nn.DataParallel(self.enet)\n",
    "    def extract(self, x):\n",
    "        return self.enet(x)\n",
    "    def forward(self, x):\n",
    "        x = self.extract(x)\n",
    "        x = self.myfc(x)\n",
    "        return x\n",
    "class EffNetFMap(nn.Module):\n",
    "    def __init__(self, backbone='efficientnet-b0', out_dim=5, pre=True):\n",
    "        super().__init__()\n",
    "        m = enet.EfficientNet.from_name(backbone)\n",
    "        m_layers = nn.ModuleList(m.children())[:-5]\n",
    "        self.enc = nn.Sequential(*m_layers)\n",
    "        nc = list(m.children())[-2].in_features\n",
    "        self.head = nn.Sequential(\n",
    "            AdaptiveConcatPool2d(),\n",
    "            Flatten(),\n",
    "            nn.Linear(nc, int(nc / 2)),\n",
    "            Mish(),\n",
    "            nn.BatchNorm1d(int(nc / 2)), \n",
    "            nn.Dropout(.4),\n",
    "            nn.Linear(int(nc / 2), out_dim)\n",
    "        )\n",
    "    def forward(self, *x):\n",
    "        shape = x[0].shape\n",
    "        n = len(x)\n",
    "        x = torch.stack(x,1).view(-1,shape[1],shape[2],shape[3])\n",
    "        #x: bs*N x 3 x 128 x 128\n",
    "        x = self.enc(x)\n",
    "        #x: bs*N x C x 4 x 4\n",
    "        shape = x.shape\n",
    "        #concatenate the output for tiles into a single map\n",
    "        x = x.view(-1,n,shape[1],shape[2],shape[3]).permute(0,2,1,3,4).contiguous()\\\n",
    "          .view(-1,shape[1],shape[2]*n,shape[3])\n",
    "        #x: bs x C x N*4 x 4\n",
    "        x = self.head(x)\n",
    "        #x: bs x n\n",
    "        return x"
   ]
  },
  {
   "cell_type": "code",
   "execution_count": 6,
   "metadata": {},
   "outputs": [],
   "source": [
    "def get_tiles(img_id):\n",
    "        result = []\n",
    "        seq_imgs = []\n",
    "        for i in range(n_tiles):\n",
    "            img_path = '{}/{}_{}.png'.format(TILES_DIR, img_id, i)\n",
    "            img = cv2.imread(img_path)\n",
    "            if not np.any(img):\n",
    "                print('no img file read:', img_path)\n",
    "            img = cv2.cvtColor(img, cv2.COLOR_BGR2RGB)\n",
    "            seq_imgs.append(img)\n",
    "        for i in range(len(seq_imgs)):\n",
    "            result.append({'img':seq_imgs[i], 'idx':i})\n",
    "        return result\n",
    "class PANDADataset(Dataset):\n",
    "    def __init__(self,\n",
    "                 df,\n",
    "                 image_size,\n",
    "                 n_tiles=n_tiles,\n",
    "                 tile_mode=0,\n",
    "                 rand=False,\n",
    "                 transform=None,\n",
    "                 fmap=False\n",
    "                ):\n",
    "        self.df = df.reset_index(drop=True)\n",
    "        self.image_size = image_size\n",
    "        self.n_tiles = n_tiles\n",
    "        self.tile_mode = tile_mode\n",
    "        self.rand = rand\n",
    "        self.transform = transform\n",
    "        self.fmap = fmap\n",
    "    def __len__(self):\n",
    "        return self.df.shape[0]\n",
    "    def __getitem__(self, index):\n",
    "        row = self.df.iloc[index]\n",
    "        img_id = row.image_id\n",
    "        tiles = get_tiles(img_id)\n",
    "        if self.rand:\n",
    "            idxes = np.random.choice(list(range(self.n_tiles)), self.n_tiles, replace=False)\n",
    "        else:\n",
    "            idxes = list(range(self.n_tiles))\n",
    "        if not self.fmap:\n",
    "            n_row_tiles = int(np.sqrt(self.n_tiles))\n",
    "            images = np.zeros((image_size * n_row_tiles, image_size * n_row_tiles, 3))\n",
    "            for h in range(n_row_tiles):\n",
    "                for w in range(n_row_tiles):\n",
    "                    i = h * n_row_tiles + w\n",
    "                    if len(tiles) > idxes[i]:\n",
    "                        this_img = tiles[idxes[i]]['img']\n",
    "                    else:\n",
    "                        this_img = np.ones((self.image_size, self.image_size, 3)).astype(np.uint8) * 255\n",
    "                    this_img = 255 - this_img\n",
    "                    if self.transform is not None:\n",
    "                        this_img = self.transform(image=this_img)['image']\n",
    "                    h1 = h * image_size\n",
    "                    w1 = w * image_size\n",
    "                    images[h1:h1+image_size, w1:w1+image_size] = this_img\n",
    "            if self.transform is not None:\n",
    "                images = self.transform(image=images)['image']\n",
    "            images = images.astype(np.float32)\n",
    "            images /= 255\n",
    "            images = images.transpose(2, 0, 1)\n",
    "        else:\n",
    "            images = []\n",
    "            for i in idxes:\n",
    "                this_img = tiles[idxes[i]]['img']\n",
    "                this_img = 255 - this_img\n",
    "                if self.transform is not None:\n",
    "                        this_img = self.transform(image=this_img)['image']\n",
    "                this_img = this_img.astype(np.float32)\n",
    "                this_img /= 255\n",
    "                this_img = this_img.transpose(2, 0, 1)\n",
    "                images.append(this_img)    \n",
    "        label = np.zeros(5).astype(np.float32)\n",
    "        label[:row.isup_grade] = 1.\n",
    "        return torch.tensor(images), torch.tensor(label)"
   ]
  },
  {
   "cell_type": "code",
   "execution_count": 7,
   "metadata": {},
   "outputs": [],
   "source": [
    "transforms_train = albumentations.Compose([\n",
    "    albumentations.Transpose(p=0.5),\n",
    "    albumentations.VerticalFlip(p=0.5),\n",
    "    albumentations.HorizontalFlip(p=0.5),\n",
    "])\n",
    "transforms_val = albumentations.Compose([])"
   ]
  },
  {
   "cell_type": "code",
   "execution_count": 8,
   "metadata": {},
   "outputs": [
    {
     "data": {
      "image/png": "[encoded data removed]",
      "text/plain": [
       "<Figure size 1152x288 with 8 Axes>"
      ]
     },
     "metadata": {
      "needs_background": "light"
     },
     "output_type": "display_data"
    }
   ],
   "source": [
    "dataset_show = PANDADataset(df_train, image_size, n_tiles, 0, transform=transforms_train, fmap=FMAP)\n",
    "from pylab import rcParams\n",
    "rcParams['figure.figsize'] = (16, 4)\n",
    "if FMAP:\n",
    "    f, axarr = plt.subplots(1, n_tiles)\n",
    "    imgs, label = dataset_show.__getitem__(0)\n",
    "    for t in range(n_tiles):\n",
    "        axarr[t].imshow(1. - imgs[t].transpose(0, 1).transpose(1,2).squeeze())\n",
    "        axarr[t].set_title(str(sum(label)))\n",
    "else:\n",
    "    f, axarr = plt.subplots(1, batch_size)\n",
    "    for i in range(batch_size):\n",
    "        img, label = dataset_show.__getitem__(i)\n",
    "        axarr[i].imshow(1. - img.transpose(0, 1).transpose(1,2).squeeze())\n",
    "        axarr[i].set_title(str(sum(label)))"
   ]
  },
  {
   "cell_type": "code",
   "execution_count": 9,
   "metadata": {},
   "outputs": [],
   "source": [
    "criterion = nn.BCEWithLogitsLoss()\n",
    "def train_epoch(loader, optimizer):\n",
    "    model.train()\n",
    "    train_loss = []\n",
    "    bar = tqdm(loader)\n",
    "    for (data, target) in bar:\n",
    "        data, target = data.to(device), target.to(device)\n",
    "        loss_func = criterion\n",
    "        optimizer.zero_grad()\n",
    "        logits = model(data)\n",
    "        loss = loss_func(logits, target)\n",
    "        with amp.scale_loss(loss, optimizer) as scaled_loss:\n",
    "            scaled_loss.backward()\n",
    "        #loss.backward()\n",
    "        optimizer.step()\n",
    "        loss_np = loss.detach().cpu().numpy()\n",
    "        train_loss.append(loss_np)\n",
    "        smooth_loss = sum(train_loss[-100:]) / min(len(train_loss), 100)\n",
    "        bar.set_description('loss: %.5f, smth: %.5f' % (loss_np, smooth_loss))\n",
    "    return train_loss\n",
    "def val_epoch(loader, get_output=False):\n",
    "    model.eval()\n",
    "    val_loss = []\n",
    "    LOGITS = []\n",
    "    PREDS = []\n",
    "    TARGETS = []\n",
    "    with torch.no_grad():\n",
    "        for (data, target) in tqdm(loader):\n",
    "            data, target = data.to(device), target.to(device)\n",
    "            logits = model(data)\n",
    "            loss = criterion(logits, target)\n",
    "            pred = logits.sigmoid().sum(1).detach().round()\n",
    "            LOGITS.append(logits)\n",
    "            PREDS.append(pred)\n",
    "            TARGETS.append(target.sum(1))\n",
    "            val_loss.append(loss.detach().cpu().numpy())\n",
    "        val_loss = np.mean(val_loss)\n",
    "    LOGITS = torch.cat(LOGITS).cpu().numpy()\n",
    "    PREDS = torch.cat(PREDS).cpu().numpy()\n",
    "    TARGETS = torch.cat(TARGETS).cpu().numpy()\n",
    "    acc = (PREDS == TARGETS).mean() * 100.\n",
    "    qwk = cohen_kappa_score(PREDS, TARGETS, weights='quadratic')\n",
    "    qwk_k = cohen_kappa_score(\n",
    "        PREDS[df_valid['data_provider'] == 'karolinska'], \n",
    "        df_valid[df_valid['data_provider'] == 'karolinska'].isup_grade.values, \n",
    "        weights='quadratic'\n",
    "    )\n",
    "    qwk_r = cohen_kappa_score(\n",
    "        PREDS[df_valid['data_provider'] == 'radboud'], \n",
    "        df_valid[df_valid['data_provider'] == 'radboud'].isup_grade.values, \n",
    "        weights='quadratic'\n",
    "    )\n",
    "    print('qwk', qwk, 'qwk_k', qwk_k, 'qwk_r', qwk_r)\n",
    "    if get_output:\n",
    "        return LOGITS\n",
    "    else:\n",
    "        return val_loss, acc, qwk"
   ]
  },
  {
   "cell_type": "code",
   "execution_count": 10,
   "metadata": {},
   "outputs": [
    {
     "name": "stdout",
     "output_type": "stream",
     "text": [
      "Loaded pretrained weights for efficientnet-b0\n",
      "Selected optimization level O1:  Insert automatic casts around Pytorch functions and Tensor methods.\n",
      "\n",
      "Defaults for this optimization level are:\n",
      "enabled                : True\n",
      "opt_level              : O1\n",
      "cast_model_type        : None\n",
      "patch_torch_functions  : True\n",
      "keep_batchnorm_fp32    : None\n",
      "master_weights         : None\n",
      "loss_scale             : dynamic\n",
      "Processing user overrides (additional kwargs that are not None)...\n",
      "After processing overrides, optimization options are:\n",
      "enabled                : True\n",
      "opt_level              : O1\n",
      "cast_model_type        : None\n",
      "patch_torch_functions  : True\n",
      "keep_batchnorm_fp32    : None\n",
      "master_weights         : None\n",
      "loss_scale             : dynamic\n",
      "Warning:  multi_tensor_applier fused unscale kernel is unavailable, possibly because apex was installed without --cuda_ext --cpp_ext. Using Python fallback.  Original ImportError was: ModuleNotFoundError(\"No module named 'amp_C'\")\n",
      "8412 2104\n"
     ]
    }
   ],
   "source": [
    "train_idx = np.where((df_train['fold'] != fold))[0]\n",
    "valid_idx = np.where((df_train['fold'] == fold))[0]\n",
    "df_this  = df_train.loc[train_idx]\n",
    "df_valid = df_train.loc[valid_idx]\n",
    "dataset_train = PANDADataset(\n",
    "    df_this , \n",
    "    image_size, \n",
    "    n_tiles, \n",
    "    transform=transforms_train\n",
    ")\n",
    "dataset_valid = PANDADataset(\n",
    "    df_valid, \n",
    "    image_size, \n",
    "    n_tiles, \n",
    "    transform=transforms_val\n",
    ")\n",
    "train_loader = torch.utils.data.DataLoader(\n",
    "    dataset_train, \n",
    "    batch_size=batch_size, \n",
    "    sampler=RandomSampler(dataset_train), \n",
    "    num_workers=N_WORKERS\n",
    ")\n",
    "valid_loader = torch.utils.data.DataLoader(\n",
    "    dataset_valid, \n",
    "    batch_size=batch_size, \n",
    "    sampler=SequentialSampler(dataset_valid), \n",
    "    num_workers=N_WORKERS\n",
    ")\n",
    "if not FMAP:\n",
    "    model = EffNet(enet_type, out_dim=out_dim)\n",
    "else:\n",
    "    model = EffNetFMap(enet_type, out_dim=out_dim)\n",
    "model = model.to(device)\n",
    "#optimizer = optim.Adam(model.parameters(), lr=init_lr / warmup_factor)\n",
    "#scheduler_cosine = torch.optim.lr_scheduler.CosineAnnealingLR(optimizer, T_max=n_epochs - warmup_epo)\n",
    "optimizer = optim.Adam(model.parameters(), lr=init_lr)\n",
    "model, optimizer = amp.initialize(model, optimizer, opt_level='O1')\n",
    "scheduler = torch.optim.lr_scheduler.CosineAnnealingLR(optimizer, T_max=n_epochs)\n",
    "#scheduler = optim.lr_scheduler.OneCycleLR(\n",
    "#    optimizer, \n",
    "#    epochs=n_epochs, \n",
    "#    steps_per_epoch=len(train_loader),\n",
    "#    max_lr=init_lr, \n",
    "#    pct_start=0.3, \n",
    "#    div_factor=100,\n",
    "#    final_div_factor=1e4\n",
    "#)\n",
    "#scheduler = GradualWarmupScheduler(\n",
    "#    optimizer, \n",
    "#    multiplier=warmup_factor, \n",
    "#    total_epoch=warmup_epo, \n",
    "#    after_scheduler=scheduler_cosine\n",
    "#)\n",
    "print(len(dataset_train), len(dataset_valid))"
   ]
  },
  {
   "cell_type": "code",
   "execution_count": null,
   "metadata": {},
   "outputs": [
    {
     "name": "stdout",
     "output_type": "stream",
     "text": [
      "Tue Jun 30 19:34:42 2020 Epoch: 1\n"
     ]
    },
    {
     "data": {
      "application/vnd.jupyter.widget-view+json": {
       "model_id": "89ad61d431f947d987d12e21e9a9a1bd",
       "version_major": 2,
       "version_minor": 0
      },
      "text/plain": [
       "HBox(children=(FloatProgress(value=0.0, max=1052.0), HTML(value='')))"
      ]
     },
     "metadata": {},
     "output_type": "display_data"
    },
    {
     "name": "stdout",
     "output_type": "stream",
     "text": [
      "Gradient overflow.  Skipping step, loss scaler 0 reducing loss scale to 32768.0\n",
      "Gradient overflow.  Skipping step, loss scaler 0 reducing loss scale to 16384.0\n",
      "\n"
     ]
    },
    {
     "data": {
      "application/vnd.jupyter.widget-view+json": {
       "model_id": "87b18ae7f6bf490dbad35806dcfd38b1",
       "version_major": 2,
       "version_minor": 0
      },
      "text/plain": [
       "HBox(children=(FloatProgress(value=0.0, max=263.0), HTML(value='')))"
      ]
     },
     "metadata": {},
     "output_type": "display_data"
    },
    {
     "name": "stdout",
     "output_type": "stream",
     "text": [
      "\n",
      "qwk 0.755540829272893 qwk_k 0.7236015011637832 qwk_r 0.7045135044351277\n",
      "Tue Jun 30 19:48:31 2020 Epoch 1, lr: 0.0003000, train loss: 0.38088, val loss: 0.29953, acc: 48.47909, qwk: 0.75554\n",
      "score2 (0.000000 --> 0.755541).  Saving model ...\n",
      "Tue Jun 30 19:48:31 2020 Epoch: 2\n"
     ]
    },
    {
     "data": {
      "application/vnd.jupyter.widget-view+json": {
       "model_id": "249fd10b070c4f9b9097c70cab4038ff",
       "version_major": 2,
       "version_minor": 0
      },
      "text/plain": [
       "HBox(children=(FloatProgress(value=0.0, max=1052.0), HTML(value='')))"
      ]
     },
     "metadata": {},
     "output_type": "display_data"
    },
    {
     "name": "stdout",
     "output_type": "stream",
     "text": [
      "\n"
     ]
    },
    {
     "data": {
      "application/vnd.jupyter.widget-view+json": {
       "model_id": "35d7080c721e43828a35db86c28a23f6",
       "version_major": 2,
       "version_minor": 0
      },
      "text/plain": [
       "HBox(children=(FloatProgress(value=0.0, max=263.0), HTML(value='')))"
      ]
     },
     "metadata": {},
     "output_type": "display_data"
    },
    {
     "name": "stdout",
     "output_type": "stream",
     "text": [
      "\n",
      "qwk 0.8309540033670502 qwk_k 0.8117124901930513 qwk_r 0.7965005167807484\n",
      "Tue Jun 30 20:02:08 2020 Epoch 2, lr: 0.0002995, train loss: 0.29698, val loss: 0.28528, acc: 54.94297, qwk: 0.83095\n",
      "score2 (0.755541 --> 0.830954).  Saving model ...\n",
      "Tue Jun 30 20:02:08 2020 Epoch: 3\n"
     ]
    },
    {
     "data": {
      "application/vnd.jupyter.widget-view+json": {
       "model_id": "f98c3e7811e143f5a1f475eb4ed042a8",
       "version_major": 2,
       "version_minor": 0
      },
      "text/plain": [
       "HBox(children=(FloatProgress(value=0.0, max=1052.0), HTML(value='')))"
      ]
     },
     "metadata": {},
     "output_type": "display_data"
    },
    {
     "name": "stdout",
     "output_type": "stream",
     "text": [
      "\n"
     ]
    },
    {
     "data": {
      "application/vnd.jupyter.widget-view+json": {
       "model_id": "ad8f46d0606843119804cb930c7c4b37",
       "version_major": 2,
       "version_minor": 0
      },
      "text/plain": [
       "HBox(children=(FloatProgress(value=0.0, max=263.0), HTML(value='')))"
      ]
     },
     "metadata": {},
     "output_type": "display_data"
    },
    {
     "name": "stdout",
     "output_type": "stream",
     "text": [
      "\n",
      "qwk 0.8352763805783137 qwk_k 0.8186061544460268 qwk_r 0.805128890488856\n",
      "Tue Jun 30 20:15:44 2020 Epoch 3, lr: 0.0002982, train loss: 0.26748, val loss: 0.28158, acc: 56.22624, qwk: 0.83528\n",
      "score2 (0.830954 --> 0.835276).  Saving model ...\n",
      "Tue Jun 30 20:15:44 2020 Epoch: 4\n"
     ]
    },
    {
     "data": {
      "application/vnd.jupyter.widget-view+json": {
       "model_id": "3c9d24eb24a449c9928b359a65ab5f82",
       "version_major": 2,
       "version_minor": 0
      },
      "text/plain": [
       "HBox(children=(FloatProgress(value=0.0, max=1052.0), HTML(value='')))"
      ]
     },
     "metadata": {},
     "output_type": "display_data"
    },
    {
     "name": "stdout",
     "output_type": "stream",
     "text": [
      "Gradient overflow.  Skipping step, loss scaler 0 reducing loss scale to 16384.0\n",
      "\n"
     ]
    },
    {
     "data": {
      "application/vnd.jupyter.widget-view+json": {
       "model_id": "7a5092cce6254cbbadd47c42b505102e",
       "version_major": 2,
       "version_minor": 0
      },
      "text/plain": [
       "HBox(children=(FloatProgress(value=0.0, max=263.0), HTML(value='')))"
      ]
     },
     "metadata": {},
     "output_type": "display_data"
    },
    {
     "name": "stdout",
     "output_type": "stream",
     "text": [
      "\n",
      "qwk 0.8464460724482381 qwk_k 0.8460929841410437 qwk_r 0.8032328697157288\n",
      "Tue Jun 30 20:29:22 2020 Epoch 4, lr: 0.0002959, train loss: 0.25137, val loss: 0.27830, acc: 55.84601, qwk: 0.84645\n",
      "score2 (0.835276 --> 0.846446).  Saving model ...\n",
      "Tue Jun 30 20:29:22 2020 Epoch: 5\n"
     ]
    },
    {
     "data": {
      "application/vnd.jupyter.widget-view+json": {
       "model_id": "ec171b7e3bab48888e514889879ff38b",
       "version_major": 2,
       "version_minor": 0
      },
      "text/plain": [
       "HBox(children=(FloatProgress(value=0.0, max=1052.0), HTML(value='')))"
      ]
     },
     "metadata": {},
     "output_type": "display_data"
    },
    {
     "name": "stdout",
     "output_type": "stream",
     "text": [
      "\n"
     ]
    },
    {
     "data": {
      "application/vnd.jupyter.widget-view+json": {
       "model_id": "7ae9971486fc43839d2b8e10dd9c03bc",
       "version_major": 2,
       "version_minor": 0
      },
      "text/plain": [
       "HBox(children=(FloatProgress(value=0.0, max=263.0), HTML(value='')))"
      ]
     },
     "metadata": {},
     "output_type": "display_data"
    },
    {
     "name": "stdout",
     "output_type": "stream",
     "text": [
      "\n",
      "qwk 0.7581077506484136 qwk_k 0.7450682825760201 qwk_r 0.6967284698025122\n",
      "Tue Jun 30 20:42:58 2020 Epoch 5, lr: 0.0002927, train loss: 0.23898, val loss: 0.31024, acc: 52.75665, qwk: 0.75811\n",
      "Tue Jun 30 20:42:58 2020 Epoch: 6\n"
     ]
    },
    {
     "data": {
      "application/vnd.jupyter.widget-view+json": {
       "model_id": "556497303c474f3391963801104f4a78",
       "version_major": 2,
       "version_minor": 0
      },
      "text/plain": [
       "HBox(children=(FloatProgress(value=0.0, max=1052.0), HTML(value='')))"
      ]
     },
     "metadata": {},
     "output_type": "display_data"
    },
    {
     "name": "stdout",
     "output_type": "stream",
     "text": [
      "Gradient overflow.  Skipping step, loss scaler 0 reducing loss scale to 16384.0\n",
      "Gradient overflow.  Skipping step, loss scaler 0 reducing loss scale to 8192.0\n",
      "\n"
     ]
    },
    {
     "data": {
      "application/vnd.jupyter.widget-view+json": {
       "model_id": "b69f1dab73d7494ca8f408d6855c4ed0",
       "version_major": 2,
       "version_minor": 0
      },
      "text/plain": [
       "HBox(children=(FloatProgress(value=0.0, max=263.0), HTML(value='')))"
      ]
     },
     "metadata": {},
     "output_type": "display_data"
    },
    {
     "name": "stdout",
     "output_type": "stream",
     "text": [
      "\n",
      "qwk 0.8100276243729394 qwk_k 0.800901104860448 qwk_r 0.7713046338189673\n",
      "Tue Jun 30 20:56:35 2020 Epoch 6, lr: 0.0002886, train loss: 0.22909, val loss: 0.27652, acc: 59.22053, qwk: 0.81003\n",
      "Tue Jun 30 20:56:35 2020 Epoch: 7\n"
     ]
    },
    {
     "data": {
      "application/vnd.jupyter.widget-view+json": {
       "model_id": "47ec7771b67a409e898dba35c64baec7",
       "version_major": 2,
       "version_minor": 0
      },
      "text/plain": [
       "HBox(children=(FloatProgress(value=0.0, max=1052.0), HTML(value='')))"
      ]
     },
     "metadata": {},
     "output_type": "display_data"
    },
    {
     "name": "stdout",
     "output_type": "stream",
     "text": [
      "\n"
     ]
    },
    {
     "data": {
      "application/vnd.jupyter.widget-view+json": {
       "model_id": "93d9a45b78664e7a9486318e87336cf7",
       "version_major": 2,
       "version_minor": 0
      },
      "text/plain": [
       "HBox(children=(FloatProgress(value=0.0, max=263.0), HTML(value='')))"
      ]
     },
     "metadata": {},
     "output_type": "display_data"
    },
    {
     "name": "stdout",
     "output_type": "stream",
     "text": [
      "\n",
      "qwk 0.8571570452727774 qwk_k 0.8510009657113247 qwk_r 0.8266181155215055\n",
      "Tue Jun 30 21:10:11 2020 Epoch 7, lr: 0.0002837, train loss: 0.21759, val loss: 0.23593, acc: 61.97719, qwk: 0.85716\n",
      "score2 (0.846446 --> 0.857157).  Saving model ...\n",
      "Tue Jun 30 21:10:11 2020 Epoch: 8\n"
     ]
    },
    {
     "data": {
      "application/vnd.jupyter.widget-view+json": {
       "model_id": "179a6f97020c40589993b3fa533a4aa2",
       "version_major": 2,
       "version_minor": 0
      },
      "text/plain": [
       "HBox(children=(FloatProgress(value=0.0, max=1052.0), HTML(value='')))"
      ]
     },
     "metadata": {},
     "output_type": "display_data"
    },
    {
     "name": "stdout",
     "output_type": "stream",
     "text": [
      "\n"
     ]
    },
    {
     "data": {
      "application/vnd.jupyter.widget-view+json": {
       "model_id": "26d177ca848942b1a810e7a7000e044f",
       "version_major": 2,
       "version_minor": 0
      },
      "text/plain": [
       "HBox(children=(FloatProgress(value=0.0, max=263.0), HTML(value='')))"
      ]
     },
     "metadata": {},
     "output_type": "display_data"
    },
    {
     "name": "stdout",
     "output_type": "stream",
     "text": [
      "\n",
      "qwk 0.8466812524929254 qwk_k 0.8290948298205418 qwk_r 0.81501205120233\n",
      "Tue Jun 30 21:23:48 2020 Epoch 8, lr: 0.0002779, train loss: 0.21479, val loss: 0.23109, acc: 60.93156, qwk: 0.84668\n",
      "Tue Jun 30 21:23:48 2020 Epoch: 9\n"
     ]
    },
    {
     "data": {
      "application/vnd.jupyter.widget-view+json": {
       "model_id": "ab158d7a1da5437691ca0323e71d1570",
       "version_major": 2,
       "version_minor": 0
      },
      "text/plain": [
       "HBox(children=(FloatProgress(value=0.0, max=1052.0), HTML(value='')))"
      ]
     },
     "metadata": {},
     "output_type": "display_data"
    },
    {
     "name": "stdout",
     "output_type": "stream",
     "text": [
      "\n"
     ]
    },
    {
     "data": {
      "application/vnd.jupyter.widget-view+json": {
       "model_id": "945b7784d8c54e3f8c1fb4f2b68de0ee",
       "version_major": 2,
       "version_minor": 0
      },
      "text/plain": [
       "HBox(children=(FloatProgress(value=0.0, max=263.0), HTML(value='')))"
      ]
     },
     "metadata": {},
     "output_type": "display_data"
    },
    {
     "name": "stdout",
     "output_type": "stream",
     "text": [
      "\n",
      "qwk 0.8401882486460517 qwk_k 0.8478961276388929 qwk_r 0.7817718555573878\n",
      "Tue Jun 30 21:37:25 2020 Epoch 9, lr: 0.0002714, train loss: 0.20152, val loss: 0.22483, acc: 58.17490, qwk: 0.84019\n",
      "Tue Jun 30 21:37:25 2020 Epoch: 10\n"
     ]
    },
    {
     "data": {
      "application/vnd.jupyter.widget-view+json": {
       "model_id": "d4dbd41da22445c6ba4928cfa05f7552",
       "version_major": 2,
       "version_minor": 0
      },
      "text/plain": [
       "HBox(children=(FloatProgress(value=0.0, max=1052.0), HTML(value='')))"
      ]
     },
     "metadata": {},
     "output_type": "display_data"
    },
    {
     "name": "stdout",
     "output_type": "stream",
     "text": [
      "Gradient overflow.  Skipping step, loss scaler 0 reducing loss scale to 16384.0\n",
      "\n"
     ]
    },
    {
     "data": {
      "application/vnd.jupyter.widget-view+json": {
       "model_id": "da2ea88076ed440599836cedcac4504a",
       "version_major": 2,
       "version_minor": 0
      },
      "text/plain": [
       "HBox(children=(FloatProgress(value=0.0, max=263.0), HTML(value='')))"
      ]
     },
     "metadata": {},
     "output_type": "display_data"
    },
    {
     "name": "stdout",
     "output_type": "stream",
     "text": [
      "\n",
      "qwk 0.8204451646068885 qwk_k 0.8248515496224003 qwk_r 0.7593981544615664\n",
      "Tue Jun 30 21:51:02 2020 Epoch 10, lr: 0.0002641, train loss: 0.19322, val loss: 0.27233, acc: 54.42015, qwk: 0.82045\n",
      "Tue Jun 30 21:51:02 2020 Epoch: 11\n"
     ]
    },
    {
     "data": {
      "application/vnd.jupyter.widget-view+json": {
       "model_id": "f324edf55f7748ce93912b6ce3861595",
       "version_major": 2,
       "version_minor": 0
      },
      "text/plain": [
       "HBox(children=(FloatProgress(value=0.0, max=1052.0), HTML(value='')))"
      ]
     },
     "metadata": {},
     "output_type": "display_data"
    },
    {
     "name": "stdout",
     "output_type": "stream",
     "text": [
      "\n"
     ]
    },
    {
     "data": {
      "application/vnd.jupyter.widget-view+json": {
       "model_id": "f00ccff3b1f34bdb8296a1971f7abb49",
       "version_major": 2,
       "version_minor": 0
      },
      "text/plain": [
       "HBox(children=(FloatProgress(value=0.0, max=263.0), HTML(value='')))"
      ]
     },
     "metadata": {},
     "output_type": "display_data"
    },
    {
     "name": "stdout",
     "output_type": "stream",
     "text": [
      "\n",
      "qwk 0.8679870815639111 qwk_k 0.847041723801435 qwk_r 0.8503133583504198\n",
      "Tue Jun 30 22:04:38 2020 Epoch 11, lr: 0.0002561, train loss: 0.18890, val loss: 0.22763, acc: 62.73764, qwk: 0.86799\n",
      "score2 (0.857157 --> 0.867987).  Saving model ...\n",
      "Tue Jun 30 22:04:38 2020 Epoch: 12\n"
     ]
    },
    {
     "data": {
      "application/vnd.jupyter.widget-view+json": {
       "model_id": "7e88e4a58a5f42f5bffbf774cf281bd7",
       "version_major": 2,
       "version_minor": 0
      },
      "text/plain": [
       "HBox(children=(FloatProgress(value=0.0, max=1052.0), HTML(value='')))"
      ]
     },
     "metadata": {},
     "output_type": "display_data"
    },
    {
     "name": "stdout",
     "output_type": "stream",
     "text": [
      "Gradient overflow.  Skipping step, loss scaler 0 reducing loss scale to 16384.0\n",
      "Gradient overflow.  Skipping step, loss scaler 0 reducing loss scale to 8192.0\n",
      "\n"
     ]
    },
    {
     "data": {
      "application/vnd.jupyter.widget-view+json": {
       "model_id": "e6f94e1a71cb4f1da71c4c523ce5f94b",
       "version_major": 2,
       "version_minor": 0
      },
      "text/plain": [
       "HBox(children=(FloatProgress(value=0.0, max=263.0), HTML(value='')))"
      ]
     },
     "metadata": {},
     "output_type": "display_data"
    },
    {
     "name": "stdout",
     "output_type": "stream",
     "text": [
      "\n",
      "qwk 0.8643306366844252 qwk_k 0.862319181192524 qwk_r 0.829468966192601\n",
      "Tue Jun 30 22:18:15 2020 Epoch 12, lr: 0.0002474, train loss: 0.18139, val loss: 0.22466, acc: 62.64259, qwk: 0.86433\n",
      "Tue Jun 30 22:18:15 2020 Epoch: 13\n"
     ]
    },
    {
     "data": {
      "application/vnd.jupyter.widget-view+json": {
       "model_id": "760bac787e86468fb155fe8bdd27cc15",
       "version_major": 2,
       "version_minor": 0
      },
      "text/plain": [
       "HBox(children=(FloatProgress(value=0.0, max=1052.0), HTML(value='')))"
      ]
     },
     "metadata": {},
     "output_type": "display_data"
    },
    {
     "name": "stdout",
     "output_type": "stream",
     "text": [
      "\n"
     ]
    },
    {
     "data": {
      "application/vnd.jupyter.widget-view+json": {
       "model_id": "dc392246294e4233b39f748433048dcd",
       "version_major": 2,
       "version_minor": 0
      },
      "text/plain": [
       "HBox(children=(FloatProgress(value=0.0, max=263.0), HTML(value='')))"
      ]
     },
     "metadata": {},
     "output_type": "display_data"
    },
    {
     "name": "stdout",
     "output_type": "stream",
     "text": [
      "\n",
      "qwk 0.7990830219946164 qwk_k 0.798411092757733 qwk_r 0.7582434722929903\n",
      "Tue Jun 30 22:31:51 2020 Epoch 13, lr: 0.0002382, train loss: 0.17344, val loss: 0.33475, acc: 61.73954, qwk: 0.79908\n",
      "Tue Jun 30 22:31:51 2020 Epoch: 14\n"
     ]
    },
    {
     "data": {
      "application/vnd.jupyter.widget-view+json": {
       "model_id": "cfd5dfc8ab574bf5bf41f3f2686e954d",
       "version_major": 2,
       "version_minor": 0
      },
      "text/plain": [
       "HBox(children=(FloatProgress(value=0.0, max=1052.0), HTML(value='')))"
      ]
     },
     "metadata": {},
     "output_type": "display_data"
    },
    {
     "name": "stdout",
     "output_type": "stream",
     "text": [
      "\n"
     ]
    },
    {
     "data": {
      "application/vnd.jupyter.widget-view+json": {
       "model_id": "07d689574aa947209163dccb9a3ed13b",
       "version_major": 2,
       "version_minor": 0
      },
      "text/plain": [
       "HBox(children=(FloatProgress(value=0.0, max=263.0), HTML(value='')))"
      ]
     },
     "metadata": {},
     "output_type": "display_data"
    },
    {
     "name": "stdout",
     "output_type": "stream",
     "text": [
      "\n",
      "qwk 0.8620583558182449 qwk_k 0.8635531301218033 qwk_r 0.8199454317931605\n",
      "Tue Jun 30 22:45:27 2020 Epoch 14, lr: 0.0002284, train loss: 0.16710, val loss: 0.21845, acc: 65.25665, qwk: 0.86206\n",
      "Tue Jun 30 22:45:27 2020 Epoch: 15\n"
     ]
    },
    {
     "data": {
      "application/vnd.jupyter.widget-view+json": {
       "model_id": "f892f8b5b66a4028b70635885dedb3f0",
       "version_major": 2,
       "version_minor": 0
      },
      "text/plain": [
       "HBox(children=(FloatProgress(value=0.0, max=1052.0), HTML(value='')))"
      ]
     },
     "metadata": {},
     "output_type": "display_data"
    },
    {
     "name": "stdout",
     "output_type": "stream",
     "text": [
      "\n"
     ]
    },
    {
     "data": {
      "application/vnd.jupyter.widget-view+json": {
       "model_id": "f73876e42e294ece9fecaee950c794d6",
       "version_major": 2,
       "version_minor": 0
      },
      "text/plain": [
       "HBox(children=(FloatProgress(value=0.0, max=263.0), HTML(value='')))"
      ]
     },
     "metadata": {},
     "output_type": "display_data"
    },
    {
     "name": "stdout",
     "output_type": "stream",
     "text": [
      "\n",
      "qwk 0.861767627527793 qwk_k 0.8647661556573594 qwk_r 0.824153069091939\n",
      "Tue Jun 30 22:59:04 2020 Epoch 15, lr: 0.0002181, train loss: 0.15950, val loss: 0.25382, acc: 67.25285, qwk: 0.86177\n",
      "Tue Jun 30 22:59:04 2020 Epoch: 16\n"
     ]
    },
    {
     "data": {
      "application/vnd.jupyter.widget-view+json": {
       "model_id": "5335ddb5c8fd46f797f7a52cf6379360",
       "version_major": 2,
       "version_minor": 0
      },
      "text/plain": [
       "HBox(children=(FloatProgress(value=0.0, max=1052.0), HTML(value='')))"
      ]
     },
     "metadata": {},
     "output_type": "display_data"
    },
    {
     "name": "stdout",
     "output_type": "stream",
     "text": [
      "Gradient overflow.  Skipping step, loss scaler 0 reducing loss scale to 16384.0\n",
      "\n"
     ]
    },
    {
     "data": {
      "application/vnd.jupyter.widget-view+json": {
       "model_id": "78592f6e0a744ecf9fe46b15c3004b5e",
       "version_major": 2,
       "version_minor": 0
      },
      "text/plain": [
       "HBox(children=(FloatProgress(value=0.0, max=263.0), HTML(value='')))"
      ]
     },
     "metadata": {},
     "output_type": "display_data"
    },
    {
     "name": "stdout",
     "output_type": "stream",
     "text": [
      "\n",
      "qwk 0.8650416441513018 qwk_k 0.8660131756644185 qwk_r 0.8255205666822041\n",
      "Tue Jun 30 23:12:41 2020 Epoch 16, lr: 0.0002074, train loss: 0.14723, val loss: 0.25020, acc: 65.11407, qwk: 0.86504\n",
      "Tue Jun 30 23:12:41 2020 Epoch: 17\n"
     ]
    },
    {
     "data": {
      "application/vnd.jupyter.widget-view+json": {
       "model_id": "c0bc4741b78e4a99bdc48e3b7e0b1ec8",
       "version_major": 2,
       "version_minor": 0
      },
      "text/plain": [
       "HBox(children=(FloatProgress(value=0.0, max=1052.0), HTML(value='')))"
      ]
     },
     "metadata": {},
     "output_type": "display_data"
    },
    {
     "name": "stdout",
     "output_type": "stream",
     "text": [
      "Gradient overflow.  Skipping step, loss scaler 0 reducing loss scale to 8192.0\n",
      "\n"
     ]
    },
    {
     "data": {
      "application/vnd.jupyter.widget-view+json": {
       "model_id": "b0ada584e68d4c9e981a54cc712f45fe",
       "version_major": 2,
       "version_minor": 0
      },
      "text/plain": [
       "HBox(children=(FloatProgress(value=0.0, max=263.0), HTML(value='')))"
      ]
     },
     "metadata": {},
     "output_type": "display_data"
    },
    {
     "name": "stdout",
     "output_type": "stream",
     "text": [
      "\n",
      "qwk 0.8705451291398189 qwk_k 0.8667090986024808 qwk_r 0.8394231734420199\n",
      "Tue Jun 30 23:26:18 2020 Epoch 17, lr: 0.0001964, train loss: 0.14738, val loss: 0.23055, acc: 69.10646, qwk: 0.87055\n",
      "score2 (0.867987 --> 0.870545).  Saving model ...\n",
      "Tue Jun 30 23:26:18 2020 Epoch: 18\n"
     ]
    },
    {
     "data": {
      "application/vnd.jupyter.widget-view+json": {
       "model_id": "c19010b5305c43ec9a63f44182f88c4b",
       "version_major": 2,
       "version_minor": 0
      },
      "text/plain": [
       "HBox(children=(FloatProgress(value=0.0, max=1052.0), HTML(value='')))"
      ]
     },
     "metadata": {},
     "output_type": "display_data"
    },
    {
     "name": "stdout",
     "output_type": "stream",
     "text": [
      "\n"
     ]
    },
    {
     "data": {
      "application/vnd.jupyter.widget-view+json": {
       "model_id": "a8086eb6ff5a4cd187aa3cac8f4913db",
       "version_major": 2,
       "version_minor": 0
      },
      "text/plain": [
       "HBox(children=(FloatProgress(value=0.0, max=263.0), HTML(value='')))"
      ]
     },
     "metadata": {},
     "output_type": "display_data"
    },
    {
     "name": "stdout",
     "output_type": "stream",
     "text": [
      "\n",
      "qwk 0.8654304599216398 qwk_k 0.8497783593516126 qwk_r 0.8419963911795384\n",
      "Tue Jun 30 23:39:55 2020 Epoch 18, lr: 0.0001850, train loss: 0.13623, val loss: 0.26011, acc: 67.11027, qwk: 0.86543\n",
      "Tue Jun 30 23:39:55 2020 Epoch: 19\n"
     ]
    },
    {
     "data": {
      "application/vnd.jupyter.widget-view+json": {
       "model_id": "3f7ae2ec8c064b439431bd1a564ce421",
       "version_major": 2,
       "version_minor": 0
      },
      "text/plain": [
       "HBox(children=(FloatProgress(value=0.0, max=1052.0), HTML(value='')))"
      ]
     },
     "metadata": {},
     "output_type": "display_data"
    }
   ],
   "source": [
    "qwk_max = 0.\n",
    "best_file = '{}_{}/{}_best_fold{}.pth'.format(MODELS, MODEL_VER, kernel_type, fold)\n",
    "for epoch in range(1, n_epochs + 1):\n",
    "    print(time.ctime(), 'Epoch:', epoch)\n",
    "    scheduler.step(epoch - 1)\n",
    "    train_loss = train_epoch(train_loader, optimizer)\n",
    "    val_loss, acc, qwk = val_epoch(valid_loader)\n",
    "    content = time.ctime() + ' ' + f'Epoch {epoch}, lr: {optimizer.param_groups[0][\"lr\"]:.7f}, train loss: {np.mean(train_loss):.5f}, val loss: {np.mean(val_loss):.5f}, acc: {(acc):.5f}, qwk: {(qwk):.5f}'\n",
    "    print(content)\n",
    "    with open('{}_{}/log_{}.txt'.format(MODELS, MODEL_VER, kernel_type), 'a') as appender:\n",
    "        appender.write(content + '\\n')\n",
    "    if qwk > qwk_max:\n",
    "        print('score2 ({:.6f} --> {:.6f}).  Saving model ...'.format(qwk_max, qwk))\n",
    "        torch.save(model.state_dict(), best_file)\n",
    "        qwk_max = qwk\n",
    "torch.save(\n",
    "    model.state_dict(), \n",
    "    os.path.join('{}_{}/{}_final_fold{}.pth'.format(MODELS, MODEL_VER, kernel_type, fold))\n",
    ")"
   ]
  },
  {
   "cell_type": "code",
   "execution_count": null,
   "metadata": {},
   "outputs": [],
   "source": []
  },
  {
   "cell_type": "code",
   "execution_count": null,
   "metadata": {},
   "outputs": [],
   "source": []
  },
  {
   "cell_type": "code",
   "execution_count": null,
   "metadata": {},
   "outputs": [],
   "source": []
  },
  {
   "cell_type": "code",
   "execution_count": null,
   "metadata": {},
   "outputs": [],
   "source": []
  },
  {
   "cell_type": "code",
   "execution_count": null,
   "metadata": {},
   "outputs": [],
   "source": []
  }
 ],
 "metadata": {
  "kernelspec": {
   "display_name": "Orange Python 3 (2 GPUs)",
   "language": "python",
   "name": "orange2gpu"
  },
  "language_info": {
   "codemirror_mode": {
    "name": "ipython",
    "version": 3
   },
   "file_extension": ".py",
   "mimetype": "text/x-python",
   "name": "python",
   "nbconvert_exporter": "python",
   "pygments_lexer": "ipython3",
   "version": "3.7.6"
  }
 },
 "nbformat": 4,
 "nbformat_minor": 4
}
