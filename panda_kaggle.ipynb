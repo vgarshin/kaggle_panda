{
 "cells": [
  {
   "cell_type": "code",
   "execution_count": null,
   "metadata": {},
   "outputs": [],
   "source": [
    "import os\n",
    "import kaggle\n",
    "import json\n",
    "import shutil"
   ]
  },
  {
   "cell_type": "code",
   "execution_count": null,
   "metadata": {},
   "outputs": [],
   "source": [
    "os.environ['KAGGLE_USERNAME'] = \"vgarshin\" # username from the json file\n",
    "os.environ['KAGGLE_KEY'] = \"557ebb01a859b64a684b3287e9e43217\" # key from the json file\n",
    "kaggle.api.authenticate()"
   ]
  },
  {
   "cell_type": "code",
   "execution_count": null,
   "metadata": {},
   "outputs": [],
   "source": [
    "MODEL_VER = 'v28'\n",
    "MODELS_PATH = './effnet_models_{}'.format(MODEL_VER)\n",
    "DATA_UPLOAD = '{}/kaggle'.format(MODELS_PATH)\n",
    "if not os.path.exists(DATA_UPLOAD):\n",
    "    os.mkdir(DATA_UPLOAD)\n",
    "    print('created:', DATA_UPLOAD)"
   ]
  },
  {
   "cell_type": "code",
   "execution_count": null,
   "metadata": {},
   "outputs": [],
   "source": [
    "for file_name in os.listdir(MODELS_PATH):\n",
    "    if '_best' in file_name:\n",
    "        shutil.move(\n",
    "            '{}/{}'.format(MODELS_PATH, file_name), \n",
    "            '{}/{}'.format(DATA_UPLOAD, file_name)\n",
    "        )\n",
    "        print('moved:', file_name)"
   ]
  },
  {
   "cell_type": "code",
   "execution_count": null,
   "metadata": {},
   "outputs": [],
   "source": [
    "dataset_metadata = {\n",
    "  \"title\": \"PANDA model effnet {}\".format(MODEL_VER),\n",
    "  \"id\": \"vgarshin/pandamodeleffnet-{}\".format(MODEL_VER),\n",
    "  \"licenses\": [\n",
    "    {\n",
    "      \"name\": \"CC0-1.0\"\n",
    "    }\n",
    "  ]\n",
    "}\n",
    "with open('{}/dataset-metadata.json'.format(DATA_UPLOAD), 'w') as file:\n",
    "    json.dump(dataset_metadata, file)"
   ]
  },
  {
   "cell_type": "code",
   "execution_count": null,
   "metadata": {},
   "outputs": [],
   "source": [
    "kaggle.api.dataset_create_new(DATA_UPLOAD)"
   ]
  },
  {
   "cell_type": "code",
   "execution_count": null,
   "metadata": {},
   "outputs": [],
   "source": []
  }
 ],
 "metadata": {
  "kernelspec": {
   "display_name": "Orange Python 3",
   "language": "python",
   "name": "orange"
  },
  "language_info": {
   "codemirror_mode": {
    "name": "ipython",
    "version": 3
   },
   "file_extension": ".py",
   "mimetype": "text/x-python",
   "name": "python",
   "nbconvert_exporter": "python",
   "pygments_lexer": "ipython3",
   "version": "3.7.6"
  }
 },
 "nbformat": 4,
 "nbformat_minor": 4
}
