{
 "cells": [
  {
   "cell_type": "code",
   "execution_count": 1,
   "metadata": {},
   "outputs": [],
   "source": [
    "import os\n",
    "import cv2\n",
    "import skimage.io\n",
    "from tqdm.notebook import tqdm\n",
    "import zipfile\n",
    "import numpy as np"
   ]
  },
  {
   "cell_type": "code",
   "execution_count": 2,
   "metadata": {},
   "outputs": [],
   "source": [
    "sz = 256\n",
    "N = 36\n",
    "TIFF = 1\n",
    "RESIZE = None\n",
    "TRAIN = './data/train_images/'\n",
    "TILES = './data/train_images_tiles_q1_256_36/'\n",
    "MASKS = './data/train_label_masks/'\n",
    "if not os.path.exists(TILES):\n",
    "    os.mkdir(TILES)\n",
    "# tiff=-1 sz=128 N=16 resize=None --> train_images_tiles_128_16\n",
    "# tiff=1 sz=256 N=16 resize=2 --> train_images_tiles_256_16\n",
    "# tiff=1 sz=512 N=16 resize=None --> train_images_tiles_512_16\n",
    "# tiff=1 sz=256 N=36 resize=None --> train_images_tiles_q1_256_36"
   ]
  },
  {
   "cell_type": "code",
   "execution_count": 3,
   "metadata": {},
   "outputs": [],
   "source": [
    "def tile(img):\n",
    "    result = []\n",
    "    shape = img.shape\n",
    "    pad0,pad1 = (sz - shape[0]%sz)%sz, (sz - shape[1]%sz)%sz\n",
    "    img = np.pad(img,[[pad0//2,pad0-pad0//2],[pad1//2,pad1-pad1//2],[0,0]],\n",
    "                constant_values=255)\n",
    "    img = img.reshape(img.shape[0]//sz,sz,img.shape[1]//sz,sz,3)\n",
    "    img = img.transpose(0,2,1,3,4).reshape(-1,sz,sz,3)\n",
    "    if len(img) < N:\n",
    "        img = np.pad(img,[[0,N-len(img)],[0,0],[0,0],[0,0]],constant_values=255)\n",
    "    idxs = np.argsort(img.reshape(img.shape[0],-1).sum(-1))[:N]\n",
    "    img = img[idxs]\n",
    "    for i in range(len(img)):\n",
    "        result.append({'img':img[i], 'idx':i})\n",
    "    return result"
   ]
  },
  {
   "cell_type": "code",
   "execution_count": null,
   "metadata": {},
   "outputs": [
    {
     "data": {
      "application/vnd.jupyter.widget-view+json": {
       "model_id": "07e1c3e9cf5d48b48e56f28f566d723a",
       "version_major": 2,
       "version_minor": 0
      },
      "text/plain": [
       "HBox(children=(FloatProgress(value=0.0, max=10516.0), HTML(value='')))"
      ]
     },
     "metadata": {},
     "output_type": "display_data"
    }
   ],
   "source": [
    "x_tot, x2_tot = [], []\n",
    "names = [name[:-10] for name in os.listdir(MASKS)]\n",
    "for name in tqdm(names):\n",
    "    img = skimage.io.MultiImage(os.path.join(TRAIN, name + '.tiff'))[TIFF]\n",
    "    if RESIZE:\n",
    "        img = cv2.resize(img, (int(img.shape[1] / RESIZE), int(img.shape[0] / RESIZE)))\n",
    "    tiles = tile(img)\n",
    "    for t in tiles:\n",
    "        img, idx = t['img'], t['idx']\n",
    "        x_tot.append((img / 255).reshape(-1, 3).mean(0))\n",
    "        x2_tot.append(((img / 255) ** 2).reshape(-1, 3).mean(0)) \n",
    "        img = cv2.cvtColor(img, cv2.COLOR_BGR2RGB)\n",
    "        is_written = cv2.imwrite(f'{TILES}{name}_{idx}.png', img)\n",
    "        if not is_written:\n",
    "            print('error write to file', f'{TILES}{name}_{idx}.png')"
   ]
  },
  {
   "cell_type": "code",
   "execution_count": null,
   "metadata": {},
   "outputs": [],
   "source": [
    "img_avr =  np.array(x_tot).mean(0)\n",
    "img_std =  np.sqrt(np.array(x2_tot).mean(0) - img_avr ** 2)\n",
    "print('mean:', img_avr, '| std:', np.sqrt(img_std))"
   ]
  },
  {
   "cell_type": "code",
   "execution_count": null,
   "metadata": {},
   "outputs": [],
   "source": []
  }
 ],
 "metadata": {
  "kernelspec": {
   "display_name": "Orange Python 3",
   "language": "python",
   "name": "orange"
  },
  "language_info": {
   "codemirror_mode": {
    "name": "ipython",
    "version": 3
   },
   "file_extension": ".py",
   "mimetype": "text/x-python",
   "name": "python",
   "nbconvert_exporter": "python",
   "pygments_lexer": "ipython3",
   "version": "3.7.6"
  }
 },
 "nbformat": 4,
 "nbformat_minor": 4
}
